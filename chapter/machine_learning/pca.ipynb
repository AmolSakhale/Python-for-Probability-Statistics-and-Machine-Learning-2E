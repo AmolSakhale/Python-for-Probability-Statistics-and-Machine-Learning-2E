{
 "cells": [
  {
   "cell_type": "markdown",
   "metadata": {},
   "source": [
    "<!-- TODO: sklearn.random_projection, sklearn.manifold -->\n",
    "<!-- TODO: subspace optimization discussion -->\n",
    "\n",
    "\n",
    "The features from a particular dataset that will ultimately prove important for\n",
    "machine learning can be difficult to know ahead of time.  This is especially\n",
    "true for problems that do not have a strong physical underpinning. The\n",
    "row-dimension of the input matrix ($X$) for fitting data in Scikit-learn is the\n",
    "number of samples and the column dimension is the number of features. There may\n",
    "be a large number of column dimensions in this matrix, and the purpose of\n",
    "dimensionality reduction is to somehow reduce these to only those columns that\n",
    "are important for the machine learning task.\n",
    "\n",
    "Fortunately, Scikit-learn provides some powerful tools to help uncover the most\n",
    "relevant features.  Principal Component Analysis (PCA) consists of taking\n",
    "the input $X$ matrix and (1) subtracting the mean, (2) computing the covariance\n",
    "matrix, and (3) computing the eigenvalue decomposition of the covariance\n",
    "matrix. For example, if $X$ has more columns than is practicable for a\n",
    "particular learning method, then PCA can reduce the number of columns to a more\n",
    "manageable number.  PCA is widely used in statistics and other areas beyond\n",
    "machine learning, so it is worth examining what it does in some detail. First,\n",
    "we need the decomposition module from Scikit-learn."
   ]
  },
  {
   "cell_type": "code",
   "execution_count": 1,
   "metadata": {
    "collapsed": false
   },
   "outputs": [],
   "source": [
    "from sklearn import decomposition\n",
    "import numpy as np\n",
    "pca = decomposition.PCA()"
   ]
  },
  {
   "cell_type": "markdown",
   "metadata": {},
   "source": [
    " Let's create some very simple data and apply PCA."
   ]
  },
  {
   "cell_type": "code",
   "execution_count": 2,
   "metadata": {
    "collapsed": false
   },
   "outputs": [],
   "source": [
    "x = np.linspace(-1,1,30)\n",
    "X = np.c_[x,x+1,x+2] # stack as columns\n",
    "pca.fit(X)\n",
    "print(pca.explained_variance_ratio_)"
   ]
  },
  {
   "cell_type": "markdown",
   "metadata": {},
   "source": [
    "**Programming Tip.**\n",
    "\n",
    "The `np.c_` is a shorcut method for creating stacked column-wise arrays.\n",
    "\n",
    "\n",
    "\n",
    "\n",
    " In this example, the columns are just constant offsets of the first\n",
    "column. The *explained variance ratio* is the percentage of the variance\n",
    "attributable to the transformed columns of `X`. You can think of this as the\n",
    "information that is relatively concentrated in each column of the transformed\n",
    "matrix `X`. [Figure](#fig:pca_001) shows the graph of this dominant\n",
    "transformed column in the bottom panel.  Note that a constant offset in each of\n",
    "the columns does not change its respective variance and thus, as far as PCA  is\n",
    "concerned, the three columns are identical from an information standpoint."
   ]
  },
  {
   "cell_type": "code",
   "execution_count": 3,
   "metadata": {
    "collapsed": false
   },
   "outputs": [],
   "source": [
    "%matplotlib inline\n",
    "\n",
    "from matplotlib.pylab import subplots\n",
    "fig,axs = subplots(2,1,sharex=True,sharey=True)\n",
    "ax = axs[0]\n",
    "_=ax.plot(x,X[:,0],'-k',lw=3)\n",
    "_=ax.plot(x,X[:,1],'--k',lw=3)\n",
    "_=ax.plot(x,X[:,2],':k',lw=3)\n",
    "ax=axs[1]\n",
    "_=ax.plot(x,pca.fit_transform(X)[:,0],'-k',lw=3)\n",
    "#ax.tick_params(labelsize='x-large')\n",
    "fig.savefig('fig-machine_learning/pca_001.png')"
   ]
  },
  {
   "cell_type": "markdown",
   "metadata": {},
   "source": [
    "<!-- dom:FIGURE: [fig-machine_learning/pca_001.png, width=500 frac=0.75]  The top panel shows the columns of the feature matrix and the bottom panel shows the dominant component that PCA has extracted.  <div id=\"fig:pca_001\"></div> -->\n",
    "<!-- begin figure -->\n",
    "<div id=\"fig:pca_001\"></div>\n",
    "\n",
    "<p>The top panel shows the columns of the feature matrix and the bottom panel shows the dominant component that PCA has extracted.</p>\n",
    "<img src=\"fig-machine_learning/pca_001.png\" width=500>\n",
    "\n",
    "<!-- end figure -->\n",
    "\n",
    "\n",
    "To make this more interesting, let's change the slope of each of the columns as\n",
    "in the following,"
   ]
  },
  {
   "cell_type": "code",
   "execution_count": 4,
   "metadata": {
    "collapsed": false
   },
   "outputs": [],
   "source": [
    "X = np.c_[x,2*x+1,3*x+2,x] # change slopes of columns\n",
    "pca.fit(X)\n",
    "print(pca.explained_variance_ratio_)"
   ]
  },
  {
   "cell_type": "markdown",
   "metadata": {},
   "source": [
    " However, changing the slope did not impact the explained variance\n",
    "ratio. Again, there is still only one dominant column. This means that PCA is\n",
    "invariant to both constant offsets and scale changes. This works for functions\n",
    "as well as simple lines,"
   ]
  },
  {
   "cell_type": "code",
   "execution_count": 5,
   "metadata": {
    "collapsed": false
   },
   "outputs": [],
   "source": [
    "x = np.linspace(-1,1,30)\n",
    "X = np.c_[np.sin(2*np.pi*x),\n",
    "          2*np.sin(2*np.pi*x)+1,\n",
    "          3*np.sin(2*np.pi*x)+2] \n",
    "pca.fit(X)\n",
    "print(pca.explained_variance_ratio_)"
   ]
  },
  {
   "cell_type": "markdown",
   "metadata": {},
   "source": [
    " Once again, there is only one dominant column, which is shown in the\n",
    "bottom panel of [Figure](#fig:pca_002). The top panel shows the individual\n",
    "columns of the feature matrix. To sum up, PCA is able to identify and eliminate\n",
    "features that are merely linear transformations of existing features. This also\n",
    "works when there is additive noise in the features, although more samples are\n",
    "needed to separate the uncorrelated noise from between features.\n",
    "\n",
    "<!-- dom:FIGURE: [fig-machine_learning/pca_002.png, width=500 frac=0.85] The top panel shows the columns of the feature matrix and the bottom panel shows the dominant component that PCA has computed. <div id=\"fig:pca_002\"></div>  -->\n",
    "<!-- begin figure -->\n",
    "<div id=\"fig:pca_002\"></div>\n",
    "\n",
    "<p>The top panel shows the columns of the feature matrix and the bottom panel shows the dominant component that PCA has computed.</p>\n",
    "<img src=\"fig-machine_learning/pca_002.png\" width=500>\n",
    "\n",
    "<!-- end figure -->"
   ]
  },
  {
   "cell_type": "code",
   "execution_count": 6,
   "metadata": {
    "collapsed": false
   },
   "outputs": [],
   "source": [
    "fig,axs = subplots(2,1,sharex=True,sharey=True)\n",
    "ax = axs[0]\n",
    "_=ax.plot(x,X[:,0],'-k')\n",
    "_=ax.plot(x,X[:,1],'--k')\n",
    "_=ax.plot(x,X[:,2],':k')\n",
    "ax=axs[1]\n",
    "_=ax.axis(xmin=-1,xmax=1)\n",
    "_=ax.plot(x,pca.fit_transform(X)[:,0],'-k')\n",
    "# ax.tick_params(labelsize='x-large')\n",
    "fig.savefig('fig-machine_learning/pca_002.png')"
   ]
  },
  {
   "cell_type": "code",
   "execution_count": 7,
   "metadata": {
    "collapsed": false
   },
   "outputs": [],
   "source": [
    "fig,axs=subplots(1,2,sharey=True)\n",
    "ax=axs[0]\n",
    "_=ax.axis(xmin=-2,xmax=12)\n",
    "x1 = np.arange(0, 10, .01/1.2)\n",
    "x2 = x1+ np.random.normal(loc=0, scale=1, size=len(x1))\n",
    "X = np.c_[(x1, x2)]\n",
    "good = (x1>5) | (x2>5) \n",
    "bad = ~good\n",
    "_=ax.plot(x1[good],x2[good],'o',alpha=.3,color='gray')\n",
    "_=ax.plot(x1[bad],x2[bad],'ok',alpha=.3)\n",
    "_=ax.set_title(\"original data space\")\n",
    "_=ax.set_xlabel(\"x\")\n",
    "_=ax.set_ylabel(\"y\")\n",
    "\n",
    "_=pca.fit(X)\n",
    "Xx=pca.fit_transform(X)\n",
    "ax=axs[1]\n",
    "# ax.set_aspect(1/1.6)\n",
    "_=ax.plot(Xx[good,0],Xx[good,1]*0,'o',alpha=.3,color='gray')\n",
    "_=ax.plot(Xx[bad,0],Xx[bad,1]*0,'ok',alpha=.3)\n",
    "_=ax.set_title(\"PCA-reduced data space\")\n",
    "_=ax.set_xlabel(r\"$\\hat{x}$\")\n",
    "_=ax.set_ylabel(r\"$\\hat{y}$\")\n",
    "fig.savefig('fig-machine_learning/pca_003.png')"
   ]
  },
  {
   "cell_type": "markdown",
   "metadata": {},
   "source": [
    "To see how PCA can simplify machine learning tasks, consider [Figure](#fig:pca_003) wherein the two classes are separated along the diagonal.\n",
    "After PCA, the transformed data lie along a single axis where the two classes\n",
    "can be split using a one-dimensional interval, which greatly simplifies the\n",
    "classification task. The class identities are preserved under PCA because the\n",
    "principal component is along the same direction that the classes are separated.\n",
    "On the other hand, if the classes are separated along the direction\n",
    "*orthogonal* to the principal component, then the two classes become mixed\n",
    "under PCA and the classification task becomes much harder. Note that in both\n",
    "cases, the `explained_variance_ratio_` is the same because the explained\n",
    "variance ratio does not account for class membership.\n",
    "\n",
    "<!-- dom:FIGURE: [fig-machine_learning/pca_003.png, width=500 frac=0.85]  The left panel shows the original two-dimensional data space of two easily distinguishable classes and the right panel shows the reduced the data space transformed using PCA. Because the two classes are separated along the principal component discovered by PCA, the classes are  preserved under the transformation.  <div id=\"fig:pca_003\"></div>  -->\n",
    "<!-- begin figure -->\n",
    "<div id=\"fig:pca_003\"></div>\n",
    "\n",
    "<p>The left panel shows the original two-dimensional data space of two easily distinguishable classes and the right panel shows the reduced the data space transformed using PCA. Because the two classes are separated along the principal component discovered by PCA, the classes are  preserved under the transformation.</p>\n",
    "<img src=\"fig-machine_learning/pca_003.png\" width=500>\n",
    "\n",
    "<!-- end figure -->"
   ]
  },
  {
   "cell_type": "code",
   "execution_count": 8,
   "metadata": {
    "collapsed": false
   },
   "outputs": [],
   "source": [
    "\n",
    "fig,axs=subplots(1,2,sharey=True)\n",
    "ax=axs[0]\n",
    "x1 = np.arange(0, 10, .01/1.2)\n",
    "x2 = x1+np.random.normal(loc=0, scale=1, size=len(x1))\n",
    "X = np.c_[(x1, x2)]\n",
    "good = x1>x2\n",
    "bad = ~good \n",
    "_=ax.plot(x1[good],x2[good],'ow',alpha=.3)\n",
    "_=ax.plot(x1[bad],x2[bad],'ok',alpha=.3)\n",
    "_=ax.set_title(\"original data space\")\n",
    "_=ax.set_xlabel(\"x\")\n",
    "_=ax.set_ylabel(\"y\")\n",
    "\n",
    "_=pca.fit(X)\n",
    "Xx=pca.fit_transform(X)\n",
    "ax=axs[1]\n",
    "_=ax.plot(Xx[good,0],Xx[good,1]*0,'ow',alpha=.3)\n",
    "_=ax.plot(Xx[bad,0],Xx[bad,1]*0,'ok',alpha=.3)\n",
    "_=ax.set_title(\"PCA-reduced data space\")\n",
    "_=ax.set_xlabel(r\"$\\hat{x}$\")\n",
    "_=ax.set_ylabel(r\"$\\hat{y}$\")\n",
    "\n",
    "fig.savefig('fig-machine_learning/pca_004.png')"
   ]
  },
  {
   "cell_type": "markdown",
   "metadata": {},
   "source": [
    "<!-- dom:FIGURE: [fig-machine_learning/pca_004.png, width=500 frac=0.85]  As compared with [Figure](#fig:pca_003), the two classes differ along the coordinate direction that is orthogonal to the principal component. As a result, the two classes are no longer distinguishable after transformation. <div id=\"fig:pca_004\"></div>  -->\n",
    "<!-- begin figure -->\n",
    "<div id=\"fig:pca_004\"></div>\n",
    "\n",
    "<p>As compared with [Figure](#fig:pca_003), the two classes differ along the coordinate direction that is orthogonal to the principal component. As a result, the two classes are no longer distinguishable after transformation.</p>\n",
    "<img src=\"fig-machine_learning/pca_004.png\" width=500>\n",
    "\n",
    "<!-- end figure -->\n",
    "\n",
    "\n",
    "PCA works by decomposing the covariance matrix of the data using the Singular\n",
    "Value Decomposition (SVD). This decomposition exists for all matrices and\n",
    "returns the following factorization for an arbitrary matrix $\\mathbf{A}$,"
   ]
  },
  {
   "cell_type": "markdown",
   "metadata": {},
   "source": [
    "$$\n",
    "\\mathbf{A} =  \\mathbf{U} \\mathbf{S}  \\mathbf{V}^T\n",
    "$$"
   ]
  },
  {
   "cell_type": "markdown",
   "metadata": {},
   "source": [
    " Because of the symmetry of the covariance matrix, $\\mathbf{U} =\n",
    "\\mathbf{V}$. The elements of the diagonal matrix $\\mathbf{S}$ are the singular\n",
    "values of $\\mathbf{A}$ whose squares are the eigenvalues of $\\mathbf{A}^T\n",
    "\\mathbf{A}$. The eigenvector matrix $\\mathbf{U}$ is orthogonal: $\\mathbf{U}^T\n",
    "\\mathbf{U} =\\mathbf{I}$. The singular values are in decreasing order so that\n",
    "the first column of $\\mathbf{U}$ is the axis corresponding to the largest\n",
    "singular value. This is the first dominant column that PCA identifies. The\n",
    "entries of the covariance matrix are of the form $\\mathbb{E}(x_i x_j)$ where\n",
    "$x_i$ and $x_j$ are different features [^covariance]. This means that the\n",
    "covariance matrix is filled with entries that attempt to uncover mutually\n",
    "correlated relationships between all pairs of columns of the feature matrix.\n",
    "Once these have been tabulated in the covariance matrix, the SVD finds optimal\n",
    "orthogonal transformations to align the components along the directions most\n",
    "strongly associated with these correlated relationships. Simultaneously,\n",
    "because orthogonal matrices have columns of unit-length, the SVD collects the\n",
    "absolute squared lengths of these components into the $\\mathbf{S}$ matrix.  In\n",
    "our example above in [Figure](#fig:pca_003), the two feature vectors were obviously correlated along the\n",
    "diagonal, meaning that PCA selected that diagonal direction as the principal\n",
    "component.\n",
    "\n",
    "[^covariance]: Note that these entries are constructed from the data\n",
    "using an estimator of the covariance matrix because we do not have\n",
    "the full probability densities at hand.\n",
    "\n",
    "We have seen that PCA is a powerful dimension reduction method that is\n",
    "invariant to linear transformations of the original feature space. However,\n",
    "this method performs poorly with transformations that are nonlinear. In that\n",
    "case, there are a wide range of extensions to PCA, such as Kernel PCA, that are\n",
    "available in Scikit-learn, which allow for embedding parameterized\n",
    "non-linearities into the PCA at the risk of overfitting.\n",
    "\n",
    "## Independent Component Analysis\n",
    "\n",
    "Independent Component Analysis (ICA) via the `FastICA` algorithm is also\n",
    "available in Scikit-learn. This method is fundamentally different from PCA\n",
    "in that it is the small differences between components that are emphasized,\n",
    "not the large principal components.  This method is adopted from signal\n",
    "processing.  Consider a matrix of signals ($\\mathbf{X}$) where the rows are\n",
    "the samples and the columns are the different signals. For example, these\n",
    "could be EKG signals from multiple leads on a single patient. The analysis\n",
    "starts with the following model,"
   ]
  },
  {
   "cell_type": "markdown",
   "metadata": {},
   "source": [
    "<!-- Equation labels as ordinary links -->\n",
    "<div id=\"eq:ICA\"></div>\n",
    "\n",
    "$$\n",
    "\\begin{equation}\n",
    "\\mathbf{X} =  \\mathbf{S}\\mathbf{A}^T\n",
    "\\label{eq:ICA} \\tag{1}\n",
    "\\end{equation}\n",
    "$$"
   ]
  },
  {
   "cell_type": "markdown",
   "metadata": {},
   "source": [
    " In other words, the observed signal matrix is an unknown mixture\n",
    "($\\mathbf{A}$) of some set of conformable, independent random sources\n",
    "$\\mathbf{S}$,"
   ]
  },
  {
   "cell_type": "markdown",
   "metadata": {},
   "source": [
    "$$\n",
    "\\mathbf{S}=\\left[ \\mathbf{s}_1(t),\\mathbf{s}_2(t),\\ldots,\\mathbf{s}_n(t)\\right]\n",
    "$$"
   ]
  },
  {
   "cell_type": "markdown",
   "metadata": {},
   "source": [
    " The distribution on the random sources is otherwise unknown, except\n",
    "there can be at most one Gaussian source, otherwise, the mixing matrix\n",
    "$\\mathbf{A}$ cannot be identified because of technical reasons.  The problem in\n",
    "ICA is to find $\\mathbf{A}$ in Equation [1](#eq:ICA) and thereby un-mix the\n",
    "$s_i(t)$ signals, but this cannot be solved without a strategy to reduce the\n",
    "inherent arbitrariness in this formulation.  \n",
    "\n",
    "To make this concrete, let us simulate the situation with the following code,"
   ]
  },
  {
   "cell_type": "code",
   "execution_count": 9,
   "metadata": {
    "collapsed": false
   },
   "outputs": [],
   "source": [
    "np.random.seed(123456)"
   ]
  },
  {
   "cell_type": "code",
   "execution_count": 10,
   "metadata": {
    "collapsed": false
   },
   "outputs": [],
   "source": [
    "from numpy import matrix, c_, sin, cos, pi\n",
    "t = np.linspace(0,1,250)\n",
    "s1 = sin(2*pi*t*6)\n",
    "s2 =np.maximum(cos(2*pi*t*3),0.3)\n",
    "s2 = s2 - s2.mean()\n",
    "s3 = np.random.randn(len(t))*.1\n",
    "# normalize columns\n",
    "s1=s1/np.linalg.norm(s1)\n",
    "s2=s2/np.linalg.norm(s2)\n",
    "s3=s3/np.linalg.norm(s3)\n",
    "S =c_[s1,s2,s3] # stack as columns\n",
    "# mixing matrix\n",
    "A = matrix([[  1,  1,1],\n",
    "            [0.5, -1,3],\n",
    "            [0.1, -2,8]])\n",
    "X= S*A.T # do mixing"
   ]
  },
  {
   "cell_type": "code",
   "execution_count": 11,
   "metadata": {
    "collapsed": false
   },
   "outputs": [],
   "source": [
    "fig,axs=subplots(3,2,sharex=True)\n",
    "fig.set_size_inches((8,8))\n",
    "X = np.array(X)\n",
    "\n",
    "_=axs[0,1].plot(t,-X[:,0],'k-')\n",
    "_=axs[1,1].plot(t,-X[:,1],'k-')\n",
    "_=axs[2,1].plot(t,-X[:,2],'k-')\n",
    "_=axs[0,0].plot(t,s1,'k-')\n",
    "_=axs[1,0].plot(t,s2,'k-')\n",
    "_=axs[2,0].plot(t,s3,'k-')\n",
    "\n",
    "_=axs[2,0].set_xlabel('$t$',fontsize=18)\n",
    "_=axs[2,1].set_xlabel('$t$',fontsize=18)\n",
    "_=axs[0,0].set_ylabel('$s_1(t)$        ',fontsize=18,rotation='horizontal')\n",
    "_=axs[1,0].set_ylabel('$s_2(t)$        ',fontsize=18,rotation='horizontal')\n",
    "_=axs[2,0].set_ylabel('$s_3(t)$        ',fontsize=18,rotation='horizontal')\n",
    "for ax in axs.flatten():\n",
    "    _=ax.yaxis.set_ticklabels('')\n",
    "\n",
    "_=axs[0,1].set_ylabel('        $X_1(t)$',fontsize=18,rotation='horizontal')\n",
    "_=axs[1,1].set_ylabel('        $X_2(t)$',fontsize=18,rotation='horizontal')\n",
    "_=axs[2,1].set_ylabel('        $X_3(t)$',fontsize=18,rotation='horizontal')\n",
    "_=axs[0,1].yaxis.set_label_position(\"right\")\n",
    "_=axs[1,1].yaxis.set_label_position(\"right\")\n",
    "_=axs[2,1].yaxis.set_label_position(\"right\")\n",
    "\n",
    "fig.savefig('fig-machine_learning/pca_008.png')"
   ]
  },
  {
   "cell_type": "markdown",
   "metadata": {},
   "source": [
    "<!-- dom:FIGURE: [fig-machine_learning/pca_008.png, width=500 frac=0.85] The left column shows the original signals and the right column shows the mixed signals. The object of ICA is to recover the left column from the right. <div id=\"fig:pca_008\"></div>  -->\n",
    "<!-- begin figure -->\n",
    "<div id=\"fig:pca_008\"></div>\n",
    "\n",
    "<p>The left column shows the original signals and the right column shows the mixed signals. The object of ICA is to recover the left column from the right.</p>\n",
    "<img src=\"fig-machine_learning/pca_008.png\" width=500>\n",
    "\n",
    "<!-- end figure -->\n",
    "\n",
    "\n",
    " The individual signals ($s_i(t)$) and their mixtures ($X_i(t)$) are\n",
    "shown in [Figure](#fig:pca_008). To recover the individual signals using ICA,\n",
    "we use the `FastICA` object and fit the parameters on the `X` matrix,"
   ]
  },
  {
   "cell_type": "code",
   "execution_count": 12,
   "metadata": {
    "collapsed": false
   },
   "outputs": [],
   "source": [
    "from sklearn.decomposition import FastICA\n",
    "ica = FastICA()\n",
    "# estimate unknown S matrix\n",
    "S_=ica.fit_transform(X)"
   ]
  },
  {
   "cell_type": "markdown",
   "metadata": {},
   "source": [
    " The results of this estimation are shown in [Figure](#fig:pca_009),\n",
    "showing that ICA is able to recover the original signals from the observed\n",
    "mixture. Note that ICA is unable to distinguish the signs of the recovered\n",
    "signals or preserve the order of the input signals."
   ]
  },
  {
   "cell_type": "code",
   "execution_count": 13,
   "metadata": {
    "collapsed": false
   },
   "outputs": [],
   "source": [
    "fig,axs=subplots(3,2,sharex=True)\n",
    "fig.set_size_inches((8,8))\n",
    "X = np.array(X)\n",
    "\n",
    "_=axs[0,1].plot(t,-S_[:,2],'k-')\n",
    "_=axs[1,1].plot(t,-S_[:,1],'k-')\n",
    "_=axs[2,1].plot(t,-S_[:,0],'k-')\n",
    "_=axs[0,0].plot(t,s1,'k-')\n",
    "_=axs[1,0].plot(t,s2,'k-')\n",
    "_=axs[2,0].plot(t,s3,'k-')\n",
    "\n",
    "_=axs[2,0].set_xlabel('$t$',fontsize=18)\n",
    "_=axs[2,1].set_xlabel('$t$',fontsize=18)\n",
    "_=axs[0,0].set_ylabel('$s_1(t)$        ',fontsize=18,rotation='horizontal')\n",
    "_=axs[1,0].set_ylabel('$s_2(t)$        ',fontsize=18,rotation='horizontal')\n",
    "_=axs[2,0].set_ylabel('$s_3(t)$        ',fontsize=18,rotation='horizontal')\n",
    "for ax in axs.flatten():\n",
    "    _=ax.yaxis.set_ticklabels('')\n",
    "\n",
    "_=axs[0,1].set_ylabel('        $s_1^\\prime(t)$',fontsize=18,rotation='horizontal')\n",
    "_=axs[1,1].set_ylabel('        $s_2^\\prime(t)$',fontsize=18,rotation='horizontal')\n",
    "_=axs[2,1].set_ylabel('        $s_3^\\prime(t)$',fontsize=18,rotation='horizontal')\n",
    "_=axs[0,1].yaxis.set_label_position(\"right\")\n",
    "_=axs[1,1].yaxis.set_label_position(\"right\")\n",
    "_=axs[2,1].yaxis.set_label_position(\"right\")\n",
    "\n",
    "fig.savefig('fig-machine_learning/pca_009.png')"
   ]
  },
  {
   "cell_type": "markdown",
   "metadata": {},
   "source": [
    "<!-- dom:FIGURE: [fig-machine_learning/pca_009.png, width=500 frac=0.85] The left column shows the original signals and the right column shows the signals that ICA was able to recover. They match exactly, outside of a possible sign change. <div id=\"fig:pca_009\"></div>  -->\n",
    "<!-- begin figure -->\n",
    "<div id=\"fig:pca_009\"></div>\n",
    "\n",
    "<p>The left column shows the original signals and the right column shows the signals that ICA was able to recover. They match exactly, outside of a possible sign change.</p>\n",
    "<img src=\"fig-machine_learning/pca_009.png\" width=500>\n",
    "\n",
    "<!-- end figure -->\n",
    "\n",
    "\n",
    "To develop some intuition as to how ICA accomplishes this feat, consider the\n",
    "following two-dimensional situation with two uniformly distributed independent\n",
    "variables, $u_x,u_y \\sim \\mathcal{U}[0,1]$. Suppose we apply the\n",
    "following orthogonal rotation matrix to these variables,"
   ]
  },
  {
   "cell_type": "markdown",
   "metadata": {},
   "source": [
    "$$\n",
    "\\begin{bmatrix}\n",
    "u_x^\\prime \\\\\\\n",
    "u_y^\\prime \n",
    "\\end{bmatrix}= \n",
    "\\begin{bmatrix}\n",
    "\\cos(\\phi) & -\\sin(\\phi) \\\\\\\n",
    "\\sin(\\phi) & \\cos(\\phi)\n",
    "\\end{bmatrix}\n",
    "\\begin{bmatrix}\n",
    "u_x \\\\\\\n",
    "u_y \n",
    "\\end{bmatrix}\n",
    "$$"
   ]
  },
  {
   "cell_type": "markdown",
   "metadata": {},
   "source": [
    "<!-- dom:FIGURE: [fig-machine_learning/pca_005.png, width=500 frac=0.85] The left panel shows two classes labeled on the $u_x,u_y$ uniformly independent random variables. The right panel shows these random variables after a rotation, which removes their mutual independence and makes it hard to separate the two classes along the coordinate directions. <div id=\"fig:pca_005\"></div>  -->\n",
    "<!-- begin figure -->\n",
    "<div id=\"fig:pca_005\"></div>\n",
    "\n",
    "<p>The left panel shows two classes labeled on the $u_x,u_y$ uniformly independent random variables. The right panel shows these random variables after a rotation, which removes their mutual independence and makes it hard to separate the two classes along the coordinate directions.</p>\n",
    "<img src=\"fig-machine_learning/pca_005.png\" width=500>\n",
    "\n",
    "<!-- end figure -->\n",
    "\n",
    "\n",
    " The so-rotated variables $u_x^\\prime,u_y^\\prime$ are no longer\n",
    "independent, as shown in [Figure](#fig:pca_005). Thus, one way to think about\n",
    "ICA is as a search through orthogonal matrices so that the independence is\n",
    "restored. This is where the prohibition against Gaussian distributions arises.\n",
    "The two dimensional Gaussian distribution of independent variables is\n",
    "proportional the following,"
   ]
  },
  {
   "cell_type": "markdown",
   "metadata": {},
   "source": [
    "$$\n",
    "f(\\mathbf{x})\\propto\\exp(-\\frac{1}{2}\\mathbf{x}^T \\mathbf{x})\n",
    "$$"
   ]
  },
  {
   "cell_type": "markdown",
   "metadata": {},
   "source": [
    " Now, if we similarly rotated the $\\mathbf{x}$ vector as,"
   ]
  },
  {
   "cell_type": "markdown",
   "metadata": {},
   "source": [
    "$$\n",
    "\\mathbf{y} = \\mathbf{Q} \\mathbf{x}\n",
    "$$"
   ]
  },
  {
   "cell_type": "markdown",
   "metadata": {},
   "source": [
    " the resulting density for $\\mathbf{y}$ is obtained by plugging in\n",
    "the following,"
   ]
  },
  {
   "cell_type": "markdown",
   "metadata": {},
   "source": [
    "$$\n",
    "\\mathbf{x} = \\mathbf{Q}^T \\mathbf{y}\n",
    "$$"
   ]
  },
  {
   "cell_type": "markdown",
   "metadata": {},
   "source": [
    " because the inverse of an orthogonal matrix is its transpose, we obtain"
   ]
  },
  {
   "cell_type": "markdown",
   "metadata": {},
   "source": [
    "$$\n",
    "f(\\mathbf{y})\\propto\\exp(-\\frac{1}{2}\\mathbf{y}^T \\mathbf{Q}\\mathbf{Q}^T \\mathbf{y})=\\exp(-\\frac{1}{2}\\mathbf{y}^T \\mathbf{y})\n",
    "$$"
   ]
  },
  {
   "cell_type": "markdown",
   "metadata": {},
   "source": [
    " In other words, the transformation is lost on the $\\mathbf{y}$\n",
    " variable. This means that ICA cannot search over orthogonal transformations if\n",
    " it is blind to them, which explains the restriction of Gaussian random\n",
    " variables. Thus, ICA is a method that seeks to maximize the non-Gaussian-ness\n",
    " of the transformed random variables.  There are many methods to doing this,\n",
    " some of which involve cumulants and others that use the\n",
    "*negentropy*,"
   ]
  },
  {
   "cell_type": "markdown",
   "metadata": {},
   "source": [
    "$$\n",
    "\\mathcal{J}(Y) = \\mathcal{H}(Z)-\\mathcal{H}(Y)\n",
    "$$"
   ]
  },
  {
   "cell_type": "markdown",
   "metadata": {},
   "source": [
    " where $\\mathcal{H}(Z)$ is the information entropy of the\n",
    "Gaussian random variable $Z$ that has the same variance as $Y$. Further\n",
    "details would take us beyond our scope, but that is the outline of how\n",
    "the FastICA algorithm works.\n",
    "\n",
    "The implementation of this method in Scikit-learn includes two different ways\n",
    "of extracting more than one independent source component. The *deflation*\n",
    "method iteratively extracts one component at a time using a incremental\n",
    "normalization step. The *parallel* method also uses the single-component method\n",
    "but carries out normalization of all the components simultaneously, instead of\n",
    "for just the newly computed component.  Because ICA extracts\n",
    "independent components, a whitening step is used beforehand to balance the\n",
    "correlated components from the data matrix. Whereas PCA returns\n",
    "uncorrelated components along dimensions optimal for Gaussian random\n",
    "variables, ICA returns components that are as far from the Gaussian density\n",
    "as possible.\n",
    "\n",
    "The left panel on [Figure](#fig:pca_005) shows the orignal uniform random\n",
    "sources. The white and black colors distinguish between two classes. The right\n",
    "panel shows the mixture of these sources, which is what we observe as input\n",
    "features. The top row of [Figure](#fig:pca_006) shows the PCA (left) and ICA\n",
    "(right) transformed data spaces.  Notice that ICA is able to un-mix the two\n",
    "random sources whereas PCA transforms along the dominant diagonal. Because ICA\n",
    "is able to preserve the class membership, the data space can be reduced to two\n",
    "non-overlapping sections, as shown. However, PCA cannot achieve a similiar\n",
    "separation because the classes are mixed along the dominant diagonal that PCA\n",
    "favors as the main component in the decomposition. \n",
    "\n",
    "<!-- dom:FIGURE: [fig-machine_learning/pca_006.png, width=500 frac=0.85]  The panel on the top left shows two classes in a plane after a  rotation. The bottom left panel shows the result of dimensionality reduction using PCA, which causes mixing between the two classes. The top right panel shows the ICA transformed output and the lower right panel shows that, because ICA was able to un-rotate the data, the lower dimensional data maintains the separation between the classes. <div id=\"fig:pca_006\"></div>  -->\n",
    "<!-- begin figure -->\n",
    "<div id=\"fig:pca_006\"></div>\n",
    "\n",
    "<p>The panel on the top left shows two classes in a plane after a  rotation. The bottom left panel shows the result of dimensionality reduction using PCA, which causes mixing between the two classes. The top right panel shows the ICA transformed output and the lower right panel shows that, because ICA was able to un-rotate the data, the lower dimensional data maintains the separation between the classes.</p>\n",
    "<img src=\"fig-machine_learning/pca_006.png\" width=500>\n",
    "\n",
    "<!-- end figure -->\n",
    "\n",
    "\n",
    "For a good principal component analysis treatment, see  [[richert2013building]](#richert2013building),\n",
    "[[alpaydin2014introduction]](#alpaydin2014introduction), [[cuesta2013practical]](#cuesta2013practical), and\n",
    "[[izenman2008modern]](#izenman2008modern). Independent Component Analysis is discussed in more detail\n",
    "in [[hyvarinen2004independent]](#hyvarinen2004independent).\n",
    "\n",
    "<!-- #  *Learning from Data*, p. 263 -->\n",
    "<!-- #  *Building machine learning systems*, p.231 -->\n",
    "<!-- #  *Introduction to machine learning by Alpaydin*, p148 -->\n",
    "<!-- #  *Practical Data Analysis Cuesta*,p.143 -->\n",
    "<!-- #  *Modern Multivariate statistical techniques Izenman*, p.553, 558 -->\n",
    "<!-- #  *Independent Component Analysis Hyvarinen.pdf*, p.147 -->"
   ]
  }
 ],
 "metadata": {},
 "nbformat": 4,
 "nbformat_minor": 2
}
