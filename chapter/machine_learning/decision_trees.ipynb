{
 "cells": [
  {
   "cell_type": "markdown",
   "metadata": {},
   "source": [
    "<!-- add feature importances from RandomForestClassifier -->\n",
    "<!-- ensemble methods - references below -->\n",
    "<!-- D:\\Volume2_Indexed\\Encyclopedia_of_machine_learning_Sammut.pdf -->\n",
    "<!-- D:\\Volume2_Indexed\\Data_Mining_With_Decision_Trees_Rokach.pdf -->\n",
    "<!-- D:\\Volume2_Indexed\\Data_Mining_Kantardzic.pdf -->\n",
    "<!-- D:\\Volume2_Indexed\\Machine_Learning_with_R_Cookbook_Yu-Wei.pdf -->\n",
    "<!-- D:\\Volume2_Indexed\\Data_Mining_Witten.pdf -->\n",
    "<!-- D:\\Volume2_Indexed\\Elements_of_Statistical_Learning_Hastie.pdf -->\n",
    "<!-- D:\\Volume2_Indexed\\Independent_Component_Analysis_Hyvarinen.pdf -->\n",
    "<!-- D:\\Volume2_Indexed\\Data_Mining_and_Statisticas_Tuffery.pdf -->\n",
    "<!-- D:\\Volume2_Indexed\\Machine_Learning_Probabilistic_Perspective_Murphy.pdf -->\n",
    "<!-- D:\\Volume2_Indexed\\Machine_Learning_Flach.pdf -->\n",
    "\n",
    "<!-- TODO: discuss: Both RandomForest and GradientBoosting objects expose a feature_importances_ attribute when fitted. This attribute is one of the most powerful feature of these models. They basically quantify how much each feature contributes to gain in performance in the nodes of the different trees. -->\n",
    "\n",
    "A decision tree is the easiest classifer to understand, interpret, and explain.\n",
    "A decision tree is constructed by recursively splitting the data set into a\n",
    "sequence of subsets based on if-then questions.  The training set consists of\n",
    "pairs $(\\mathbf{x},y)$ where $\\mathbf{x}\\in \\mathbb{R}^d$ where $d$ is the\n",
    "number of features available and where $y$ is the corresponding label. The\n",
    "learning method splits the training set into groups based on $\\mathbf{x}$ while\n",
    "attempting to keep the assignments in each group as uniform as possible. In order to\n",
    "do this, the learning method must pick a feature and an associated threshold for that feature upon which to\n",
    "divide the data.  This is tricky to explain in words, but easy to see with\n",
    "an example. First, let's set up the Scikit-learn classifer,"
   ]
  },
  {
   "cell_type": "code",
   "execution_count": 1,
   "metadata": {
    "collapsed": false
   },
   "outputs": [],
   "source": [
    "%matplotlib inline\n",
    "\n",
    "from matplotlib.pylab import subplots\n",
    "from numpy import ma\n",
    "import numpy as np\n",
    "np.random.seed(12345678)"
   ]
  },
  {
   "cell_type": "code",
   "execution_count": 2,
   "metadata": {
    "collapsed": false
   },
   "outputs": [],
   "source": [
    "from sklearn import tree\n",
    "clf = tree.DecisionTreeClassifier()"
   ]
  },
  {
   "cell_type": "markdown",
   "metadata": {},
   "source": [
    " Let's also create some example data,"
   ]
  },
  {
   "cell_type": "code",
   "execution_count": 3,
   "metadata": {
    "collapsed": false
   },
   "outputs": [],
   "source": [
    "import numpy as np\n",
    "M=np.fromfunction(lambda i,j:j>=2,(4,4)).astype(int)\n",
    "print(M)"
   ]
  },
  {
   "cell_type": "markdown",
   "metadata": {},
   "source": [
    "**Programming Tip.**\n",
    "\n",
    "The `fromfunction` creates Numpy arrays using the indicies as inputs\n",
    "to a function whose value is the corresponding array entry.\n",
    "\n",
    "\n",
    "\n",
    " We want to classify the elements of the matrix based on their\n",
    "respective positions in the matrix. By just looking at the matrix, the\n",
    "classification is pretty simple --- classify as `0` for any positions in the\n",
    "first two columns of the matrix, and classify `1` otherwise.  Let's walk\n",
    "through this formally and see if this solution emerges from the decision\n",
    "tree.  The values of the array are the labels for the training set and the\n",
    "indicies of those values are the elements of $\\mathbf{x}$. Specifically, the\n",
    "training set has $\\mathcal{X} = \\left\\{(i,j)\\right\\}$ and\n",
    "$\\mathcal{Y}=\\left\\{0,1\\right\\}$ Now, let's extract those elements and construct\n",
    "the training set."
   ]
  },
  {
   "cell_type": "code",
   "execution_count": 4,
   "metadata": {
    "collapsed": false
   },
   "outputs": [],
   "source": [
    "i,j = np.where(M==0) \n",
    "x=np.vstack([i,j]).T # build nsamp by nfeatures\n",
    "y = j.reshape(-1,1)*0 # 0 elements\n",
    "print(x)\n",
    "print(y)"
   ]
  },
  {
   "cell_type": "markdown",
   "metadata": {},
   "source": [
    " Thus, the elements of `x` are the two-dimensional indicies of the\n",
    "values of `y`. For example, `M[x[0,0],x[0,1]]=y[0,0]`. Likewise, \n",
    "to complete the training set, we just need to stack the rest of the data to cover\n",
    "all the cases,"
   ]
  },
  {
   "cell_type": "code",
   "execution_count": 5,
   "metadata": {
    "collapsed": false
   },
   "outputs": [],
   "source": [
    "i,j = np.where(M==1)  \n",
    "x=np.vstack([np.vstack([i,j]).T,x ]) # build nsamp x nfeatures\n",
    "y=np.vstack([j.reshape(-1,1)*0+1,y]) # 1 elements"
   ]
  },
  {
   "cell_type": "markdown",
   "metadata": {},
   "source": [
    " With all that established, all we have to do is train the classifer,"
   ]
  },
  {
   "cell_type": "code",
   "execution_count": 6,
   "metadata": {
    "collapsed": false
   },
   "outputs": [],
   "source": [
    "clf.fit(x,y)"
   ]
  },
  {
   "cell_type": "markdown",
   "metadata": {},
   "source": [
    " To evaluate how the classifer performed, we can report the score,"
   ]
  },
  {
   "cell_type": "code",
   "execution_count": 7,
   "metadata": {
    "collapsed": false
   },
   "outputs": [],
   "source": [
    "clf.score(x,y)"
   ]
  },
  {
   "cell_type": "markdown",
   "metadata": {},
   "source": [
    " For this classifer, the *score* is the accuracy, which is\n",
    "defined as the ratio of the sum of the true-positive ($TP$) and\n",
    "true-negatives ($TN$) divided by the sum of all the terms, including\n",
    "the false terms,"
   ]
  },
  {
   "cell_type": "markdown",
   "metadata": {},
   "source": [
    "$$\n",
    "\\texttt{accuracy}=\\frac{TP+TN}{TP+TN+FN+FP}\n",
    "$$"
   ]
  },
  {
   "cell_type": "markdown",
   "metadata": {},
   "source": [
    " In this case, the classifier gets every point correctly, so\n",
    "$FN=FP=0$. On a related note, two other common names from information retrieval\n",
    "theory are  *recall* (a.k.a. sensitivity) and *precision* (a.k.a. positive\n",
    "predictive value, $TP/(TP+FP)$).  We can visualize this tree in [Figure](#fig:example_tree_001). The Gini coefficients (a.k.a. categorical variance)\n",
    "in the figure are a measure of the purity of each so-determined class. This\n",
    "coefficient is defined as,\n",
    "\n",
    "<!-- dom:FIGURE: [fig-machine_learning/example_tree_001.png, width=500 frac=0.5] Example decision tree. The `Gini` coefficient in each branch measures the purity of the partition in each node.  The `samples` item in the box shows the number of items in the corresponding node in the decision tree. <div id=\"fig:example_tree_001\"></div> -->\n",
    "<!-- begin figure -->\n",
    "<div id=\"fig:example_tree_001\"></div>\n",
    "\n",
    "<p>Example decision tree. The <code>Gini</code> coefficient in each branch measures the purity of the partition in each node.  The <code>samples</code> item in the box shows the number of items in the corresponding node in the decision tree.</p>\n",
    "<img src=\"fig-machine_learning/example_tree_001.png\" width=500>\n",
    "\n",
    "<!-- end figure -->"
   ]
  },
  {
   "cell_type": "markdown",
   "metadata": {},
   "source": [
    "$$\n",
    "\\texttt{Gini}_m = \\sum_k p_{m,k}(1-p_{m,k})\n",
    "$$"
   ]
  },
  {
   "cell_type": "markdown",
   "metadata": {},
   "source": [
    " where"
   ]
  },
  {
   "cell_type": "markdown",
   "metadata": {},
   "source": [
    "$$\n",
    "p_{m,k} = \\frac{1}{N_m} \\sum_{x_i\\in R_m} I(y_i=k)\n",
    "$$"
   ]
  },
  {
   "cell_type": "markdown",
   "metadata": {},
   "source": [
    " which is the proportion of observations labeled $k$ in the $m^{th}$\n",
    "node and $I(\\cdot)$ is the usual indicator function. Note that the maximum value of\n",
    "the Gini coefficient is $\\max{\\texttt{Gini}_{m}}=1-1/m$. For our simple\n",
    "example, half of the sixteen samples are in category `0` and the other half are\n",
    "in the `1` category.  Using the notation above, the top box corresponds to the\n",
    "$0^{th}$ node, so $p_{0,0} =1/2 = p_{0,1}$. Then, $\\texttt{Gini}_0=0.5$. The\n",
    "next layer of nodes in [Figure](#fig:example_tree_001) is determined by\n",
    "whether or not the second dimension of the $\\mathbf{x}$ data is greater than\n",
    "`1.5`. The Gini coefficients for each of these child nodes is zero because\n",
    "after the prior split, each subsequent category is pure. The `value` list in\n",
    "each of the nodes shows the distribution of elements in each category at each\n",
    "node.\n",
    "\n",
    "To make this example more interesting, we can contaminate the data slightly,"
   ]
  },
  {
   "cell_type": "code",
   "execution_count": 8,
   "metadata": {
    "collapsed": false
   },
   "outputs": [],
   "source": [
    "M[1,0]=1 # put in different class\n",
    "print(M) # now contaminated"
   ]
  },
  {
   "cell_type": "markdown",
   "metadata": {},
   "source": [
    "  Now we have a `1` entry in the previously\n",
    "pure first column's second  row. Let's re-do \n",
    "the analysis as in the following,"
   ]
  },
  {
   "cell_type": "code",
   "execution_count": 9,
   "metadata": {
    "collapsed": false
   },
   "outputs": [],
   "source": [
    "i,j = np.where(M==0)\n",
    "x=np.vstack([i,j]).T\n",
    "y = j.reshape(-1,1)*0\n",
    "i,j = np.where(M==1)\n",
    "x=np.vstack([np.vstack([i,j]).T,x])\n",
    "y = np.vstack([j.reshape(-1,1)*0+1,y])\n",
    "clf.fit(x,y)"
   ]
  },
  {
   "cell_type": "markdown",
   "metadata": {},
   "source": [
    " The result is shown\n",
    "in [Figure](#fig:example_tree_002). Note the tree has grown\n",
    "significantly due to this one change! The $0^{th}$ node has the\n",
    "following parameters, $p_{0,0} =7/16$ and $p_{0,1}=9/16$. This makes\n",
    "the Gini coefficient for the $0^{th}$ node equal to\n",
    "$\\frac{7}{16}\\left(1-\\frac{7}{16}\\right)+\\frac{9}{16}(1-\\frac{9}{16})\n",
    "= 0.492$.  As before, the root node splits on $X[1] \\leq 1.5$. Let's\n",
    "see if we can reconstruct the succeeding layer of nodes manually, as\n",
    "in the following,"
   ]
  },
  {
   "cell_type": "code",
   "execution_count": 10,
   "metadata": {
    "collapsed": false
   },
   "outputs": [],
   "source": [
    "y[x[:,1]>1.5] # first node on the right"
   ]
  },
  {
   "cell_type": "markdown",
   "metadata": {},
   "source": [
    " This obviously has a zero Gini coefficient. Likewise, the node on the\n",
    "left contains the following,"
   ]
  },
  {
   "cell_type": "code",
   "execution_count": 11,
   "metadata": {
    "collapsed": false
   },
   "outputs": [],
   "source": [
    "y[x[:,1]<=1.5] # first node on the left"
   ]
  },
  {
   "cell_type": "markdown",
   "metadata": {},
   "source": [
    " The Gini coefficient in this case is computed as\n",
    "`(1/8)*(1-1/8)+(7/8)*(1-7/8)=0.21875`. This node splits based on `X[1]<0.5`.\n",
    "The child node to the right derives from the following equivalent logic,"
   ]
  },
  {
   "cell_type": "code",
   "execution_count": 12,
   "metadata": {
    "collapsed": false
   },
   "outputs": [],
   "source": [
    "np.logical_and(x[:,1]<=1.5,x[:,1]>0.5)"
   ]
  },
  {
   "cell_type": "markdown",
   "metadata": {},
   "source": [
    " with corresponding classes,"
   ]
  },
  {
   "cell_type": "code",
   "execution_count": 13,
   "metadata": {
    "collapsed": false
   },
   "outputs": [],
   "source": [
    "y[np.logical_and(x[:,1]<=1.5,x[:,1]>0.5)]"
   ]
  },
  {
   "cell_type": "markdown",
   "metadata": {},
   "source": [
    "**Programming Tip.**\n",
    "\n",
    "The  `logical_and` in Numpy provides element-wise logical conjuction. It is not\n",
    "possible to accomplish this with something like `0.5< x[:,1] <=1.5` because\n",
    "of the way Python parses this syntax.\n",
    "\n",
    " \n",
    "\n",
    "<!-- dom:FIGURE: [fig-machine_learning/example_tree_002.png, width=500 frac=0.65] Decision tree for contaminated data. Note that just one change in the training data caused the tree to grow five times as large as before! <div id=\"fig:example_tree_002\"></div> -->\n",
    "<!-- begin figure -->\n",
    "<div id=\"fig:example_tree_002\"></div>\n",
    "\n",
    "<p>Decision tree for contaminated data. Note that just one change in the training data caused the tree to grow five times as large as before!</p>\n",
    "<img src=\"fig-machine_learning/example_tree_002.png\" width=500>\n",
    "\n",
    "<!-- end figure -->\n",
    "\n",
    "\n",
    "Notice that for this example as well as for the previous one, the decision tree\n",
    "was exactly able memorize (overfit) the data with perfect accuracy. From our\n",
    "discussion of machine learning theory, this is an indication potential problems\n",
    "in generalization.\n",
    "\n",
    "\n",
    "The key step in building the decision tree is to come up with the\n",
    "initial split. There are the number of algorithms that can build\n",
    "decision trees based on different criteria, but the general idea is to\n",
    "control the information *entropy* as the tree is developed.  In\n",
    "practical terms, this means that the algorithms attempt to build trees\n",
    "that are not excessively deep. It is well-established that this is a\n",
    "very hard problem to solve completely and there are many approaches to\n",
    "it.  This is because the algorithms must make global decisions at each\n",
    "node of the tree using the local data available up to that point."
   ]
  },
  {
   "cell_type": "code",
   "execution_count": 14,
   "metadata": {
    "collapsed": false
   },
   "outputs": [],
   "source": [
    "_=clf.fit(x,y)\n",
    "fig,axs=subplots(2,2,sharex=True,sharey=True)\n",
    "ax=axs[0,0]\n",
    "ax.set_aspect(1)\n",
    "_=ax.axis((-1,4,-1,4))\n",
    "ax.invert_yaxis()\n",
    "\n",
    "# same background all on axes\n",
    "for ax in axs.flat:\n",
    "    _=ax.plot(ma.masked_array(x[:,1],y==1),ma.masked_array(x[:,0],y==1),'ow',mec='k')\n",
    "    _=ax.plot(ma.masked_array(x[:,1],y==0),ma.masked_array(x[:,0],y==0),'o',color='gray')\n",
    "\n",
    "lines={'h':[],'v':[]}\n",
    "nc=0\n",
    "for i,j,ax in zip(clf.tree_.feature,clf.tree_.threshold,axs.flat):\n",
    "    _=ax.set_title('node %d'%(nc))\n",
    "    nc+=1\n",
    "    if i==0:   _=lines['h'].append(j)\n",
    "    elif i==1: _=lines['v'].append(j)\n",
    "    for l in lines['v']: _=ax.vlines(l,-1,4,lw=3)\n",
    "    for l in lines['h']: _=ax.hlines(l,-1,4,lw=3)\n",
    "\n",
    "fig.savefig('fig-machine_learning/example_tree_003.png')"
   ]
  },
  {
   "cell_type": "markdown",
   "metadata": {},
   "source": [
    "<!-- dom:FIGURE: [fig-machine_learning/example_tree_003.png, width=500 frac=0.85]  The decision tree divides the training set into regions by splitting successively along each dimension until each region is as pure as possible. <div id=\"fig:example_tree_003\"></div> -->\n",
    "<!-- begin figure -->\n",
    "<div id=\"fig:example_tree_003\"></div>\n",
    "\n",
    "<p>The decision tree divides the training set into regions by splitting successively along each dimension until each region is as pure as possible.</p>\n",
    "<img src=\"fig-machine_learning/example_tree_003.png\" width=500>\n",
    "\n",
    "<!-- end figure -->\n",
    "\n",
    "\n",
    "For this example, the decision tree partitions the $\\mathcal{X}$ space into\n",
    "different regions corresponding to different $\\mathcal{Y}$ labels as shown in\n",
    "[Figure](#fig:example_tree_003). The root node at the top of [Figure](#fig:example_tree_002) splits the input data based on $X[1] \\leq 1.5$. This\n",
    "corresponds to the top left panel in [Figure](#fig:example_tree_003) (i.e.,\n",
    "`node 0`) where the vertical line divides the training data shown into two\n",
    "regions, corresponding to the two subsequent child nodes. The next split\n",
    "happens with $X[1] \\leq 0.5$ as shown in the next panel of [Figure](#fig:example_tree_003) titled `node 1`. This continues until the last panel\n",
    "on the lower right, where the contaminated element we injected has been\n",
    "isolated into its own sub-region. Thus, the last panel is a representation of\n",
    "[Figure](#fig:example_tree_002), where the horizontal/vertical lines\n",
    "correspond to successive splits in the decision tree."
   ]
  },
  {
   "cell_type": "code",
   "execution_count": 15,
   "metadata": {
    "collapsed": false
   },
   "outputs": [],
   "source": [
    "i,j = np.indices((5,5))\n",
    "x=np.vstack([i.flatten(),j.flatten()]).T\n",
    "y=(x[:,0]>=x[:,1]).astype(int).reshape((-1,1))\n",
    "_=clf.fit(x,y)\n",
    "fig,ax=subplots()\n",
    "_=ax.axis((-1,5,-1,5))\n",
    "ax.set_aspect(1)\n",
    "ax.invert_yaxis()\n",
    "\n",
    "_=ax.plot(ma.masked_array(x[:,1],y==1),ma.masked_array(x[:,0],y==1),'ow',mec='k',ms=15)\n",
    "_=ax.plot(ma.masked_array(x[:,1],y==0),ma.masked_array(x[:,0],y==0),'o',color='gray',ms=15)\n",
    "\n",
    "for i,j in zip(clf.tree_.feature,clf.tree_.threshold):\n",
    "    if i==1:\n",
    "        _=ax.hlines(j,-1,6,lw=3.)\n",
    "    else:\n",
    "        _=ax.vlines(j,-1,6,lw=3.)\n",
    "\n",
    "fig.savefig('fig-machine_learning/example_tree_004.png')"
   ]
  },
  {
   "cell_type": "markdown",
   "metadata": {},
   "source": [
    "<!-- dom:FIGURE: [fig-machine_learning/example_tree_004.png, width=500 frac=0.75]  The decision tree fitted to this triangular matrix is very complex, as shown by the number of horizontal and vertical partitions. Thus, even though the pattern in the training data is visually clear, the decision tree cannot automatically uncover it. <div id=\"fig:example_tree_004\"></div> -->\n",
    "<!-- begin figure -->\n",
    "<div id=\"fig:example_tree_004\"></div>\n",
    "\n",
    "<p>The decision tree fitted to this triangular matrix is very complex, as shown by the number of horizontal and vertical partitions. Thus, even though the pattern in the training data is visually clear, the decision tree cannot automatically uncover it.</p>\n",
    "<img src=\"fig-machine_learning/example_tree_004.png\" width=500>\n",
    "\n",
    "<!-- end figure -->\n",
    "\n",
    "\n",
    "[Figure](#fig:example_tree_004) shows another example, but now using a simple\n",
    "triangular matrix.  As shown by the number of vertical and horizontal\n",
    "partitioning lines, the decision tree that corresponds to this figure is tall\n",
    "and complex. Notice that if we apply a simple rotational transform to the\n",
    "training data, we can obtain [Figure](#fig:example_tree_005), which requires a\n",
    "trivial decision tree to fit. Thus, there may be transformations of the\n",
    "training data that simplify the decision tree, but these are very difficult to\n",
    "derive in general. Nonetheless, this highlights a key weakness of decision\n",
    "trees wherein they may be easy to understand, to train, and to deploy, but may\n",
    "be completely blind to such time-saving and complexity-saving transformations.\n",
    "Indeed, in higher dimensions, it may be impossible to even visualize the\n",
    "potential of such latent transformations.  Thus, the advantages of decision\n",
    "trees can be easily outmatched by other methods that we will study later that\n",
    "*do* have the ability to uncover useful transformations, but which will\n",
    "necessarily be harder to train.  Another disadvantage is that because of how\n",
    "decision trees are built, even a single misplaced data point can cause the tree\n",
    "to grow very differently. This is a symptom of high variance.\n",
    "\n",
    "In all of our examples, the decision tree was able to\n",
    "memorize the training data exactly, as we discussed earlier,\n",
    "this is a sign of potentially high generalization errors.  There\n",
    "are pruning algorithms that strategically remove some of the\n",
    "deepest nodes. but these are not yet fully implemented in\n",
    "Scikit-learn, as of this writing. Alternatively, restricting\n",
    "the maximum depth of the decision tree can have a similar\n",
    "effect. The `DecisionTreeClassifier` and\n",
    "`DecisionTreeRegressor` in Scikit-learn both have keyword\n",
    "arguments that specify maximum depth. \n",
    "\n",
    "## Random Forests\n",
    "\n",
    "It is possible to combine a set of decision trees into a larger\n",
    "composite tree that has better performance than its individual\n",
    "components by using ensemble learning. This is implemented in\n",
    "Scikit-learn as `RandomForestClassifier`.  The composite tree helps\n",
    "mitigate the primary weakness of decision trees --- high variance.\n",
    "Random forest classifiers help by averaging out the predictions of\n",
    "many constituent trees to minimize this variance by randomly selecting\n",
    "subsets of the training set to train the  embedded trees.   On the\n",
    "other hand, this randomization can increase bias because there may be\n",
    "a subset of the training set that yields an excellent decision tree,\n",
    "but the averaging effect over randomized training samples washes this\n",
    "out in the same averaging that reduces the variance. This is a key\n",
    "trade-off.  The following code implements a simple random forest\n",
    "classifer from our last example."
   ]
  },
  {
   "cell_type": "code",
   "execution_count": 16,
   "metadata": {
    "collapsed": false
   },
   "outputs": [],
   "source": [
    "from numpy import sin, cos, pi\n",
    "rotation_matrix=np.matrix([[cos(pi/4),-sin(pi/4)],\n",
    "                           [sin(pi/4),cos(pi/4)]])\n",
    "xr=(rotation_matrix*(x.T)).T\n",
    "xr=np.array(xr)\n",
    "\n",
    "fig,ax=subplots()\n",
    "ax.set_aspect(1)\n",
    "_=ax.axis(xmin=-2,xmax=7,ymin=-4,ymax=4)\n",
    "\n",
    "_=ax.plot(ma.masked_array(xr[:,1],y==1),ma.masked_array(xr[:,0],y==1),'ow',mec='k',ms=15)\n",
    "_=ax.plot(ma.masked_array(xr[:,1],y==0),ma.masked_array(xr[:,0],y==0),'o',color='gray',ms=15)\n",
    "\n",
    "_=clf.fit(xr,y)\n",
    "\n",
    "for i,j in zip(clf.tree_.feature,clf.tree_.threshold):\n",
    "    if i==1:\n",
    "        _=ax.vlines(j,-1,6,lw=3.)\n",
    "    elif i==0:\n",
    "        _=ax.hlines(j,-1,6,lw=3.)\n",
    "\n",
    "fig.savefig('fig-machine_learning/example_tree_005.png')"
   ]
  },
  {
   "cell_type": "markdown",
   "metadata": {},
   "source": [
    "<!-- dom:FIGURE: [fig-machine_learning/example_tree_005.png, width=500 frac=0.75] Using a simple rotation on the training data in [Figure](#fig:example_tree_004), the decision tree can now easily fit the training data with a single partition. <div id=\"fig:example_tree_005\"></div> -->\n",
    "<!-- begin figure -->\n",
    "<div id=\"fig:example_tree_005\"></div>\n",
    "\n",
    "<p>Using a simple rotation on the training data in [Figure](#fig:example_tree_004), the decision tree can now easily fit the training data with a single partition.</p>\n",
    "<img src=\"fig-machine_learning/example_tree_005.png\" width=500>\n",
    "\n",
    "<!-- end figure -->"
   ]
  },
  {
   "cell_type": "code",
   "execution_count": 17,
   "metadata": {
    "collapsed": false
   },
   "outputs": [],
   "source": [
    "from sklearn.ensemble import RandomForestClassifier\n",
    "from sklearn.model_selection import train_test_split, cross_val_score\n",
    "X_train,X_test,y_train,y_test=train_test_split(x,y,random_state=1)\n",
    "clf = tree.DecisionTreeClassifier(max_depth=2)\n",
    "_=clf.fit(X_train,y_train)\n",
    "rfc = RandomForestClassifier(n_estimators=4,max_depth=2)\n",
    "_=rfc.fit(X_train,y_train.flat)"
   ]
  },
  {
   "cell_type": "code",
   "execution_count": 18,
   "metadata": {
    "collapsed": false
   },
   "outputs": [],
   "source": [
    "from sklearn.ensemble import RandomForestClassifier\n",
    "rfc = RandomForestClassifier(n_estimators=4,max_depth=2)\n",
    "rfc.fit(X_train,y_train.flat)"
   ]
  },
  {
   "cell_type": "code",
   "execution_count": 19,
   "metadata": {
    "collapsed": false
   },
   "outputs": [],
   "source": [
    "def draw_board(x,y,clf,ax=None):\n",
    "    if ax is None: fig,ax=subplots()\n",
    "    xm,ymn=x.min(0).T\n",
    "    ax.axis(xmin=xm-1,ymin=ymn-1)\n",
    "    xx,ymx=x.max(0).T\n",
    "    _=ax.axis(xmax=xx+1,ymax=ymx+1)\n",
    "    _=ax.set_aspect(1)\n",
    "    _=ax.invert_yaxis()\n",
    "    _=ax.plot(ma.masked_array(x[:,1],y==1),ma.masked_array(x[:,0],y==1),'ow',mec='k')\n",
    "    _=ax.plot(ma.masked_array(x[:,1],y==0),ma.masked_array(x[:,0],y==0),'o',color='gray')\n",
    "    for i,j in zip(clf.tree_.feature,clf.tree_.threshold):\n",
    "        if i==1:\n",
    "            _=ax.vlines(j,-1,6,lw=3.)\n",
    "        elif i==0:\n",
    "            _=ax.hlines(j,-1,6,lw=3.)\n",
    "    return ax"
   ]
  },
  {
   "cell_type": "code",
   "execution_count": 20,
   "metadata": {
    "collapsed": false
   },
   "outputs": [],
   "source": [
    "fig,axs = subplots(2,2)\n",
    "# draw constituent decision trees\n",
    "for est,ax in zip(rfc.estimators_,axs.flat):\n",
    "    _=draw_board(X_train,y_train,est,ax=ax)\n",
    "\n",
    "fig.savefig('fig-machine_learning/example_tree_006.png')"
   ]
  },
  {
   "cell_type": "markdown",
   "metadata": {},
   "source": [
    " Note that we have constrained the maximum depth `max_depth=2` to help\n",
    "with generalization. To keep things simple we have only set up a forest with\n",
    "four individual classifers [^seedNote].  [Figure](#fig:example_tree_006) shows\n",
    "the individual classifers in the forest that have been trained above. Even\n",
    "though all the constituent decision trees share the same training data, the\n",
    "random forest  algorithm randomly picks feature subsets (with replacement) upon\n",
    "which to train individual trees. This helps avoid the tendency of decision\n",
    "trees to become too deep and lopsided, which hurts both performance and\n",
    "generalization. At the prediction step, the individual outputs of each of the\n",
    "constituent decision trees are put to a majority vote for the final\n",
    "classification. To estimate generalization errors without using\n",
    "cross-validation, the training elements *not* used for a particular constituent\n",
    "tree can be used to test that tree and form a collaborative estimate of\n",
    "generalization errors.  This is called the *out-of-bag* estimate.\n",
    "\n",
    "[^seedNote]: We have also set the random seed to a fixed value\n",
    "to make the figures reproducible in the Jupyter Notebook corresponding to\n",
    "this section.\n",
    "\n",
    "<!-- dom:FIGURE: [fig-machine_learning/example_tree_006.png, width=500 frac=0.85] The constituent decision trees of the random forest and how they partitioned the training set are shown in these four panels. The random forest classifier uses the individual outputs of each of the constituent trees to produce a collaborative  final estimate. <div id=\"fig:example_tree_006\"></div> -->\n",
    "<!-- begin figure -->\n",
    "<div id=\"fig:example_tree_006\"></div>\n",
    "\n",
    "<p>The constituent decision trees of the random forest and how they partitioned the training set are shown in these four panels. The random forest classifier uses the individual outputs of each of the constituent trees to produce a collaborative  final estimate.</p>\n",
    "<img src=\"fig-machine_learning/example_tree_006.png\" width=500>\n",
    "\n",
    "<!-- end figure -->\n",
    "\n",
    "\n",
    "The main advantage of random forest classifiers is that they require very\n",
    "little tuning and provide a way to trade-off bias and variance via averaging\n",
    "and randomization. Furthermore, they are fast and easy to train in parallel\n",
    "(see the `n_jobs` keyword argument) and fast to predict. On the downside, they\n",
    "are less interpretable than simple decision trees.  There are many other\n",
    "powerful tree methods in Scikit-learn like `ExtraTrees` and Gradient Boosted\n",
    "Regression Trees `GradientBoostingRegressor` which are discussed in the online\n",
    "documentation.\n",
    "\n",
    "\n",
    "<!-- add feature importances from RandomForestClassifier -->\n",
    "<!-- TODO: [stochastic gradient trees and boosting](http://nbviewer.ipython.org/github/pprett/pydata-gbrt-tutorial/blob/master/gbrt-tutorial.ipynb) -->\n",
    "<!-- <https://en.wikipedia.org/wiki/Gradient_boosting> -->\n",
    "\n",
    "<!-- Elements_of_Statistical_Learning_Hastie.pdf, Chap 10 -->\n",
    "\n",
    "## Boosting Trees\n",
    "\n",
    "To understand additive modeling using trees, recall the\n",
    "Gram-Schmidt orthogonalization procedure for vectors.  The\n",
    "purpose of this orthogonalization procedure is to create an\n",
    "orthogonal set of vectors starting with a given vector\n",
    "$\\mathbf{u}_1$. We have already discussed the projection\n",
    "operator in the section [ch:prob:sec:projection](#ch:prob:sec:projection).  The\n",
    "Gram-Schmidt orthogonalization procedure starts with a\n",
    "vector $\\mathbf{v}_1$, which we define as the following:"
   ]
  },
  {
   "cell_type": "markdown",
   "metadata": {},
   "source": [
    "$$\n",
    "\\mathbf{u}_1 = \\mathbf{v}_1\n",
    "$$"
   ]
  },
  {
   "cell_type": "markdown",
   "metadata": {},
   "source": [
    " with the corresponding projection operator $proj_{\\mathbf{u}_1}$. The\n",
    "next step in the procedure is to remove the residual of  $\\mathbf{u}_1$\n",
    "from $\\mathbf{v}_2$, as in the following:"
   ]
  },
  {
   "cell_type": "markdown",
   "metadata": {},
   "source": [
    "$$\n",
    "\\mathbf{u}_2 = \\mathbf{v}_2 -  proj_{\\mathbf{u}_1}(\\mathbf{v}_2)\n",
    "$$"
   ]
  },
  {
   "cell_type": "markdown",
   "metadata": {},
   "source": [
    " This procedure continues for $\\mathbf{v}_3$ as in the following:"
   ]
  },
  {
   "cell_type": "markdown",
   "metadata": {},
   "source": [
    "$$\n",
    "\\mathbf{u}_3 = \\mathbf{v}_3 - proj_{\\mathbf{u}_1}(\\mathbf{v}_3) - proj_{\\mathbf{u}_2}(\\mathbf{v}_3)\n",
    "$$"
   ]
  },
  {
   "cell_type": "markdown",
   "metadata": {},
   "source": [
    " and so on. The important aspect of this procedure is that new\n",
    "incoming vectors (i.e., $\\mathbf{v}_k$) are stripped of any pre-existing\n",
    "components already present in the set of $\\lbrace\\mathbf{u}_1,\\mathbf{u}_2,\\ldots,\\mathbf{u}_M \\rbrace$.\n",
    "\n",
    "Note that this procedure is sequential. That is, the *order*\n",
    "of the incoming $\\mathbf{v}_i$ matters [^rotation]. Thus,\n",
    "any new vector can be expressed using the so-constructed\n",
    "$\\lbrace\\mathbf{u}_1,\\mathbf{u}_2,\\ldots,\\mathbf{u}_M\n",
    "\\rbrace$ basis set, as in the following:\n",
    "\n",
    "[^rotation]: At least up to a rotation of the resulting\n",
    "orthonormal basis."
   ]
  },
  {
   "cell_type": "markdown",
   "metadata": {},
   "source": [
    "$$\n",
    "\\mathbf{x} = \\sum \\alpha_i \\mathbf{u}_i\n",
    "$$"
   ]
  },
  {
   "cell_type": "markdown",
   "metadata": {},
   "source": [
    " The idea behind additive trees is to reproduce this procedure for\n",
    "trees instead of vectors. There are many natural topological and algebraic\n",
    "properties that we lack for the general problem, however. For example, we already\n",
    "have well established methods for measuring distances between vectors for\n",
    "the Gram-Schmidt procedure outlined above (namely, the $L_2$\n",
    "distance), which we lack here.  Thus, we need the concept of *loss function*,\n",
    "which is a way of measuring how well the process is working out at each\n",
    "sequential step. This loss function is parameterized by the training data and\n",
    "by the classification function under consideration: $ L_{\\mathbf{y}}(f(x)) $.\n",
    "For example, if we want a classifier ($f$) that selects the label $y_i$\n",
    "based upon the input data $\\mathbf{x}_i$ ($f :\\mathbf{x}_i \\rightarrow y_i)$,\n",
    "then the squared error loss function would be the following:"
   ]
  },
  {
   "cell_type": "markdown",
   "metadata": {},
   "source": [
    "$$\n",
    "L_{\\mathbf{y}}(f(x))  = \\sum_i (y_i - f(x_i))^2\n",
    "$$"
   ]
  },
  {
   "cell_type": "markdown",
   "metadata": {},
   "source": [
    " We represent the classifier in terms of a set of basis trees:"
   ]
  },
  {
   "cell_type": "markdown",
   "metadata": {},
   "source": [
    "$$\n",
    "f(x) = \\sum_k \\alpha_k u_{\\mathbf{x}}(\\theta_k)\n",
    "$$"
   ]
  },
  {
   "cell_type": "markdown",
   "metadata": {},
   "source": [
    " The general algorithm for forward stagewise  additive modeling is \n",
    "the following:\n",
    "\n",
    "   * Initialize $f(x)=0$\n",
    "\n",
    "   * For $m=1$ to $m=M$, compute the following:"
   ]
  },
  {
   "cell_type": "markdown",
   "metadata": {},
   "source": [
    "$$\n",
    "(\\beta_m,\\gamma_m) = \\argmin_{\\beta,\\gamma} \\sum_i  L(y_i,f_{m-1}(x_i)+\\beta b(x_i;\\gamma))\n",
    "$$"
   ]
  },
  {
   "cell_type": "markdown",
   "metadata": {},
   "source": [
    "* Set $f_m(x) = f_{m-1}(x) +\\beta_m b(x;\\gamma_m) $\n",
    "\n",
    "The key point is that the residuals from the prior step are used to fit the\n",
    "basis function for the subsequent iteration.  That is, the following \n",
    "equation is being sequentially approximated."
   ]
  },
  {
   "cell_type": "markdown",
   "metadata": {},
   "source": [
    "$$\n",
    "f_m(x) - f_{m-1}(x) =\\beta_m b(x_i;\\gamma_m)\n",
    "$$"
   ]
  },
  {
   "cell_type": "markdown",
   "metadata": {},
   "source": [
    " Let's see how this works for decision trees and the exponential loss\n",
    "function."
   ]
  },
  {
   "cell_type": "markdown",
   "metadata": {},
   "source": [
    "$$\n",
    "L(x,f(x)) = \\exp(-y f(x))\n",
    "$$"
   ]
  },
  {
   "cell_type": "markdown",
   "metadata": {},
   "source": [
    " Recall that for the classification problem, $y\\in \\lbrace -1,1 \\rbrace$. For \n",
    "AdaBoost, the basis functions are the individual classifiers, $G_m(x)\\mapsto \\lbrace -1,1 \\rbrace$\n",
    "The key step in the algorithm is the minimization step for\n",
    "the objective function"
   ]
  },
  {
   "cell_type": "markdown",
   "metadata": {},
   "source": [
    "$$\n",
    "J(\\beta,G) = \\sum_i \\exp(y_i(f_{m-1}(x_i)+\\beta G(x_i)))\n",
    "$$"
   ]
  },
  {
   "cell_type": "markdown",
   "metadata": {},
   "source": [
    "$$\n",
    "(\\beta_m,G_m) = \\argmin_{\\beta,G} \\sum_i \\exp(y_i(f_{m-1}(x_i)+\\beta G(x_i)))\n",
    "$$"
   ]
  },
  {
   "cell_type": "markdown",
   "metadata": {},
   "source": [
    " Now, because of the exponential, we can factor out the following:"
   ]
  },
  {
   "cell_type": "markdown",
   "metadata": {},
   "source": [
    "$$\n",
    "w_i^{(m)} = \\exp(y_i f_{m-1}(x_i))\n",
    "$$"
   ]
  },
  {
   "cell_type": "markdown",
   "metadata": {},
   "source": [
    " as a weight on each data element and re-write the objective function as the following:"
   ]
  },
  {
   "cell_type": "markdown",
   "metadata": {},
   "source": [
    "$$\n",
    "J(\\beta,G) = \\sum_i w_i^{(m)} \\exp(y_i \\beta G(x_i))\n",
    "$$"
   ]
  },
  {
   "cell_type": "markdown",
   "metadata": {},
   "source": [
    " The important observation here is that $y_i G(x_i)\\mapsto 1$ if\n",
    "the tree classifies $x_i$ correctly and $y_i G(x_i)\\mapsto -1$ otherwise. \n",
    "Thus, the above sum has terms like the following:"
   ]
  },
  {
   "cell_type": "markdown",
   "metadata": {},
   "source": [
    "$$\n",
    "J(\\beta,G) = \\sum_{y_i\\ne G(x_i)} w_i^{(m)} \\exp(-\\beta) + \\sum_{y_i= G(x_i)} w_i^{(m)}\\exp(\\beta)\n",
    "$$"
   ]
  },
  {
   "cell_type": "markdown",
   "metadata": {},
   "source": [
    " For $\\beta>0$, this means that  the best $G(x)$ is\n",
    "the one that incorrectly classifies for the largest weights. Thus, \n",
    "the minimizer is the following:"
   ]
  },
  {
   "cell_type": "markdown",
   "metadata": {},
   "source": [
    "$$\n",
    "G_m = \\argmin_G \\sum_i w_i^{(m)} I(y_i \\ne G(x_i))\n",
    "$$"
   ]
  },
  {
   "cell_type": "markdown",
   "metadata": {},
   "source": [
    " where $I$ is the indicator function (i.e.,\n",
    "$I(\\textnormal{True})=1,I(\\textnormal{False})=0$). \n",
    "\n",
    " For $\\beta>0$, we can re-write the objective function\n",
    "as the following:"
   ]
  },
  {
   "cell_type": "markdown",
   "metadata": {},
   "source": [
    "$$\n",
    "J= (\\exp(\\beta)-\\exp(-\\beta))\\sum_i w_i^{(m)} I(y_i \\ne G(x_i)) + \\exp(-\\beta) \\sum_i w_i^{(m)}\n",
    "$$"
   ]
  },
  {
   "cell_type": "markdown",
   "metadata": {},
   "source": [
    " and substitute $\\theta=\\exp(-\\beta)$ so that"
   ]
  },
  {
   "cell_type": "markdown",
   "metadata": {},
   "source": [
    "<!-- Equation labels as ordinary links -->\n",
    "<div id=\"eq:bt001\"></div>\n",
    "\n",
    "$$\n",
    "\\begin{equation}\n",
    "\\frac{J}{\\sum_i w_i^{(m)}} = \\left(\\frac{1}{\\theta} - \\theta\\right)\\epsilon_m+\\theta\n",
    "\\label{eq:bt001} \\tag{1}\n",
    "\\end{equation}\n",
    "$$"
   ]
  },
  {
   "cell_type": "markdown",
   "metadata": {},
   "source": [
    " where"
   ]
  },
  {
   "cell_type": "markdown",
   "metadata": {},
   "source": [
    "$$\n",
    "\\epsilon_m = \\frac{\\sum_i w_i^{(m)}I(y_i\\ne G(x_i))}{\\sum_i w_i^{(m)}}\n",
    "$$"
   ]
  },
  {
   "cell_type": "markdown",
   "metadata": {},
   "source": [
    "  is the error rate of the classifier with $0\\le \\epsilon_m\\le 1$. Now,\n",
    "finding $\\beta$ is a straight-forward calculus minimization exercise on the\n",
    "right side of Equation ([1](#eq:bt001)), which gives the following:"
   ]
  },
  {
   "cell_type": "markdown",
   "metadata": {},
   "source": [
    "$$\n",
    "\\beta_m  = \\frac{1}{2}\\log \\frac{1-\\epsilon_m}{\\epsilon_m}\n",
    "$$"
   ]
  },
  {
   "cell_type": "markdown",
   "metadata": {},
   "source": [
    " Importantly, $\\beta_m$ can become negative if\n",
    "$\\epsilon_m<\\frac{1}{2}$, which would would violate our assumptions on $\\beta$.\n",
    "This is captured in the requirement that the base learner be better than just\n",
    "random guessing, which would correspond to $\\epsilon_m>\\frac{1}{2}$.\n",
    "Practically speaking, this means that boosting cannot fix a base learner that\n",
    "is no better than a random guess. Formally speaking, this is known as the\n",
    "*empirical weak learning assumption* [[schapire2012boosting]](#schapire2012boosting). \n",
    "\n",
    "Now we can move to the iterative weight update. Recall that"
   ]
  },
  {
   "cell_type": "markdown",
   "metadata": {},
   "source": [
    "$$\n",
    "w_i^{(m+1)} = \\exp(y_i f_{m}(x_i)) = w_i^{(m)}\\exp(y_i \\beta_m G_m(x_i))\n",
    "$$"
   ]
  },
  {
   "cell_type": "markdown",
   "metadata": {},
   "source": [
    " which we can rewrite as the following:"
   ]
  },
  {
   "cell_type": "markdown",
   "metadata": {},
   "source": [
    "$$\n",
    "w_i^{(m+1)} = w_i^{(m)}\\exp(\\beta_m)\\exp(-2\\beta_m I(G_m(x_i)=y_i))\n",
    "$$"
   ]
  },
  {
   "cell_type": "markdown",
   "metadata": {},
   "source": [
    " This means that the data elements that are incorrectly classified have their\n",
    "corresponding weights increased by $\\exp(\\beta_m)$ and those that are correctly\n",
    "classified have their corresponding weights reduced by $\\exp(-\\beta_m)$.\n",
    "The reason for the choice of the exponential loss function comes from the\n",
    "following:"
   ]
  },
  {
   "cell_type": "markdown",
   "metadata": {},
   "source": [
    "$$\n",
    "f^{*}(x) = \\argmin_{f(x)} \\mathbb{E}_{Y\\vert x}(\\exp(-Y f(x))) = \\frac{1}{2}\\log \\frac{\\mathbb{P}(Y=1\\vert x)}{\\mathbb{P}(Y=\\minus 1\\vert x)}\n",
    "$$"
   ]
  },
  {
   "cell_type": "markdown",
   "metadata": {},
   "source": [
    " This means that boosting is approximating a $f(x)$ that is actually\n",
    "half the log-odds of the conditional class probabilities.  This can be\n",
    "rearranged as the following"
   ]
  },
  {
   "cell_type": "markdown",
   "metadata": {},
   "source": [
    "$$\n",
    "\\mathbb{P}(Y=1\\vert x) = \\frac{1}{1+\\exp(\\minus 2f^{*}(x))}\n",
    "$$"
   ]
  },
  {
   "cell_type": "markdown",
   "metadata": {},
   "source": [
    " The important benefit of this general formulation for boosting, as a sequence\n",
    "of additive approximations,  is that it opens the door to other choices of loss\n",
    "function, especially loss functions that are based on robust statistics that\n",
    "can account for errors in the training data (c.f. Hastie).\n",
    "\n",
    "### Gradient Boosting\n",
    "\n",
    "Given a differentiable loss function, the optimization process can be\n",
    "formulated using numerical gradients. The fundamental idea is to treat the\n",
    "$f(x_i)$ as a scalar parameter to be optimized over. Generally speaking,\n",
    "we can think of the following loss function,"
   ]
  },
  {
   "cell_type": "markdown",
   "metadata": {},
   "source": [
    "$$\n",
    "L(f) = \\sum_{i=1}^N L(y_i,f(x_i))\n",
    "$$"
   ]
  },
  {
   "cell_type": "markdown",
   "metadata": {},
   "source": [
    " as a vectorized quantity"
   ]
  },
  {
   "cell_type": "markdown",
   "metadata": {},
   "source": [
    "$$\n",
    "\\mathbf{f} = \\lbrace f(x_1),f(x_2),\\ldots, f(x_N) \\rbrace\n",
    "$$"
   ]
  },
  {
   "cell_type": "markdown",
   "metadata": {},
   "source": [
    " so that the optimization is over this vector"
   ]
  },
  {
   "cell_type": "markdown",
   "metadata": {},
   "source": [
    "$$\n",
    "\\hat{\\mathbf{f}} = \\argmin_{\\mathbf{f}} L(\\mathbf{f})\n",
    "$$"
   ]
  },
  {
   "cell_type": "markdown",
   "metadata": {},
   "source": [
    " With this general formulation we can use numerical optimization methods \n",
    "to solve for the optimal $\\mathbf{f}$ as a sum of component vectors\n",
    "as in the following:"
   ]
  },
  {
   "cell_type": "markdown",
   "metadata": {},
   "source": [
    "$$\n",
    "\\mathbf{f}_M = \\sum_{m=0}^M \\mathbf{h}_m\n",
    "$$"
   ]
  },
  {
   "cell_type": "markdown",
   "metadata": {},
   "source": [
    " Note that this leaves aside the prior assumption that $f$ \n",
    "is parameterized as a sum of individual decision trees."
   ]
  },
  {
   "cell_type": "markdown",
   "metadata": {},
   "source": [
    "$$\n",
    "g_{i,m} = \\left[ \\frac{\\partial L(y_i,f(x_i))}{\\partial f(x_i)} \\right]_{f(x_i)=f_{m-1}(x_i)}\n",
    "$$"
   ]
  },
  {
   "cell_type": "markdown",
   "metadata": {},
   "source": [
    "<!-- TODO: [stochastic gradient trees and boosting](http://nbviewer.ipython.org/github/pprett/pydata-gbrt-tutorial/blob/master/gbrt-tutorial.ipynb) -->\n",
    "<!-- <https://en.wikipedia.org/wiki/Gradient_boosting> -->"
   ]
  }
 ],
 "metadata": {},
 "nbformat": 4,
 "nbformat_minor": 2
}
