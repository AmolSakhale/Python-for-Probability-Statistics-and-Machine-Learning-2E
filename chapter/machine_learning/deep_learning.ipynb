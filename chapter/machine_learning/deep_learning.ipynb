{
 "cells": [
  {
   "cell_type": "markdown",
   "metadata": {},
   "source": [
    "<!-- <http://sebastianruder.com/optimizing-gradient-descent/> -->\n",
    "<!-- deep_learning_goodfellow -->\n",
    "<!-- <https://youtu.be/bLqJHjXihK8> -->\n",
    "<!-- Hands-On Machine Learning with Scikit-Learn and TensorFlow -->\n",
    "<!-- TODO: talk about compression ideas -->\n",
    "<!-- TODO: Tensorboard discussion with Keras callbacks -->\n",
    "<!-- TODO: Iris dataset for multiple classification problem -->\n",
    "<!-- TODO: Gradient ascent for visualizing layers -->\n",
    "<!-- TODO: Generate augmented training images for regularization -->"
   ]
  },
  {
   "cell_type": "code",
   "execution_count": 1,
   "metadata": {
    "collapsed": false
   },
   "outputs": [],
   "source": [
    "%matplotlib inline\n",
    "\n",
    "import matplotlib\n",
    "matplotlib.rcParams['mathtext.fontset'] = 'cm'\n",
    "matplotlib.rcParams['mathtext.rm'] = 'cm'\n",
    "matplotlib.rcParams['mathtext.it'] = 'cm:italic'\n",
    "matplotlib.rcParams['mathtext.bf'] = 'cm:bold'\n",
    "import numpy as np\n",
    "from matplotlib.pylab import subplots"
   ]
  },
  {
   "cell_type": "markdown",
   "metadata": {},
   "source": [
    "Neural networks have a long history going back to the 1960s, but\n",
    "the recent availability of large-scale, high-quality\n",
    "data and new parallel computing infrastructures have reinvigorated neural\n",
    "networks in terms of size and complexity. This new reinvigoration, with many\n",
    "new and complex topologies, is called *deep learning*. There have been exciting\n",
    "developments in image and video processing, speech recognition, and automated\n",
    "video captioning based on deep learning systems. However, this is still a very\n",
    "active area of research. Fortunately, big companies with major investments in\n",
    "this area have made much of their research software open source (e.g.,\n",
    "Tensorflow, PyTorch), with corresponding Python-bindings. To build up our\n",
    "understanding of neural networks, we begin with Rosenblatt's 1960 Perceptron.\n",
    "\n",
    "### Perceptron Learning\n",
    "\n",
    "<div id=\"ch:ml:sec:perceptron\"></div>\n",
    "\n",
    "The perceptron is the primary ancestor of the most popular deep learning\n",
    "technologies (i.e., multilayer perceptron) and it is the best place to start as\n",
    "it will reveal the basic mechanics and themes of more complicated neural\n",
    "networks.  The job of the perceptron is to create a linear classifier that can\n",
    "separate points in $\\mathbb{R}^n$ between two classes.  The basic idea is that\n",
    "given a set of associations:"
   ]
  },
  {
   "cell_type": "markdown",
   "metadata": {},
   "source": [
    "$$\n",
    "\\lbrace (\\mathbf{x}_0,y_0),\\ldots,(\\mathbf{x}_m,y_m) \\rbrace\n",
    "$$"
   ]
  },
  {
   "cell_type": "markdown",
   "metadata": {},
   "source": [
    " where each $\\mathbf{x}\\in\\mathbb{R}^{n-1}$ is augmented with a\n",
    "unit-entry to account for an offset term, and a set of weights $\\mathbf{w}\\in\n",
    "\\mathbb{R}^n$, compute the following as an estimate of the label $y\\in \\lbrace\n",
    "-1,1 \\rbrace$."
   ]
  },
  {
   "cell_type": "markdown",
   "metadata": {},
   "source": [
    "$$\n",
    "\\hat{y} = \\mathbf{w}^T \\mathbf{x}\n",
    "$$"
   ]
  },
  {
   "cell_type": "markdown",
   "metadata": {},
   "source": [
    " Concisely, this means that we want  $\\mathbf{w}$ such that"
   ]
  },
  {
   "cell_type": "markdown",
   "metadata": {},
   "source": [
    "$$\n",
    "\\mathbf{w}^T \\mathbf{x}_i \\underset{C_1}{\\overset{C_2}{\\gtrless}} 0\n",
    "$$"
   ]
  },
  {
   "cell_type": "markdown",
   "metadata": {},
   "source": [
    " where $\\mathbf{x}_i$ is in class $C_2$ if\n",
    "$\\mathbf{x}_i^T\\mathbf{w}>0$ and class $C_1$ otherwise. To determine these\n",
    "weights, we apply the following learning rule:"
   ]
  },
  {
   "cell_type": "markdown",
   "metadata": {},
   "source": [
    "$$\n",
    "\\mathbf{w}^{(k+1)} = \\mathbf{w}^{(k)} - (y-\\hat{y})\\mathbf{x}_{i}\n",
    "$$"
   ]
  },
  {
   "cell_type": "markdown",
   "metadata": {},
   "source": [
    " The output of the perceptron can be summarized as"
   ]
  },
  {
   "cell_type": "markdown",
   "metadata": {},
   "source": [
    "$$\n",
    "\\hat{y} = \\sgn(\\mathbf{x}_i^T \\mathbf{w})\n",
    "$$"
   ]
  },
  {
   "cell_type": "markdown",
   "metadata": {},
   "source": [
    " The sign is the *activation* function of the perceptron.    With this\n",
    "set up, we can write out the perceptron's output as the following:"
   ]
  },
  {
   "cell_type": "code",
   "execution_count": 2,
   "metadata": {
    "collapsed": false
   },
   "outputs": [],
   "source": [
    "import numpy as np\n",
    "def yhat(x,w):\n",
    "    return np.sign(np.dot(x,w))"
   ]
  },
  {
   "cell_type": "markdown",
   "metadata": {},
   "source": [
    " Let us create some fake data to play with:"
   ]
  },
  {
   "cell_type": "code",
   "execution_count": 3,
   "metadata": {
    "collapsed": false
   },
   "outputs": [],
   "source": [
    "npts = 100\n",
    "X=np.random.rand(npts,2)*6-3 # random scatter in 2-d plane\n",
    "labels=np.ones(X.shape[0],dtype=np.int) # labels are 0 or 1\n",
    "labels[(X[:,1]<X[:,0])]=-1\n",
    "X = np.c_[X,np.ones(X.shape[0])] # augment with offset term"
   ]
  },
  {
   "cell_type": "markdown",
   "metadata": {},
   "source": [
    " Note that we added a column of ones to account for the offset term.\n",
    "Certainly, by our construction, this problem is linearly separable, so let us\n",
    "see if the perceptron can find the boundary between the two classes. Let us \n",
    "start by initializing the weights,"
   ]
  },
  {
   "cell_type": "code",
   "execution_count": 4,
   "metadata": {
    "collapsed": false
   },
   "outputs": [],
   "source": [
    "winit = np.random.randn(3)"
   ]
  },
  {
   "cell_type": "markdown",
   "metadata": {},
   "source": [
    " and then apply the learning rule,"
   ]
  },
  {
   "cell_type": "code",
   "execution_count": 5,
   "metadata": {
    "collapsed": false
   },
   "outputs": [],
   "source": [
    "w= winit\n",
    "for i,j in zip(X,labels):\n",
    "    w = w - (yhat(i,w)-j)*i"
   ]
  },
  {
   "cell_type": "markdown",
   "metadata": {},
   "source": [
    " Note that we are taking a single ordered pass through the data. In\n",
    "practice, we would have randomly shuffled the input data to ensure that there\n",
    "is no incidental structure in the order of the data that would influence\n",
    "training. Now, let us examine the accuracy of the perceptron,"
   ]
  },
  {
   "cell_type": "code",
   "execution_count": 6,
   "metadata": {
    "collapsed": false
   },
   "outputs": [],
   "source": [
    "from sklearn.metrics import accuracy_score\n",
    "print(accuracy_score(labels,[yhat(i,w) for i in X]))"
   ]
  },
  {
   "cell_type": "markdown",
   "metadata": {},
   "source": [
    " We can re-run the training rule over the data to try to improve the \n",
    "accuracy. A pass through the data is called an *epoch*."
   ]
  },
  {
   "cell_type": "code",
   "execution_count": 7,
   "metadata": {
    "collapsed": false
   },
   "outputs": [],
   "source": [
    "for i,j in zip(X,labels):\n",
    "    w = w - (yhat(i,w)-j)*i\n",
    "\n",
    "print(accuracy_score(labels,[yhat(i,w) for i in X]))"
   ]
  },
  {
   "cell_type": "markdown",
   "metadata": {},
   "source": [
    " Note that our initial weight for this epoch is the last weight from\n",
    "the previous pass.  It is common to randomly shuffle the data between epochs.\n",
    "More epochs will result in better accuracy in this case. \n",
    "\n",
    "We can re-do this entire example with `keras`. First, we define the model,"
   ]
  },
  {
   "cell_type": "code",
   "execution_count": 8,
   "metadata": {
    "collapsed": false
   },
   "outputs": [],
   "source": [
    "from keras.models import Sequential\n",
    "from keras.layers import Dense\n",
    "from keras.optimizers import SGD\n",
    "model = Sequential()\n",
    "model.add(Dense(1, input_shape=(2,), activation='softsign'))\n",
    "model.compile(SGD(), 'hinge')"
   ]
  },
  {
   "cell_type": "markdown",
   "metadata": {},
   "source": [
    " Note that we use the `softsign` activation instead of the `sgn` that\n",
    "we used earlier because we need a differentiable activation function.  Given\n",
    "the form of the weight update in perceptron learning, it is equivalent to the\n",
    "`hinge` loss function. Stochastic gradient descent (`SGD`) is chosen for\n",
    "updating the weights.  The `softsign` function is defined as the following:"
   ]
  },
  {
   "cell_type": "markdown",
   "metadata": {},
   "source": [
    "$$\n",
    "s(t) = \\frac{x}{1+\\vert x \\vert}\n",
    "$$"
   ]
  },
  {
   "cell_type": "markdown",
   "metadata": {},
   "source": [
    " We can pull it out from the `tensorflow` backend that `keras` uses as \n",
    "in the following, plotted in [Figure](#fig:deep_learning_002)"
   ]
  },
  {
   "cell_type": "code",
   "execution_count": 9,
   "metadata": {
    "collapsed": false
   },
   "outputs": [],
   "source": [
    "import tensorflow as tf\n",
    "x = tf.placeholder('float')\n",
    "xi = np.linspace(-10,10,100)\n",
    "with tf.Session() as s:\n",
    "    y_=(s.run(tf.nn.softsign(x),feed_dict={x:xi}))"
   ]
  },
  {
   "cell_type": "markdown",
   "metadata": {},
   "source": [
    "<!-- dom:FIGURE: [fig-machine_learning/deep_learning_002.png, width=500 frac=.65] The `softsign` function is a smooth approximation to the `sign` function. This makes it easier to differentiate for backpropagation. <div id=\"fig:deep_learning_002\"></div> -->\n",
    "<!-- begin figure -->\n",
    "<div id=\"fig:deep_learning_002\"></div>\n",
    "\n",
    "<p>The <code>softsign</code> function is a smooth approximation to the <code>sign</code> function. This makes it easier to differentiate for backpropagation.</p>\n",
    "<img src=\"fig-machine_learning/deep_learning_002.png\" width=500>\n",
    "\n",
    "<!-- end figure -->"
   ]
  },
  {
   "cell_type": "code",
   "execution_count": 10,
   "metadata": {
    "collapsed": false
   },
   "outputs": [],
   "source": [
    "from matplotlib.pylab import subplots\n",
    "fig,ax=subplots()\n",
    "_=ax.plot(xi,y_,label='softsign',color='k')\n",
    "_=ax.plot(xi,np.sign(xi),label='sign',linestyle='--',color='k')\n",
    "_=ax.spines['top'].set_visible(False)\n",
    "_=ax.spines['right'].set_visible(False)\n",
    "_=ax.spines['bottom'].set_position(('data',0))\n",
    "_=ax.legend()\n",
    "fig.savefig('fig-machine_learning/deep_learning_002.png')"
   ]
  },
  {
   "cell_type": "markdown",
   "metadata": {},
   "source": [
    " Next, all we have to do is `fit` the model on data,"
   ]
  },
  {
   "cell_type": "code",
   "execution_count": 11,
   "metadata": {
    "collapsed": false
   },
   "outputs": [],
   "source": [
    "h=model.fit(X[:,:2], labels, epochs=300, verbose=0)"
   ]
  },
  {
   "cell_type": "markdown",
   "metadata": {},
   "source": [
    " The `h` variable is the *history* that contains the internal \n",
    "metrics and parameters involved in the `fit` training phase. We can extract the \n",
    "trajectory of the loss function from this history and draw the `loss` in \n",
    "[Figure](#fig:deep_learning_003)."
   ]
  },
  {
   "cell_type": "code",
   "execution_count": 12,
   "metadata": {
    "collapsed": false
   },
   "outputs": [],
   "source": [
    "fig,ax=subplots()\n",
    "_=ax.plot(h.history['loss'],'k-')\n",
    "_=ax.set_ylabel('Loss',fontsize=18)\n",
    "_=ax.set_xlabel('epochs',fontsize=18)\n",
    "_=ax.spines['top'].set_visible(False)\n",
    "_=ax.spines['right'].set_visible(False)\n",
    "fig.savefig('fig-machine_learning/deep_learning_003.png')"
   ]
  },
  {
   "cell_type": "markdown",
   "metadata": {},
   "source": [
    "<!-- dom:FIGURE: [fig-machine_learning/deep_learning_003.png, width=500 frac=.65] Trajectory of the loss function. <div id=\"fig:deep_learning_003\"></div> -->\n",
    "<!-- begin figure -->\n",
    "<div id=\"fig:deep_learning_003\"></div>\n",
    "\n",
    "<p>Trajectory of the loss function.</p>\n",
    "<img src=\"fig-machine_learning/deep_learning_003.png\" width=500>\n",
    "\n",
    "<!-- end figure -->\n",
    "\n",
    "\n",
    "<!-- # discuss limitations for perceptron for xor problem and VC dimension comments -->\n",
    "\n",
    "### Multi-Layer Perceptron\n",
    "\n",
    "The Multi-Layer Perceptron (MLP) generalizes the perceptron by stacking them as\n",
    "fully connected individual layers.  The basic topology is shown in [Figure](#fig:MLP_figure).  In the previous section we saw that the basic perceptron\n",
    "could generate a linear boundary for data that is linearly separable. The MLP\n",
    "can create more complex nonlinear boundaries. Let us examine the *moons*\n",
    "dataset from scikit-learn,\n",
    "\n",
    "<!-- dom:FIGURE: [fig-machine_learning/MLP.png, width=500 frac=.85] The basic multi-layer perceptron has a single hidden layer between input and output. Each of the arrows has a multiplicative weight associated with it.  <div id=\"fig:MLP_figure\"></div> -->\n",
    "<!-- begin figure -->\n",
    "<div id=\"fig:MLP_figure\"></div>\n",
    "\n",
    "<p>The basic multi-layer perceptron has a single hidden layer between input and output. Each of the arrows has a multiplicative weight associated with it.</p>\n",
    "<img src=\"fig-machine_learning/MLP.png\" width=500>\n",
    "\n",
    "<!-- end figure -->"
   ]
  },
  {
   "cell_type": "code",
   "execution_count": 13,
   "metadata": {
    "collapsed": false
   },
   "outputs": [],
   "source": [
    "from sklearn.datasets import make_moons\n",
    "X, y = make_moons(n_samples=1000, noise=0.1, random_state=1234)"
   ]
  },
  {
   "cell_type": "markdown",
   "metadata": {},
   "source": [
    " The purpose of the `noise` term is to make data for each of the\n",
    "categories harder to disambiguate. These data are shown in [Figure](#fig:deep_learning_004)"
   ]
  },
  {
   "cell_type": "code",
   "execution_count": 14,
   "metadata": {
    "collapsed": false
   },
   "outputs": [],
   "source": [
    "fig,ax=subplots()\n",
    "_=ax.plot(X[y==0,0],X[y==0,1],'o',color='b',alpha=0.3)\n",
    "_=ax.plot(X[y==1,0],X[y==1,1],'s',color='r',alpha=0.3)\n",
    "_=ax.spines['top'].set_visible(False)\n",
    "_=ax.spines['right'].set_visible(False)\n",
    "fig.savefig('fig-machine_learning/deep_learning_004.png')"
   ]
  },
  {
   "cell_type": "markdown",
   "metadata": {},
   "source": [
    "<!-- dom:FIGURE: [fig-machine_learning/deep_learning_004.png, width=500 frac=.65] Data from `make_moons`. <div id=\"fig:deep_learning_004\"></div> -->\n",
    "<!-- begin figure -->\n",
    "<div id=\"fig:deep_learning_004\"></div>\n",
    "\n",
    "<p>Data from <code>make_moons</code>.</p>\n",
    "<img src=\"fig-machine_learning/deep_learning_004.png\" width=500>\n",
    "\n",
    "<!-- end figure -->\n",
    "\n",
    "\n",
    "The challenge for the MLP is to derive a nonlinear boundary between these two\n",
    "classes. We contruct our MLP using `keras`,"
   ]
  },
  {
   "cell_type": "code",
   "execution_count": 15,
   "metadata": {
    "collapsed": false
   },
   "outputs": [],
   "source": [
    "from keras.optimizers import Adam\n",
    "model = Sequential()\n",
    "model.add(Dense(4,input_shape=(2,),activation='sigmoid'))\n",
    "model.add(Dense(2,activation='sigmoid'))\n",
    "model.add(Dense(1,activation='sigmoid'))\n",
    "model.compile(Adam(lr=0.05), 'binary_crossentropy')"
   ]
  },
  {
   "cell_type": "markdown",
   "metadata": {},
   "source": [
    " This MLP has three layers. The input layer has four units and the\n",
    "next layer has two units and the output layer has one unit to distinguish\n",
    "between the two available classes. Instead of plain stochastic gradient\n",
    "descent, we use the more advanced `Adam`  optimizer.  A quick \n",
    "summary of the model elements and parameters comes \n",
    "from the `model.summary()` method,"
   ]
  },
  {
   "cell_type": "code",
   "execution_count": 16,
   "metadata": {
    "collapsed": false
   },
   "outputs": [],
   "source": [
    "model.summary()"
   ]
  },
  {
   "cell_type": "markdown",
   "metadata": {},
   "source": [
    " As usual,  we split the input data into train and test sets,"
   ]
  },
  {
   "cell_type": "code",
   "execution_count": 17,
   "metadata": {
    "collapsed": false
   },
   "outputs": [],
   "source": [
    "from sklearn.model_selection import train_test_split\n",
    "X_train,X_test,y_train,y_test=train_test_split(X,y,\n",
    "                                               test_size=0.3,\n",
    "                                               random_state=1234)"
   ]
  },
  {
   "cell_type": "markdown",
   "metadata": {},
   "source": [
    " Thus, we reserve 30 percent of the data for testing. Next, we train the \n",
    "MLP,"
   ]
  },
  {
   "cell_type": "code",
   "execution_count": 18,
   "metadata": {
    "collapsed": false
   },
   "outputs": [],
   "source": [
    "h=model.fit(X_train, y_train, epochs=100, verbose=0)"
   ]
  },
  {
   "cell_type": "markdown",
   "metadata": {},
   "source": [
    " To compute the accuracy metric using the test set, we need to compute \n",
    "the model prediction on the this set."
   ]
  },
  {
   "cell_type": "code",
   "execution_count": 19,
   "metadata": {
    "collapsed": false
   },
   "outputs": [],
   "source": [
    "y_train_ = model.predict_classes(X_train,verbose=0)\n",
    "y_test_ = model.predict_classes(X_test,verbose=0)\n",
    "print(accuracy_score(y_train,y_train_))\n",
    "print(accuracy_score(y_test,y_test_))"
   ]
  },
  {
   "cell_type": "markdown",
   "metadata": {},
   "source": [
    "  To visualize the so-derived boundary between these two classes, we\n",
    "use the `contourf` function from matplotlib which generates a filled contour\n",
    "plot shown in [Figure](#fig:deep_learning_005)."
   ]
  },
  {
   "cell_type": "code",
   "execution_count": 20,
   "metadata": {
    "collapsed": false
   },
   "outputs": [],
   "source": [
    "xmin, ymin = X.min(axis=0)\n",
    "xmax, ymax = X.max(axis=0)\n",
    "xticks = np.linspace(xmin-0.1, xmax+0.1, 150)\n",
    "yticks = np.linspace(ymin-0.1, ymax+0.1, 150)\n",
    "xg,yg = np.meshgrid(xticks, yticks)\n",
    "cg = model.predict(np.c_[xg.ravel(), yg.ravel()]).reshape(xg.shape)\n",
    "fig,ax=subplots()\n",
    "_=ax.plot(X[y==0,0],X[y==0,1],'o',color='b',alpha=0.3)\n",
    "_=ax.plot(X[y==1,0],X[y==1,1],'s',color='r',alpha=0.3)\n",
    "_=ax.contourf(xg,yg, cg, cmap='bwr', alpha=0.2)\n",
    "fig.savefig('fig-machine_learning/deep_learning_005.png')"
   ]
  },
  {
   "cell_type": "markdown",
   "metadata": {},
   "source": [
    "<!-- dom:FIGURE: [fig-machine_learning/deep_learning_005.png, width=500 frac=.65] The derived boundary separates the two classes. <div id=\"fig:deep_learning_005\"></div> -->\n",
    "<!-- begin figure -->\n",
    "<div id=\"fig:deep_learning_005\"></div>\n",
    "\n",
    "<p>The derived boundary separates the two classes.</p>\n",
    "<img src=\"fig-machine_learning/deep_learning_005.png\" width=500>\n",
    "\n",
    "<!-- end figure -->\n",
    "\n",
    "\n",
    " Instead of computing the accuracy separately, we can assign it as a\n",
    "*metric* for `keras` to track by supplying it on the `compile` step, as in the \n",
    "following,"
   ]
  },
  {
   "cell_type": "code",
   "execution_count": 21,
   "metadata": {
    "collapsed": false
   },
   "outputs": [],
   "source": [
    "model.compile(Adam(lr=0.05), \n",
    "              'binary_crossentropy',\n",
    "              metrics=['accuracy'])"
   ]
  },
  {
   "cell_type": "markdown",
   "metadata": {},
   "source": [
    " Then, we can train again,"
   ]
  },
  {
   "cell_type": "code",
   "execution_count": 22,
   "metadata": {
    "collapsed": false
   },
   "outputs": [],
   "source": [
    "h=model.fit(X_train, y_train, epochs=100, verbose=0)"
   ]
  },
  {
   "cell_type": "markdown",
   "metadata": {},
   "source": [
    " Now, we can evaluate the model on the test data,"
   ]
  },
  {
   "cell_type": "code",
   "execution_count": 23,
   "metadata": {
    "collapsed": false
   },
   "outputs": [],
   "source": [
    "loss,acc=model.evaluate(X_test,y_test,verbose=0)\n",
    "print(acc)"
   ]
  },
  {
   "cell_type": "markdown",
   "metadata": {},
   "source": [
    " where `loss` is the loss function and `acc` is the corresponding\n",
    "accuracy. The documentation has other metrics that can be specified during the\n",
    "`compile` step.\n",
    "\n",
    "### Backpropagation\n",
    "\n",
    "We have seen that the MLP can generate complicated nonlinear boundaries for\n",
    "classification problems.  The key algorithm underpinning MLP is\n",
    "backpropagation. The idea is that when we stack layers into the MLP, we are \n",
    "applying function composition, which basically means we take the output of \n",
    "one function and then feed it into the input of another."
   ]
  },
  {
   "cell_type": "markdown",
   "metadata": {},
   "source": [
    "$$\n",
    "h = (f \\circ g)(x) = f(g(x))\n",
    "$$"
   ]
  },
  {
   "cell_type": "markdown",
   "metadata": {},
   "source": [
    " For example, for the simple perceptron, we have $g(\\mathbf{x}) =\n",
    "\\mathbf{w}^T \\mathbf{x}$ and $f(x) = \\sgn(x)$.  They key property of this\n",
    "composition is that derivatives use the chain rule from calculus."
   ]
  },
  {
   "cell_type": "markdown",
   "metadata": {},
   "source": [
    "$$\n",
    "h'(x) = f'(g(x))g'(x)\n",
    "$$"
   ]
  },
  {
   "cell_type": "markdown",
   "metadata": {},
   "source": [
    " Notice this has turned the differentiation operation into a\n",
    "multiplication operation. Explaining backpropagation in general is a notational\n",
    "nightmare, so let us see if we can get the main idea from a specific example.\n",
    "Consider the following two layer MLP with one input and one output.\n",
    "\n",
    "There is only one input ($x_1$). The output of the first layer is"
   ]
  },
  {
   "cell_type": "markdown",
   "metadata": {},
   "source": [
    "$$\n",
    "z_1 = f(x_1 w_1 + b_1) = f(p_1)\n",
    "$$"
   ]
  },
  {
   "cell_type": "markdown",
   "metadata": {},
   "source": [
    " where $f$ is the sigmoid function and $b_1$ is the bias term. The\n",
    "output of the second layer is"
   ]
  },
  {
   "cell_type": "markdown",
   "metadata": {},
   "source": [
    "$$\n",
    "z_2 = f( z_1 w_2 + b_2 ) = f(p_2)\n",
    "$$"
   ]
  },
  {
   "cell_type": "markdown",
   "metadata": {},
   "source": [
    " To keep it simple, let us suppose that the loss function for this MLP\n",
    "is the squared error,"
   ]
  },
  {
   "cell_type": "markdown",
   "metadata": {},
   "source": [
    "$$\n",
    "J = \\frac{1}{2}(z_2-y)^2\n",
    "$$"
   ]
  },
  {
   "cell_type": "markdown",
   "metadata": {},
   "source": [
    " where $y$ is the target label. Backpropagation has two phases. The\n",
    "forward phase computes the MLP loss function given the values of the inputs\n",
    "and corresponding weights. The backward phase applies the incremental\n",
    "weight updates to each weight based on the forward phase. To implement gradient\n",
    "descent, we have to calculate the derivative of the loss function with respect\n",
    "to each of the weights."
   ]
  },
  {
   "cell_type": "markdown",
   "metadata": {},
   "source": [
    "$$\n",
    "\\frac{\\partial J}{\\partial w_2} = \\frac{\\partial J}{\\partial z_2} \\frac{\\partial z_2}{\\partial p_2} \\frac{\\partial p_2}{\\partial w_2 }\n",
    "$$"
   ]
  },
  {
   "cell_type": "markdown",
   "metadata": {},
   "source": [
    " The first term is the following,"
   ]
  },
  {
   "cell_type": "markdown",
   "metadata": {},
   "source": [
    "$$\n",
    "\\frac{\\partial J}{\\partial z_2} = z_2-y\n",
    "$$"
   ]
  },
  {
   "cell_type": "markdown",
   "metadata": {},
   "source": [
    " The second term is the following,"
   ]
  },
  {
   "cell_type": "markdown",
   "metadata": {},
   "source": [
    "$$\n",
    "\\frac{\\partial z_2}{\\partial p_2}  = f'(p_2) = f(p_2)(1-f(p_2))\n",
    "$$"
   ]
  },
  {
   "cell_type": "markdown",
   "metadata": {},
   "source": [
    " Note that by property of the sigmoid function, we have $f'(x) =\n",
    "(1-f(x))f(x)$. The third term is the following,"
   ]
  },
  {
   "cell_type": "markdown",
   "metadata": {},
   "source": [
    "$$\n",
    "\\frac{\\partial p_2}{\\partial w_2}  = z_1\n",
    "$$"
   ]
  },
  {
   "cell_type": "markdown",
   "metadata": {},
   "source": [
    " Thus, the update for $w_2$ is the following,"
   ]
  },
  {
   "cell_type": "markdown",
   "metadata": {},
   "source": [
    "$$\n",
    "\\Delta w_2 \\propto  (z_2-y)z_1(1-z_2) z_2\n",
    "$$"
   ]
  },
  {
   "cell_type": "markdown",
   "metadata": {},
   "source": [
    " The corresponding analysis fo $b_2$ gives the following,"
   ]
  },
  {
   "cell_type": "markdown",
   "metadata": {},
   "source": [
    "$$\n",
    "\\Delta b_2  = (z_2-y)z_2(1-z_2)\n",
    "$$"
   ]
  },
  {
   "cell_type": "markdown",
   "metadata": {},
   "source": [
    "Let's keep going backwards to $w_1$,"
   ]
  },
  {
   "cell_type": "markdown",
   "metadata": {},
   "source": [
    "$$\n",
    "\\frac{\\partial J}{\\partial w_1}=\\frac{\\partial J}{\\partial z_2}\\frac{\\partial z_2}{\\partial p_2} \\frac{\\partial p_2}{\\partial z_1 } \\frac{\\partial z_1}{\\partial p_1 } \\frac{\\partial p_1}{\\partial w_1 }\n",
    "$$"
   ]
  },
  {
   "cell_type": "markdown",
   "metadata": {},
   "source": [
    " The first new term is the following,"
   ]
  },
  {
   "cell_type": "markdown",
   "metadata": {},
   "source": [
    "$$\n",
    "\\frac{\\partial p_2}{\\partial z_1} = w_2\n",
    "$$"
   ]
  },
  {
   "cell_type": "markdown",
   "metadata": {},
   "source": [
    " and then the next two terms,"
   ]
  },
  {
   "cell_type": "markdown",
   "metadata": {},
   "source": [
    "$$\n",
    "\\frac{\\partial z_1}{\\partial p_1} = f(p_1)(1-f(p_1)) = z_1(1-z_1)\n",
    "$$"
   ]
  },
  {
   "cell_type": "markdown",
   "metadata": {},
   "source": [
    "$$\n",
    "\\frac{\\partial p_1}{\\partial w_1} = x_1\n",
    "$$"
   ]
  },
  {
   "cell_type": "markdown",
   "metadata": {},
   "source": [
    " This makes the update for $w_1$,"
   ]
  },
  {
   "cell_type": "markdown",
   "metadata": {},
   "source": [
    "$$\n",
    "\\Delta w_1 \\propto (z_2-y)z_2(1-z_2)w_2 z_1(1-z_1)x_1\n",
    "$$"
   ]
  },
  {
   "cell_type": "markdown",
   "metadata": {},
   "source": [
    " To understand why this is called backpropagation, we can define"
   ]
  },
  {
   "cell_type": "markdown",
   "metadata": {},
   "source": [
    "$$\n",
    "\\delta_2 := (z_2-y)z_2(1-z_2)\n",
    "$$"
   ]
  },
  {
   "cell_type": "markdown",
   "metadata": {},
   "source": [
    " This makes the weight update for $w_2$,"
   ]
  },
  {
   "cell_type": "markdown",
   "metadata": {},
   "source": [
    "$$\n",
    "\\Delta w_2 \\propto \\delta_2 z_1\n",
    "$$"
   ]
  },
  {
   "cell_type": "markdown",
   "metadata": {},
   "source": [
    " This means that the weight update for $w_2$ is proportional to the\n",
    "output of the prior layer ($z_1$) and a factor that accounts steepness of the\n",
    "activation function.  Likewise,  the weight update for $w_1$ can be written as\n",
    "the following,"
   ]
  },
  {
   "cell_type": "markdown",
   "metadata": {},
   "source": [
    "$$\n",
    "\\Delta w_1 \\propto \\delta_1 x_1\n",
    "$$"
   ]
  },
  {
   "cell_type": "markdown",
   "metadata": {},
   "source": [
    " where"
   ]
  },
  {
   "cell_type": "markdown",
   "metadata": {},
   "source": [
    "$$\n",
    "\\delta_1 := \\delta_2 w_2 z_1(1-z_1)\n",
    "$$"
   ]
  },
  {
   "cell_type": "markdown",
   "metadata": {},
   "source": [
    " Note that this weight update is proportional to the input (prior\n",
    "layer's output) just as the weight update for $w_2$ was proportional to the\n",
    "prior layer output $z_1$.  Also, the $\\delta$ factors propagate recursively\n",
    "backwards to the input layer.  These characteristics permit efficient numerical\n",
    "implementations for large networks because the subsequent computations are\n",
    "based on prior calculations. This also means that each individual unit's\n",
    "calculations are localized upon the output of the prior layer. This helps\n",
    "segregate the individual processing behavior of each unit within each layer.\n",
    "\n",
    "### Functional Deep Learning\n",
    "\n",
    "Keras has an alternative API that makes it possible to \n",
    "understand the performance of neural networks using the composition of \n",
    "functions ideas we discussed. The key objects for this functional \n",
    "interpretation are the `Input` object and the `Model` object."
   ]
  },
  {
   "cell_type": "code",
   "execution_count": 24,
   "metadata": {
    "collapsed": false
   },
   "outputs": [],
   "source": [
    "from keras.layers import Input\n",
    "from keras.models import Model\n",
    "import keras.backend as K"
   ]
  },
  {
   "cell_type": "markdown",
   "metadata": {},
   "source": [
    " We can re-create the data from our earlier classification example"
   ]
  },
  {
   "cell_type": "code",
   "execution_count": 25,
   "metadata": {
    "collapsed": false
   },
   "outputs": [],
   "source": [
    "from sklearn.datasets import make_moons\n",
    "X, y = make_moons(n_samples=1000, noise=0.1, random_state=1234)"
   ]
  },
  {
   "cell_type": "markdown",
   "metadata": {},
   "source": [
    " The first step is contruct a placeholder for the input using \n",
    "the `Input` object,"
   ]
  },
  {
   "cell_type": "code",
   "execution_count": 26,
   "metadata": {
    "collapsed": false
   },
   "outputs": [],
   "source": [
    "inputs = Input(shape=(2,))"
   ]
  },
  {
   "cell_type": "markdown",
   "metadata": {},
   "source": [
    " Next, we can stack the `Dense` layers as before but now tie their \n",
    "inputs to the previous layer's outputs by calling `Dense` as a function."
   ]
  },
  {
   "cell_type": "code",
   "execution_count": 27,
   "metadata": {
    "collapsed": false
   },
   "outputs": [],
   "source": [
    "l1=Dense(3,input_shape=(2,),activation='sigmoid')(inputs)\n",
    "l2=Dense(2,input_shape=(3,),activation='sigmoid')(l1)\n",
    "outputs=Dense(1,input_shape=(3,),activation='sigmoid')(l1)"
   ]
  },
  {
   "cell_type": "markdown",
   "metadata": {},
   "source": [
    " This means that $\\textnormal{output}=(\\ell_2 \\circ \\ell_1 )(\\textnormal{input})$\n",
    "where $\\ell_1$ and $\\ell_2$ are the middle layers. With that established, we\n",
    "collect the individual pieces in the the `Model` object and then `fit` and\n",
    "`train` as usual."
   ]
  },
  {
   "cell_type": "code",
   "execution_count": 28,
   "metadata": {
    "collapsed": false
   },
   "outputs": [],
   "source": [
    "model = Model(inputs=inputs,outputs=outputs)\n",
    "model.compile(Adam(lr=0.05), \n",
    "              'binary_crossentropy',\n",
    "              metrics=['accuracy'])\n",
    "h=model.fit(X_train, y_train, epochs=500, verbose=0)"
   ]
  },
  {
   "cell_type": "markdown",
   "metadata": {},
   "source": [
    " This gives the same result as before. The advantage of the functional\n",
    "perspective is that now we can think of the individual layers as mappings\n",
    "between multi-dimensional $\\mathbb{R}^n$ spaces. For example, $\\ell_1:\n",
    "\\mathbb{R}^2 \\mapsto \\mathbb{R}^3$ and $\\ell_2: \\mathbb{R}^3 \\mapsto\n",
    "\\mathbb{R}^2$. Now, we can investigate the performance of the network \n",
    "from the inputs just up until the final mapping to $\\mathbb{R}$ at the output\n",
    "by defining the functional mapping $(\\ell_2 \\circ \\ell_1)(\\textnormal{inputs}): \\mathbb{R}^2\\mapsto \\mathbb{R}^2$,\n",
    "as shown in [Figure](#fig:deep_learning_006).\n",
    "\n",
    "To get this result, we have to define a keras `function` using the `inputs`."
   ]
  },
  {
   "cell_type": "code",
   "execution_count": 29,
   "metadata": {
    "collapsed": false
   },
   "outputs": [],
   "source": [
    "l2_function = K.function([inputs], [l2])\n",
    "# functional mapping just before output layer\n",
    "l2o=l2_function([X_train])"
   ]
  },
  {
   "cell_type": "markdown",
   "metadata": {},
   "source": [
    " the `l2o` list contains the output of the `l2` layer that \n",
    "is shown in [Figure](#fig:deep_learning_006)."
   ]
  },
  {
   "cell_type": "code",
   "execution_count": 30,
   "metadata": {
    "collapsed": false
   },
   "outputs": [],
   "source": [
    "l2_function = K.function([inputs], [l2])\n",
    "# functional mapping just before output layer\n",
    "l2o=l2_function([X_train])[0]\n",
    "\n",
    "fig,ax=subplots()\n",
    "_=ax.scatter(l2o[:,0],l2o[:,1],c=[ 'b' if i else 'k' for i in y_train],alpha=0.2)\n",
    "_=ax.spines['top'].set_visible(False)\n",
    "_=ax.spines['right'].set_visible(False)\n",
    "fig.savefig('fig-machine_learning/deep_learning_006.png')"
   ]
  },
  {
   "cell_type": "markdown",
   "metadata": {},
   "source": [
    "<!-- dom:FIGURE: [fig-machine_learning/deep_learning_006.png, width=500 frac=.65] The embedded representation of the input just before the final output that shows the internal divergence of the two target classes. <div id=\"fig:deep_learning_006\"></div> -->\n",
    "<!-- begin figure -->\n",
    "<div id=\"fig:deep_learning_006\"></div>\n",
    "\n",
    "<p>The embedded representation of the input just before the final output that shows the internal divergence of the two target classes.</p>\n",
    "<img src=\"fig-machine_learning/deep_learning_006.png\" width=500>\n",
    "\n",
    "<!-- end figure -->\n",
    "\n",
    "\n",
    "<!-- # -->\n",
    "\n",
    "## Introduction to Tensorflow\n",
    "\n",
    "<!-- TODO: Tensorboard intro -->\n",
    "\n",
    "\n",
    "\n",
    "Tensorflow is the leading deep learning framework.  It is\n",
    "written in $\\verb!C++!$ with Python bindings. Although we\n",
    "will primarily use the brilliant Keras abstraction layer to\n",
    "compose our neural networks with Tensorflow providing the\n",
    "backed computing, it is helpful to see how Tensorflow itself\n",
    "works and how to interact with it, especially for later\n",
    "debugging.  To get started, import Tensorflow using the\n",
    "recommended convention."
   ]
  },
  {
   "cell_type": "code",
   "execution_count": 31,
   "metadata": {
    "collapsed": false
   },
   "outputs": [],
   "source": [
    "import tensorflow as tf"
   ]
  },
  {
   "cell_type": "markdown",
   "metadata": {},
   "source": [
    "Tensorflow is graph-based. We have to assemble a computational graph.\n",
    "To get started, let's define some constants,"
   ]
  },
  {
   "cell_type": "code",
   "execution_count": 32,
   "metadata": {
    "collapsed": false
   },
   "outputs": [],
   "source": [
    "# declare constants\n",
    "a = tf.constant(2)\n",
    "b = tf.constant(3)"
   ]
  },
  {
   "cell_type": "markdown",
   "metadata": {},
   "source": [
    " The context manager (i.e., the `with` statement) is the recommended\n",
    "way to create a *session* variable, which is a realization of the computational\n",
    "graph that is composed of operations and *tensor* data objects. In this\n",
    "context, a *tensor* is another word for a multidimensional matrix."
   ]
  },
  {
   "cell_type": "code",
   "execution_count": 33,
   "metadata": {
    "collapsed": false
   },
   "outputs": [],
   "source": [
    "# default graph using the context manager\n",
    "with tf.Session() as sess:\n",
    "    print('a= ',a.eval())\n",
    "    print('b= ',b.eval())\n",
    "    print(\"a+b\",sess.run(a+b))"
   ]
  },
  {
   "cell_type": "markdown",
   "metadata": {},
   "source": [
    " Thus, we can do some basic arithmetic on the declared variables. We\n",
    "can abstract the graph using placeholders. For example, to implement the\n",
    "computational graph shown in [Figure](#fig:intro_tensorflow_001), we can\n",
    "define the following,\n",
    "\n",
    "<!-- dom:FIGURE: [fig-machine_learning/adder.png, frac=0.35] Flow diagram for adder. <div id=\"fig:intro_tensorflow_001\"></div> -->\n",
    "<!-- begin figure -->\n",
    "<div id=\"fig:intro_tensorflow_001\"></div>\n",
    "\n",
    "<p>Flow diagram for adder.</p>\n",
    "<img src=\"fig-machine_learning/adder.png\" >\n",
    "\n",
    "<!-- end figure -->"
   ]
  },
  {
   "cell_type": "code",
   "execution_count": 34,
   "metadata": {
    "collapsed": false
   },
   "outputs": [],
   "source": [
    "a = tf.placeholder(tf.int16)\n",
    "b = tf.placeholder(tf.int16)"
   ]
  },
  {
   "cell_type": "markdown",
   "metadata": {},
   "source": [
    " Next, we define the addition operation in the graph,"
   ]
  },
  {
   "cell_type": "code",
   "execution_count": 35,
   "metadata": {
    "collapsed": false
   },
   "outputs": [],
   "source": [
    "# declare operation\n",
    "adder = tf.add(a,b)"
   ]
  },
  {
   "cell_type": "markdown",
   "metadata": {},
   "source": [
    " Then, we compose and execute the graph using the context manager,"
   ]
  },
  {
   "cell_type": "code",
   "execution_count": 36,
   "metadata": {
    "collapsed": false
   },
   "outputs": [],
   "source": [
    "# default graph using context manager\n",
    "with tf.Session() as sess:\n",
    "    print (sess.run(adder, feed_dict={a: 2, b: 3}))"
   ]
  },
  {
   "cell_type": "markdown",
   "metadata": {},
   "source": [
    " This works with matrices also, with few changes"
   ]
  },
  {
   "cell_type": "code",
   "execution_count": 37,
   "metadata": {
    "collapsed": false
   },
   "outputs": [],
   "source": [
    "import numpy as np\n",
    "a = tf.placeholder('float',[3,5])\n",
    "b = tf.placeholder('float',[3,5])\n",
    "adder = tf.add(a,b)\n",
    "with tf.Session() as sess:\n",
    "   b_ = np.arange(15).reshape((3,5))\n",
    "   print(sess.run(adder,feed_dict={a:np.ones((3,5)),\n",
    "                                   b:b_}))"
   ]
  },
  {
   "cell_type": "markdown",
   "metadata": {},
   "source": [
    " Matrix operations like multiplication are\n",
    "also implemented, \n",
    "\n",
    "<!-- dom:FIGURE: [fig-machine_learning/multiplier.png, frac=0.35] Flow diagram for multiplier   <div id=\"fig:intro_tensorflow_002\"></div> -->\n",
    "<!-- begin figure -->\n",
    "<div id=\"fig:intro_tensorflow_002\"></div>\n",
    "\n",
    "<p>Flow diagram for multiplier</p>\n",
    "<img src=\"fig-machine_learning/multiplier.png\" >\n",
    "\n",
    "<!-- end figure -->"
   ]
  },
  {
   "cell_type": "code",
   "execution_count": 38,
   "metadata": {
    "collapsed": false
   },
   "outputs": [],
   "source": [
    "# the None dimension leaves it variable\n",
    "b = tf.placeholder('float',[5,None])\n",
    "multiplier = tf.matmul(a,b)\n",
    "with tf.Session() as sess:\n",
    "   b_ = np.arange(20).reshape((5,4))\n",
    "   print(sess.run(multiplier,feed_dict={a:np.ones((3,5)),\n",
    "                                        b:b_}))"
   ]
  },
  {
   "cell_type": "markdown",
   "metadata": {},
   "source": [
    " The individual computational graphs can be stacked\n",
    "as shown in [Figure](#fig:intro_tensorflow_003).\n",
    "\n",
    "<!-- dom:FIGURE: [fig-machine_learning/add_mult.png, frac=0.5] Flow diagram for adder and multiplier. <div id=\"fig:intro_tensorflow_003\"></div> -->\n",
    "<!-- begin figure -->\n",
    "<div id=\"fig:intro_tensorflow_003\"></div>\n",
    "\n",
    "<p>Flow diagram for adder and multiplier.</p>\n",
    "<img src=\"fig-machine_learning/add_mult.png\" >\n",
    "\n",
    "<!-- end figure -->"
   ]
  },
  {
   "cell_type": "code",
   "execution_count": 39,
   "metadata": {
    "collapsed": false
   },
   "outputs": [],
   "source": [
    "b = tf.placeholder('float',[3,5])\n",
    "c = tf.placeholder('float',[5,None])\n",
    "adder = tf.add(a,b)\n",
    "multiplier = tf.matmul(adder,c)\n",
    "with tf.Session() as sess:\n",
    "   b_ = np.arange(15).reshape((3,-1))\n",
    "   c_ = np.arange(20).reshape((5,4))\n",
    "   print(sess.run(multiplier,feed_dict={a:np.ones((3,5)),\n",
    "                                        b:b_,\n",
    "                                        c:c_}))"
   ]
  },
  {
   "cell_type": "markdown",
   "metadata": {},
   "source": [
    "### Optimizers\n",
    "\n",
    "To compute the parameters of complicated neural networks, a wide variety of\n",
    "optimization algorithms are also implemented in Tensorflow.  Consider the\n",
    "classic least-squares problem: Find $\\mathbf{x}$ that minimizes"
   ]
  },
  {
   "cell_type": "markdown",
   "metadata": {},
   "source": [
    "$$\n",
    "\\min_{\\mathbf{x}}\\Vert\\mathbf{A}\\mathbf{x}-\\mathbf{b}\\Vert^2\n",
    "$$"
   ]
  },
  {
   "cell_type": "markdown",
   "metadata": {},
   "source": [
    " First, we have to define a *variable* that we want\n",
    "the optimizer to solve for,"
   ]
  },
  {
   "cell_type": "code",
   "execution_count": 40,
   "metadata": {
    "collapsed": false
   },
   "outputs": [],
   "source": [
    "x = tf.Variable(tf.zeros((3,1)))"
   ]
  },
  {
   "cell_type": "markdown",
   "metadata": {},
   "source": [
    " Next, we create sample matrices $\\mathbf{A}$ and $\\mathbf{b}$,"
   ]
  },
  {
   "cell_type": "code",
   "execution_count": 41,
   "metadata": {
    "collapsed": false
   },
   "outputs": [],
   "source": [
    "A = tf.constant([6,6,4,\n",
    "                 3,4,0,\n",
    "                 7,2,2,\n",
    "                 0,2,1,\n",
    "                 1,6,3],'float',shape=(5,3))\n",
    "b = tf.constant([1,2,3,4,5],'float',shape=(5,1))"
   ]
  },
  {
   "cell_type": "markdown",
   "metadata": {},
   "source": [
    " In neural network terminology, the output of the model ($\\mathbf{A}\\mathbf{x}$)\n",
    "is called the *activation*,"
   ]
  },
  {
   "cell_type": "code",
   "execution_count": 42,
   "metadata": {
    "collapsed": false
   },
   "outputs": [],
   "source": [
    "activation = tf.matmul(A,x)"
   ]
  },
  {
   "cell_type": "markdown",
   "metadata": {},
   "source": [
    " The job of the optimizer is to minimize the squared distance between\n",
    "the activation and the $\\mathbf{b}$ vector. Tensorflow implements primitives\n",
    "like `reduce_sum` to compute the square difference as a `cost` variable."
   ]
  },
  {
   "cell_type": "code",
   "execution_count": 43,
   "metadata": {
    "collapsed": false
   },
   "outputs": [],
   "source": [
    "cost = tf.reduce_sum(tf.pow(activation-b,2))"
   ]
  },
  {
   "cell_type": "markdown",
   "metadata": {},
   "source": [
    " With all that defined, we can construct the specific\n",
    "Tensorflow optimizer we want,"
   ]
  },
  {
   "cell_type": "code",
   "execution_count": 44,
   "metadata": {
    "collapsed": false
   },
   "outputs": [],
   "source": [
    "learning_rate = 0.001\n",
    "optimizer=tf.train.GradientDescentOptimizer(learning_rate).minimize(cost)"
   ]
  },
  {
   "cell_type": "markdown",
   "metadata": {},
   "source": [
    " The `learning_rate` is an embedded parameter for the\n",
    "`GradientDescentOptimizer` gradient descent algorithm. Next, we\n",
    "have to initialize all the variables,"
   ]
  },
  {
   "cell_type": "code",
   "execution_count": 45,
   "metadata": {
    "collapsed": false
   },
   "outputs": [],
   "source": [
    "init=tf.global_variables_initializer()"
   ]
  },
  {
   "cell_type": "markdown",
   "metadata": {},
   "source": [
    " and create the session, without the context manager, just to\n",
    "show that the context manager is not a requirement,"
   ]
  },
  {
   "cell_type": "code",
   "execution_count": 46,
   "metadata": {
    "collapsed": false
   },
   "outputs": [],
   "source": [
    "sess = tf.Session()\n",
    "sess.run(init)\n",
    "costs=[]\n",
    "for i in range(500):\n",
    "   costs.append(sess.run(cost))\n",
    "   sess.run(optimizer)"
   ]
  },
  {
   "cell_type": "markdown",
   "metadata": {},
   "source": [
    " Note that we have to iterate over the `optimizer` to get it to\n",
    "step-wise work through the gradient descent algorithm. As an illustration, we\n",
    "can plot the change in the cost function as it iterates,"
   ]
  },
  {
   "cell_type": "code",
   "execution_count": 47,
   "metadata": {
    "collapsed": false
   },
   "outputs": [],
   "source": [
    "from matplotlib.pylab import subplots\n",
    "fig,ax=subplots()\n",
    "fig.set_size_inches((10,5))\n",
    "_=ax.plot(costs[:60],'ok-',label='cost')\n",
    "_=ax.set_xlabel('iteration count',fontsize=18)\n",
    "_=ax.set_ylabel('cost function',fontsize=18)\n",
    "_=fig.tight_layout()\n",
    "fig.savefig('fig-machine_learning/LS_cost.png')"
   ]
  },
  {
   "cell_type": "markdown",
   "metadata": {},
   "source": [
    "<!-- dom:FIGURE: [fig-machine_learning/LS_cost.png, frac=0.95] Iterative costs as gradient descent algorithm computes solution. Note that we are showing only a slice of all the values computed.  <div id=\"fig:intro_tensorflow_004\"></div> -->\n",
    "<!-- begin figure -->\n",
    "<div id=\"fig:intro_tensorflow_004\"></div>\n",
    "\n",
    "<p>Iterative costs as gradient descent algorithm computes solution. Note that we are showing only a slice of all the values computed.</p>\n",
    "<img src=\"fig-machine_learning/LS_cost.png\" >\n",
    "\n",
    "<!-- end figure -->\n",
    "\n",
    "\n",
    " The final answer after all the iterations is the\n",
    "following,"
   ]
  },
  {
   "cell_type": "code",
   "execution_count": 48,
   "metadata": {
    "collapsed": false
   },
   "outputs": [],
   "source": [
    "print (x.eval(session=sess))"
   ]
  },
  {
   "cell_type": "markdown",
   "metadata": {},
   "source": [
    " Because this is a classic problem, \n",
    "we know how to solve it analytically as in the following,"
   ]
  },
  {
   "cell_type": "code",
   "execution_count": 49,
   "metadata": {
    "collapsed": false
   },
   "outputs": [],
   "source": [
    "# least squares solution\n",
    "A_=np.matrix(A.eval(session=sess))\n",
    "print (np.linalg.inv(A_.T*A_)*(A_.T)*b.eval(session=sess))"
   ]
  },
  {
   "cell_type": "markdown",
   "metadata": {},
   "source": [
    " which is pretty close to what we found by iterating.\n",
    "\n",
    "### Logistic Regression with Tensorflow\n",
    "\n",
    "As an example, let us revisit the logistic regression problem using Tensorflow."
   ]
  },
  {
   "cell_type": "code",
   "execution_count": 50,
   "metadata": {
    "collapsed": false
   },
   "outputs": [],
   "source": [
    "import numpy as np\n",
    "from matplotlib.pylab import subplots\n",
    "v = 0.9\n",
    "@np.vectorize\n",
    "def gen_y(x):\n",
    "    if x<5: return np.random.choice([0,1],p=[v,1-v]) \n",
    "    else:   return np.random.choice([0,1],p=[1-v,v])\n",
    "\n",
    "xi = np.sort(np.random.rand(500)*10)\n",
    "yi = gen_y(xi)"
   ]
  },
  {
   "cell_type": "code",
   "execution_count": 51,
   "metadata": {
    "collapsed": false
   },
   "outputs": [],
   "source": [
    "from sklearn.linear_model import LogisticRegression\n",
    "lr = LogisticRegression()\n",
    "_=lr.fit(np.c_[xi],yi)"
   ]
  },
  {
   "cell_type": "markdown",
   "metadata": {},
   "source": [
    "The simplest multi-layer perceptron has a single hidden layer. Given the\n",
    "training set $\\lbrace \\mathbf{x}_i,y_i \\rbrace$  The input vector\n",
    "$\\mathbf{x}_i$ is component-wise multiplied by the *weight* vector,\n",
    "$\\mathbf{w}$  and then fed into the non-linear sigmoidal function.  The output\n",
    "of the sigmoidal function is then compared to the training output, $y_i$,\n",
    "corresponding to the weight vector, to form the error.  The key step after\n",
    "error-formation is the back-propagation step. This applies the chain-rule from\n",
    "calculus to transmit the differential error back to the weight vector.\n",
    "\n",
    "Let's see if we can reproduce the logistic regression solution shown in [Figure](#fig:logreg_002) using Tensorflow. The first step is to\n",
    "import the Tensorflow module,"
   ]
  },
  {
   "cell_type": "code",
   "execution_count": 52,
   "metadata": {
    "collapsed": false
   },
   "outputs": [],
   "source": [
    "import tensorflow as tf"
   ]
  },
  {
   "cell_type": "markdown",
   "metadata": {},
   "source": [
    " We need to reformat the training set slightly,"
   ]
  },
  {
   "cell_type": "code",
   "execution_count": 53,
   "metadata": {
    "collapsed": false
   },
   "outputs": [],
   "source": [
    "yi[yi==0]=-1 # use 1/-1 mapping"
   ]
  },
  {
   "cell_type": "markdown",
   "metadata": {},
   "source": [
    " Then, we create the computational graph by creating variables and\n",
    "placeholders for the individual terms,"
   ]
  },
  {
   "cell_type": "code",
   "execution_count": 54,
   "metadata": {
    "collapsed": false
   },
   "outputs": [],
   "source": [
    "w = tf.Variable([0.1])\n",
    "b = tf.Variable([0.1])\n",
    "# the training set items fill these\n",
    "x = tf.placeholder(\"float\", [None]) \n",
    "y = tf.placeholder(\"float\", [None])"
   ]
  },
  {
   "cell_type": "markdown",
   "metadata": {},
   "source": [
    " The output of the neural network is sometimes called the *activation*,"
   ]
  },
  {
   "cell_type": "code",
   "execution_count": 55,
   "metadata": {
    "collapsed": false
   },
   "outputs": [],
   "source": [
    "activation = tf.exp(w*x + b)/(1+tf.exp(w*x + b))"
   ]
  },
  {
   "cell_type": "markdown",
   "metadata": {},
   "source": [
    " The optimization problem is to reduce the following objective\n",
    "function, which includes the one-dimensional regularization term $w^2$,"
   ]
  },
  {
   "cell_type": "code",
   "execution_count": 56,
   "metadata": {
    "collapsed": false
   },
   "outputs": [],
   "source": [
    "# objective\n",
    "obj=tf.reduce_sum(tf.log(1+tf.exp(-y*(b+w*x))))+tf.pow(w,2)"
   ]
  },
  {
   "cell_type": "markdown",
   "metadata": {},
   "source": [
    " Given the objective function, we\n",
    "choose the `GradientDescentOptimizer` as the optimization\n",
    "algorithm with the embedded learning rate,"
   ]
  },
  {
   "cell_type": "code",
   "execution_count": 57,
   "metadata": {
    "collapsed": false
   },
   "outputs": [],
   "source": [
    "optimizer = tf.train.GradientDescentOptimizer(0.001/5.).minimize(obj)"
   ]
  },
  {
   "cell_type": "markdown",
   "metadata": {},
   "source": [
    " Now, we are just about ready to start the session. But, first we need\n",
    "to initialize all the variables,"
   ]
  },
  {
   "cell_type": "code",
   "execution_count": 58,
   "metadata": {
    "collapsed": false
   },
   "outputs": [],
   "source": [
    "init=tf.global_variables_initializer()"
   ]
  },
  {
   "cell_type": "markdown",
   "metadata": {},
   "source": [
    "We'll use an interactive session for convenience and then\n",
    "step through the optimization algorithm in the following loop,"
   ]
  },
  {
   "cell_type": "code",
   "execution_count": 59,
   "metadata": {
    "collapsed": false
   },
   "outputs": [],
   "source": [
    "s = tf.InteractiveSession()\n",
    "s.run(init)\n",
    "for i in range(1000):\n",
    "   s.run(optimizer,feed_dict={x:xi,y:yi})"
   ]
  },
  {
   "cell_type": "markdown",
   "metadata": {},
   "source": [
    "The result of this is shown in [Figure](#fig:deep_learning_001) which\n",
    "says that logistic regression and this simple single-layer\n",
    "perceptron both come up with the same answer."
   ]
  },
  {
   "cell_type": "code",
   "execution_count": 60,
   "metadata": {
    "collapsed": false
   },
   "outputs": [],
   "source": [
    "fig,ax=subplots()\n",
    "t = np.linspace(0,10,20)\n",
    "_=ax.plot(t,lr.predict_proba(np.c_[t])[:,1],label='logreg',linestyle='--',color='k',alpha=0.3)\n",
    "_=ax.plot(t,s.run(activation,feed_dict={x:t}),'-ko',label='MLP',alpha=0.3)\n",
    "_=ax.legend(loc=0)\n",
    "_=ax.set_xlabel('$x$',fontsize=16)\n",
    "_=ax.set_ylabel('Probability of Class',fontsize=18)\n",
    "fig.savefig('fig-machine_learning/deep_learning_001.png')"
   ]
  },
  {
   "cell_type": "markdown",
   "metadata": {},
   "source": [
    "<!-- dom:FIGURE: [fig-machine_learning/deep_learning_001.png, width=500 frac=.75] This shows the result from logistic regression as compared to the corresponding result from simple single-layer perceptron. <div id=\"fig:deep_learning_001\"></div> -->\n",
    "<!-- begin figure -->\n",
    "<div id=\"fig:deep_learning_001\"></div>\n",
    "\n",
    "<p>This shows the result from logistic regression as compared to the corresponding result from simple single-layer perceptron.</p>\n",
    "<img src=\"fig-machine_learning/deep_learning_001.png\" width=500>\n",
    "\n",
    "<!-- end figure -->\n",
    "\n",
    "\n",
    "\n",
    "\n",
    "## Understanding Gradient Descent\n",
    "\n",
    "\n",
    "<!-- TODO: mention tensorflow gradient descent algorithms -->\n",
    "\n",
    "\n",
    "Consider a smooth function $f$ over $\\mathbb{R}^n$ suppose we want to find\n",
    "the minimum value of $f(\\mathbf{x})$ over this domain, as in the following,"
   ]
  },
  {
   "cell_type": "markdown",
   "metadata": {},
   "source": [
    "$$\n",
    "\\mathbf{x}^* = \\argmin_{\\mathbf{x}} f(\\mathbf{x})\n",
    "$$"
   ]
  },
  {
   "cell_type": "markdown",
   "metadata": {},
   "source": [
    " The idea with gradient descent is to choose an initial point\n",
    "$\\mathbf{x}^{(0)}\\in \\mathbb{R}^n$"
   ]
  },
  {
   "cell_type": "markdown",
   "metadata": {},
   "source": [
    "$$\n",
    "\\mathbf{x}^{(k+1)} = \\mathbf{x}^{(k)} - \\alpha \\nabla f(\\mathbf{x}^{(k)})\n",
    "$$"
   ]
  },
  {
   "cell_type": "markdown",
   "metadata": {},
   "source": [
    " where $\\alpha$ is the step size (learning rate). The intuition here\n",
    "is that $\\nabla f$ is the direction of increase and so that moving in the\n",
    "opposite direction scaled by $\\alpha$ moves towards a lower function value.\n",
    "This approach turns out to be very fast for well-conditioned, strongly convex\n",
    "$f$ but in general there are practical issues.\n",
    "\n",
    "[Figure](#fig:gradient_descent_001) shows the function $f(x) = 2 - 3 x^3 +\n",
    "x^4$ and its first-order Taylor series approximation at a selected points along\n",
    "the curve for a given width parameter. That is, the Taylor approximation\n",
    "approximates the function at a specific point with a corresponding interval\n",
    "around that point for which the approximation is assumed valid. The size of\n",
    "this width is determined by the $\\alpha$ step parameter. Crucially, the quality\n",
    "of the approximation varies along the curve.  In particular, there are sections\n",
    "where two nearby approximations overlap given the width, as indicated by the\n",
    "dark shaded regions.  This is key because gradient descent works by using such\n",
    "first-order approximations to estimate the next step in the minimization. That\n",
    "is, the gradient descent algorithm never actually *sees* $f(x)$, but rather\n",
    "only the given first-order approximant. It judges the direction of the next\n",
    "iterative step by sliding down the slope of the approximant to the edge of a\n",
    "region (determined by $\\alpha$) and then using that next point for the next\n",
    "calculated approximant. As shown by the shaded regions, it is possible that the\n",
    "algorithm will overshoot the minimum because the step size ($\\alpha$) is too\n",
    "large. This can cause oscillations as shown in [Figure](#fig:gradient_descent_002)."
   ]
  },
  {
   "cell_type": "code",
   "execution_count": 61,
   "metadata": {
    "collapsed": false
   },
   "outputs": [],
   "source": [
    "import matplotlib\n",
    "matplotlib.rcParams['mathtext.fontset'] = 'cm'\n",
    "matplotlib.rcParams['mathtext.rm'] = 'cm'\n",
    "matplotlib.rcParams['mathtext.it'] = 'cm:italic'\n",
    "matplotlib.rcParams['mathtext.bf'] = 'cm:bold'\n",
    "import numpy as np\n",
    "from matplotlib.pylab import subplots"
   ]
  },
  {
   "cell_type": "code",
   "execution_count": 62,
   "metadata": {
    "collapsed": false
   },
   "outputs": [],
   "source": [
    "\n",
    "xi=np.linspace(0,3,50)\n",
    "\n",
    "def get_chunk(x_0=1,delta=0.1,n=2):\n",
    "    '''\n",
    "    n := order of approximation\n",
    "    '''\n",
    "    x_0 = float(x_0)\n",
    "    delta = float(delta)\n",
    "    return fx.series(x,x0=sm.var('x0'),n=n).removeO().subs(x0,x_0),(x_0-delta<=x)&(x<x_0+delta)\n",
    "\n",
    "def get_pw(x0list,delta = 0.1):\n",
    "    pw=sm.lambdify(x,sm.Piecewise(*[get_chunk(float(i),delta) for i in x0list]))\n",
    "    x0 = np.array(x0list)\n",
    "    edges = np.vstack([x0-delta,x0+delta]).T\n",
    "    return pw,edges\n",
    "\n",
    "import sympy as sm \n",
    "x = sm.var('x')\n",
    "fx = 2 - 3*x**3 + x**4\n",
    "fxx = sm.lambdify(x,fx)\n",
    "pw,edges = get_pw(np.arange(0,3,0.5),.5/2.)\n",
    "\n",
    "fig,ax= subplots()\n",
    "fig.set_size_inches((10,5))\n",
    "funcs= [sm.lambdify(x,sm.Piecewise(get_chunk(i,0.35))) for i in edges.mean(axis=1)]\n",
    "\n",
    "_=ax.plot(xi,fxx(xi),lw=3,color='k')\n",
    "_=ax.set_ylabel(r'$f(x)$'+' '*10,fontsize=25,rotation=0)\n",
    "_=ax.set_xlabel(r'$x$',fontsize=25,rotation=0)\n",
    "_=ax.spines['top'].set_visible(False)\n",
    "_=ax.spines['right'].set_visible(False)\n",
    "_=ax.spines['bottom'].set_position(('data',0))\n",
    "\n",
    "for i in funcs:\n",
    "    _=ax.fill_between(xi,i(xi),color='gray',alpha=0.3)\n",
    "    _=ax.plot(xi,i(xi),color='k')\n",
    "\n",
    "fig.savefig('fig-machine_learning/gradient_descent_001.png')"
   ]
  },
  {
   "cell_type": "markdown",
   "metadata": {},
   "source": [
    "<!-- dom:FIGURE: [fig-machine_learning/gradient_descent_001.png, width=500 frac=0.85] The piecewise linear approximant to $f(x)$. <div id=\"fig:gradient_descent_001\"></div>  -->\n",
    "<!-- begin figure -->\n",
    "<div id=\"fig:gradient_descent_001\"></div>\n",
    "\n",
    "<p>The piecewise linear approximant to $f(x)$.</p>\n",
    "<img src=\"fig-machine_learning/gradient_descent_001.png\" width=500>\n",
    "\n",
    "<!-- end figure -->\n",
    "\n",
    "\n",
    "<!-- # ** -->\n",
    "\n",
    "Let us consider the following Python implementation of gradient descent, using Sympy."
   ]
  },
  {
   "cell_type": "code",
   "execution_count": 63,
   "metadata": {
    "collapsed": false
   },
   "outputs": [],
   "source": [
    "x = sm.var('x')\n",
    "fx = 2 - 3*x**3 + x**4\n",
    "df = fx.diff(x) # compute derivative\n",
    "x0 =.1 # initial guess\n",
    "xlist = [(x0,fx.subs(x,x0))]\n",
    "alpha = 0.1 # step size\n",
    "for i in range(20):\n",
    "    x0 = x0 - alpha*df.subs(x,x0)\n",
    "    xlist.append((x0,fx.subs(x,x0)))"
   ]
  },
  {
   "cell_type": "code",
   "execution_count": 64,
   "metadata": {
    "collapsed": false
   },
   "outputs": [],
   "source": [
    "xlist = np.array(xlist).astype(float)\n",
    "fig,ax= subplots()\n",
    "fig.set_size_inches((8,5))\n",
    "_=ax.plot(xlist[:,0],'-ok')\n",
    "_=ax.set_xticks(range(0,21,2))\n",
    "_=ax.set_xlabel('iteration ($k$)',fontsize=18)\n",
    "_=ax.set_ylabel('$x_k$',fontsize=25)\n",
    "_=ax.spines['top'].set_visible(False)\n",
    "_=ax.spines['right'].set_visible(False)\n",
    "fig.savefig('fig-machine_learning/gradient_descent_002.png')"
   ]
  },
  {
   "cell_type": "markdown",
   "metadata": {},
   "source": [
    " [Figure](#fig:gradient_descent_002) shows the sequential steps. Note\n",
    "that the algorithm oscillates at the end because the step size is too large.\n",
    "Practically speaking, it is not possible to know the optimal step size for\n",
    "general functions without strong assumptions on $f(x)$.\n",
    "\n",
    "\n",
    "<!-- dom:FIGURE: [fig-machine_learning/gradient_descent_002.png, width=500 frac=0.85] The step size may cause oscillations.   <div id=\"fig:gradient_descent_002\"></div>  -->\n",
    "<!-- begin figure -->\n",
    "<div id=\"fig:gradient_descent_002\"></div>\n",
    "\n",
    "<p>The step size may cause oscillations.</p>\n",
    "<img src=\"fig-machine_learning/gradient_descent_002.png\" width=500>\n",
    "\n",
    "<!-- end figure -->\n",
    "\n",
    "\n",
    " [Figure](#fig:gradient_descent_003) shows how the algorithm moves\n",
    "along the function as well as the approximant ($\\hat{f}(x)$) that the algorithm\n",
    "sees along the way. Note that initial steps are crowded around the initial\n",
    "point because the corresponding gradient is small there. Towards the middle,\n",
    "the algorithm makes a big jump because the gradient is steep, before finally\n",
    "oscillating towards the end. Sections of the underlying function that are\n",
    "relatively flat can cause the algorithm to converge very slowly.  Furthermore,\n",
    "if there are multiple local minima, then the algorithm cannot guarantee finding\n",
    "the global minimum."
   ]
  },
  {
   "cell_type": "code",
   "execution_count": 65,
   "metadata": {
    "collapsed": false
   },
   "outputs": [],
   "source": [
    "fig,ax= subplots()\n",
    "fig.set_size_inches((10,5))\n",
    "funcs= [sm.lambdify(x,sm.Piecewise(get_chunk(i,0.1))) for i in xlist[:,0]]\n",
    "_=ax.plot(xlist[:,0],xlist[:,1],marker='o',ls='',markersize=10,alpha=.3,color='k',label=r'$f(x_k)$')\n",
    "_=ax.plot(xi,fxx(xi),lw=3,color='lightgray',label='$f(x)$')\n",
    "_=ax.set_xlabel(r'$x$',fontsize=25,rotation=0)\n",
    "_=ax.spines['top'].set_visible(False)\n",
    "_=ax.spines['right'].set_visible(False)\n",
    "_=ax.spines['bottom'].set_position(('data',0))\n",
    "\n",
    "for i in funcs:\n",
    "    _=ax.fill_between(xi,i(xi),color='gray',alpha=0.3)\n",
    "    _=ax.plot(xi,i(xi),color='k',lw=3,label=r'$\\hat{f}(x)$')\n",
    "\n",
    "fig.savefig('fig-machine_learning/gradient_descent_003.png')"
   ]
  },
  {
   "cell_type": "markdown",
   "metadata": {},
   "source": [
    "<!-- dom:FIGURE: [fig-machine_learning/gradient_descent_003.png, width=600 frac=0.95] Gradient descent produces a sequence of approximants. <div id=\"fig:gradient_descent_003\"></div>  -->\n",
    "<!-- begin figure -->\n",
    "<div id=\"fig:gradient_descent_003\"></div>\n",
    "\n",
    "<p>Gradient descent produces a sequence of approximants.</p>\n",
    "<img src=\"fig-machine_learning/gradient_descent_003.png\" width=600>\n",
    "\n",
    "<!-- end figure -->\n",
    "\n",
    "\n",
    "As we have seen, the step size is key to both performance and convergence.\n",
    "Indeed, a step size that is too big can cause divergence and one that is too\n",
    "small can take a very long time to converge.  \n",
    "\n",
    "### Newton's Method\n",
    "\n",
    "Consider the following second-order Taylor series expansion"
   ]
  },
  {
   "cell_type": "markdown",
   "metadata": {},
   "source": [
    "$$\n",
    "J(\\mathbf{x})= f(\\mathbf{x}_0) + \\nabla f(\\mathbf{x}_0)^T(\\mathbf{x}-\\mathbf{x}_0) +\\frac{1}{2}(\\mathbf{x}-\\mathbf{x}_0)^T \\nabla^2 f(\\mathbf{x}_0)(\\mathbf{x}-\\mathbf{x}_0)\n",
    "$$"
   ]
  },
  {
   "cell_type": "markdown",
   "metadata": {},
   "source": [
    " where $ \\mathbf{H(x)} := \\nabla^2 f(\\mathbf{x})$ is the Hessian matrix\n",
    "of second derivatives. The $(i,j)^{th}$ entry of this matrix is the following:"
   ]
  },
  {
   "cell_type": "markdown",
   "metadata": {},
   "source": [
    "$$\n",
    "\\frac{\\partial^2 f(\\mathbf{x})}{\\partial x_i \\partial x_j}\n",
    "$$"
   ]
  },
  {
   "cell_type": "markdown",
   "metadata": {},
   "source": [
    " We can use basic matrix calculus to find the minimum by computing:"
   ]
  },
  {
   "cell_type": "markdown",
   "metadata": {},
   "source": [
    "$$\n",
    "\\nabla_{\\mathbf{x}} J(\\mathbf{x}) = \\nabla f(\\mathbf{x}_0) + \\mathbf{H(x)}(\\mathbf{x}-\\mathbf{x}_0) = 0\n",
    "$$"
   ]
  },
  {
   "cell_type": "markdown",
   "metadata": {},
   "source": [
    " Solving this for $\\mathbf{x}$ gives the following:"
   ]
  },
  {
   "cell_type": "markdown",
   "metadata": {},
   "source": [
    "$$\n",
    "\\mathbf{x}=\\mathbf{x}_0- \\mathbf{H(x)}^{-1} \\nabla f(\\mathbf{x}_0)\n",
    "$$"
   ]
  },
  {
   "cell_type": "markdown",
   "metadata": {},
   "source": [
    " Thus, after renaming some terms, the descent algorithm works by the\n",
    "following update equation:"
   ]
  },
  {
   "cell_type": "markdown",
   "metadata": {},
   "source": [
    "$$\n",
    "\\mathbf{x}^{(k+1)}=\\mathbf{x}^{(k)}- \\mathbf{H}(\\mathbf{x}^{(k)})^{-1} \\nabla f(\\mathbf{x}^{(k)})\n",
    "$$"
   ]
  },
  {
   "cell_type": "markdown",
   "metadata": {},
   "source": [
    " There are a number of practical problems with this update equation.\n",
    "First, it requires computing the Hessian matrix at every step. For a\n",
    "significant problem, this means managing a potentially very large matrix. For\n",
    "example, given 1000 dimensions the corresponding Hessian has $1000 \\times 1000$\n",
    "elements.  Some other issues are that the Hessian may not be numerically stable\n",
    "enough to invert, the functional form of the partial derivatives may have to be\n",
    "separately approximated,  and the initial guess has to be in a region where the\n",
    "convexity of the function matches the derived assumption. Otherwise, just based\n",
    "on these equations, the algorithm will converge on the local *maximum* and not\n",
    "the local *minimum*.  Consider a slight change of the previous code to\n",
    "implement Newton's method:"
   ]
  },
  {
   "cell_type": "code",
   "execution_count": 66,
   "metadata": {
    "collapsed": false
   },
   "outputs": [],
   "source": [
    "x0 =2. # init guess is near to solution\n",
    "xlist = [(x0,fx.subs(x,x0))]\n",
    "df2 = fx.diff(x,2) # 2nd derivative\n",
    "\n",
    "for i in range(5):\n",
    "    x0 = x0 - df.subs(x,x0)/df2.subs(x,x0)\n",
    "    xlist.append((x0,fx.subs(x,x0)))\n",
    "    \n",
    "xlist = np.array(xlist).astype(float)\n",
    "print (xlist)"
   ]
  },
  {
   "cell_type": "markdown",
   "metadata": {},
   "source": [
    " Note that it took very few iterations to get to the minimum (as\n",
    "compared to our prior method), but if\n",
    "the initial guess is too far away from the actual minimum, the algorithm may\n",
    "not find the local minimum at all and instead find the local maximum.\n",
    "Naturally, there are many extensions to this method to account for these\n",
    "effects, but the main thrust of this section is to illustrate how higher-order\n",
    "derivatives (when available) in a computationally feasible context can greatly\n",
    "accelerate convergence of descent algorithms.\n",
    "\n",
    "### Managing Step Size\n",
    "\n",
    "The problem of determining a good step size (learning rate) can be approached\n",
    "with an *exact line search*. That is, along the ray that extends along\n",
    "$\\mathbf{x}+ q \\nabla f(x)$, find"
   ]
  },
  {
   "cell_type": "markdown",
   "metadata": {},
   "source": [
    "$$\n",
    "q_{min} = \\argmin_{q\\ge 0} f(\\mathbf{x}+q \\nabla f(\\mathbf{x}))\n",
    "$$"
   ]
  },
  {
   "cell_type": "markdown",
   "metadata": {},
   "source": [
    " In words, this means that given a direction from a point $\\mathbf{x}$\n",
    "along the direction $\\nabla f(\\mathbf{x})$, find the minimum for this\n",
    "one-dimensional problem. Thus, the minimization procedure alternates at each\n",
    "iteration between moving to a new $\\mathbf{x}$ position in $\\mathbb{R}^n$ and\n",
    "finding a new step size by solving the one-dimensional minimization.\n",
    "\n",
    "While this is conceptually clean, the problem is that solving the\n",
    "one-dimensional line-search at every step means evaluating the objective\n",
    "function $f(\\mathbf{x})$ at many points along the one-dimensional slice.  This\n",
    "can be very time consuming for an objective function that is computationally\n",
    "expensive to evaluate.  With Newton's method, we have seen that higher-order\n",
    "derivatives can accelerate convergence and we can apply those ideas to the\n",
    "one-dimensional line search, as with the *backtracking* algorithm.\n",
    "\n",
    "* Fix parameters $\\beta\\in [0,1)$ an $\\alpha>0$.\n",
    "\n",
    "* If $f(x-\\alpha\\nabla f(x))> f(x)- \\alpha \\Vert \\nabla f(x) \\Vert_2^2$\n",
    "  then reduce $\\alpha\\rightarrow \\beta \\alpha$. Otherwise, do the usual \n",
    "  gradient descent update: $x^{(k+1)}= x^{(k)}-\\alpha\\nabla f(x^{(k)})$.\n",
    "\n",
    " To gain some intuition about how this works, return to our second-order \n",
    "Taylor series expansion of the function $f$ about $\\mathbf{x}_0$,"
   ]
  },
  {
   "cell_type": "markdown",
   "metadata": {},
   "source": [
    "$$\n",
    "f(\\mathbf{x}_0)+\\nabla f(\\mathbf{x}_0)^T(\\mathbf{x}-\\mathbf{x}_0)+\\frac{1}{2}(\\mathbf{x}-\\mathbf{x}_0)^T \\nabla^2 f(\\mathbf{x}_0)(\\mathbf{x}-\\mathbf{x}_0)\n",
    "$$"
   ]
  },
  {
   "cell_type": "markdown",
   "metadata": {},
   "source": [
    " We have already discussed the numerical issues with the Hessian term,\n",
    "so one approach is to simply replace that term with an $n\\times n$ identity\n",
    "matrix $\\mathbf{I}$ to obtain the following:"
   ]
  },
  {
   "cell_type": "markdown",
   "metadata": {},
   "source": [
    "$$\n",
    "h_{\\alpha}(\\mathbf{x})= f(\\mathbf{x}_0) + \\nabla f(\\mathbf{x}_0)^T(\\mathbf{x}-\\mathbf{x}_0) +\\frac{1}{2\\alpha}\\Vert\\mathbf{x}-\\mathbf{x}_0\\Vert^2\n",
    "$$"
   ]
  },
  {
   "cell_type": "markdown",
   "metadata": {},
   "source": [
    " This is our more tractable *surrogate* function. But what is the\n",
    "relationship between this surrogate and what we are actually trying to\n",
    "minimize?  The key difference is that the curvature information that is\n",
    "contained in the Hessian term has now been reduced to a single $1/\\alpha$\n",
    "factor. Intuitively, this means that local complicated curvature of $f$ about a\n",
    "given point $\\mathbf{x}_0$ has been replaced with a uniform bowl-shaped\n",
    "structure, the steepness of which is determined by scaling $1/\\alpha$. \n",
    "Given a specific $\\alpha$, we already know how to step directly to the \n",
    "minimum of $h_{\\alpha}(\\mathbf{x})$; namely, using the following gradient descent \n",
    "update equation:"
   ]
  },
  {
   "cell_type": "markdown",
   "metadata": {},
   "source": [
    "$$\n",
    "\\mathbf{x}^{(k+1)}= \\mathbf{x}^{(k)} - \\alpha \\nabla f (\\mathbf{x}^{(k)})\n",
    "$$"
   ]
  },
  {
   "cell_type": "markdown",
   "metadata": {},
   "source": [
    " That is the immediate solution to the surrogate problem, but it does\n",
    "not directly supply the next iteration for the function we really want: $f$.\n",
    "Let us suppose that our minimization of the surrogate has taken us to a new\n",
    "point $\\mathbf{x}^{(k)}$ that satisfies the following inequality,"
   ]
  },
  {
   "cell_type": "markdown",
   "metadata": {},
   "source": [
    "$$\n",
    "f(\\mathbf{x}^{(k+1)}) \\le h_{\\alpha}(\\mathbf{x}^{(k+1)})\n",
    "$$"
   ]
  },
  {
   "cell_type": "markdown",
   "metadata": {},
   "source": [
    " or, more explicitly,"
   ]
  },
  {
   "cell_type": "markdown",
   "metadata": {},
   "source": [
    "$$\n",
    "f(\\mathbf{x}^{(k+1)}) \\le f(\\mathbf{x}^{(k)}) + \\nabla f(\\mathbf{x}^{(k)})^T(\\mathbf{x}^{(k+1)}-\\mathbf{x}^{(k)}) +\\frac{1}{2\\alpha}\\Vert\\mathbf{x}^{(k+1)}-\\mathbf{x}^{(k)}\\Vert^2\n",
    "$$"
   ]
  },
  {
   "cell_type": "markdown",
   "metadata": {},
   "source": [
    " We can substitute the update equation into this and simplify as,"
   ]
  },
  {
   "cell_type": "markdown",
   "metadata": {},
   "source": [
    "$$\n",
    "f(\\mathbf{x}^{(k+1)})\\le f(\\mathbf{x}^{(k)}) -\\alpha\\nabla f(\\mathbf{x}^{(k)})^T(\\nabla f(\\mathbf{x}^{(k)}))+\\frac{\\alpha}{2}\\Vert\\nabla f (\\mathbf{x}^{(k)})\\Vert^2\n",
    "$$"
   ]
  },
  {
   "cell_type": "markdown",
   "metadata": {},
   "source": [
    " which ultimately boils down to the following,"
   ]
  },
  {
   "cell_type": "markdown",
   "metadata": {},
   "source": [
    "<!-- Equation labels as ordinary links -->\n",
    "<div id=\"eq:backtracking\"></div>\n",
    "\n",
    "$$\n",
    "\\begin{equation}\n",
    "f(\\mathbf{x}^{(k+1)})\\le f(\\mathbf{x}^{(k)})-\\frac{\\alpha}{2}\\Vert\\nabla f(\\mathbf{x}^{(k)}) \\Vert^2 \n",
    "\\label{eq:backtracking} \\tag{1}\n",
    "\\end{equation}\n",
    "$$"
   ]
  },
  {
   "cell_type": "markdown",
   "metadata": {},
   "source": [
    " The important observation here is that if we have not reached the minimum \n",
    "of $f$, then the last term is always positive and we have moved downwards,"
   ]
  },
  {
   "cell_type": "markdown",
   "metadata": {},
   "source": [
    "$$\n",
    "f(\\mathbf{x}^{(k+1)}) < f(\\mathbf{x}^{(k)})\n",
    "$$"
   ]
  },
  {
   "cell_type": "markdown",
   "metadata": {},
   "source": [
    " which is what we were after. Conversely, if the inequality in\n",
    "Equation ([1](#eq:backtracking)) holds for some $\\alpha>0$, then we know that\n",
    "$h_{\\alpha}>f$. This is the key observation\n",
    "behind the backtracking algorithm. That is, we can test a sequence of values\n",
    "for $\\alpha$ until we find one that satisfies Equation ([1](#eq:backtracking)).\n",
    "For example, we can start with some initial $\\alpha$ and then scale it up or\n",
    "down until the inequality is satisfied which means that we have found the\n",
    "correct step size and then can proceed with the descent step. This is what\n",
    "the backtracking algorithm is doing as shown in [Figure](#fig:gradient_descent_004). The dotted line is the $h_{\\alpha}(x)$ and the\n",
    "gray line is $f(x)$. The algorithm hops to the quadratic minimum of the\n",
    "$h_{\\alpha}(x)$ function which is close to the actual minimum of $f(x)$.\n",
    "\n",
    "The basic implementation of backtracking is shown below:"
   ]
  },
  {
   "cell_type": "code",
   "execution_count": 67,
   "metadata": {
    "collapsed": false
   },
   "outputs": [],
   "source": [
    "x0 = 1\n",
    "alpha = 0.5\n",
    "xnew = x0 - alpha*df.subs(x,x0)\n",
    "while fx.subs(x,xnew)>(fx.subs(x,x0)-(alpha/2.)*(fx.subs(x,x0))**2):\n",
    "    alpha = alpha * 0.8\n",
    "    xnew = x0 - alpha*df.subs(x,x0)\n",
    "\n",
    "print (alpha,xnew)"
   ]
  },
  {
   "cell_type": "code",
   "execution_count": 68,
   "metadata": {
    "collapsed": false
   },
   "outputs": [],
   "source": [
    "\n",
    "fig,ax= subplots()\n",
    "fig.set_size_inches((10,5))\n",
    "_=ax.plot(xi,fxx(xi),lw=3,color='lightgray',label='$f(x)$')\n",
    "ha = fx.subs(x,x0) + df.subs(x,x0)*(x-x0)+1/(alpha*2)*(x-x0)**2\n",
    "haxx = sm.lambdify(x,ha)\n",
    "_=ax.plot([1],[fxx(1)],'ok')\n",
    "\n",
    "_=ax.plot(xi,haxx(xi),'--k',label=r'$h_{\\alpha}(x)$')\n",
    "_=ax.plot([xnew],[fxx(xnew)],'ok')\n",
    "_=ax.plot([xnew],[haxx(xnew)],'ok')\n",
    "_=ax.plot([xnew],[0],'ok')\n",
    "\n",
    "_=ax.vlines(xnew,-6,0)\n",
    "_=ax.set_xlabel(r'$x$',fontsize=25,rotation=0)\n",
    "_=ax.spines['top'].set_visible(False)\n",
    "_=ax.spines['right'].set_visible(False)\n",
    "_=ax.spines['bottom'].set_position(('data',0))\n",
    "_=ax.set_ylabel(r'$f(x)$'+' '*10,fontsize=25,rotation=0);\n",
    "\n",
    "_=ax.legend(fontsize=20)\n",
    "\n",
    "fig.savefig('fig-machine_learning/gradient_descent_004.png')"
   ]
  },
  {
   "cell_type": "markdown",
   "metadata": {},
   "source": [
    "<!-- dom:FIGURE: [fig-machine_learning/gradient_descent_004.png, width=500 frac=0.85] The approximation $h_{\\alpha}(x)$ (dotted line) moves the next iteration from $x=1$ to the indicated point that is near the minimum of $f(x)$ by finding an appropriate step size ($\\alpha$). <div id=\"fig:gradient_descent_004\"></div>  -->\n",
    "<!-- begin figure -->\n",
    "<div id=\"fig:gradient_descent_004\"></div>\n",
    "\n",
    "<p>The approximation $h_{\\alpha}(x)$ (dotted line) moves the next iteration from $x=1$ to the indicated point that is near the minimum of $f(x)$ by finding an appropriate step size ($\\alpha$).</p>\n",
    "<img src=\"fig-machine_learning/gradient_descent_004.png\" width=500>\n",
    "\n",
    "<!-- end figure -->\n",
    "\n",
    "\n",
    "<!-- # 4.4.3.3 STOCHASTIC APPROXIMATION TO GRADIENT DESCENT Machine_learning_Mitchell -->\n",
    "\n",
    "### Stochastic Gradient Descent\n",
    "\n",
    "A common variation on gradient descent is to alter how the weights are updated.\n",
    "Specifically, suppose we want to minimize an objective function of the\n",
    "following form:"
   ]
  },
  {
   "cell_type": "markdown",
   "metadata": {},
   "source": [
    "$$\n",
    "\\min_x \\sum_{i=1}^m f_i(x)\n",
    "$$"
   ]
  },
  {
   "cell_type": "markdown",
   "metadata": {},
   "source": [
    " where $i$ indexes the $i^{th}$ data element for an error function. \n",
    "Equivalently, each summand is parameterized by a data element. \n",
    "\n",
    "For the usual gradient descent algorithm, we would compute the\n",
    "incremental weights, component-wise as in the following"
   ]
  },
  {
   "cell_type": "markdown",
   "metadata": {},
   "source": [
    "$$\n",
    "x^{(k+1)} = x^{(k)} -\\alpha_k \\sum_{i=1}^m \\partial f_i(x^{(k)})\n",
    "$$"
   ]
  },
  {
   "cell_type": "markdown",
   "metadata": {},
   "source": [
    " by summing over all of the data. The key idea for stochastic gradient\n",
    "descent is to *not* sum over all of the data but rather to update the weights for\n",
    "each randomized $i^{th}$ data element:"
   ]
  },
  {
   "cell_type": "markdown",
   "metadata": {},
   "source": [
    "$$\n",
    "x^{(k+1)} = x^{(k)} -\\alpha_k \\partial f_i(x^{(k)})\n",
    "$$"
   ]
  },
  {
   "cell_type": "markdown",
   "metadata": {},
   "source": [
    " A compromise between batch and this jump-every-time stochastic\n",
    "gradient descent is *mini-batch* gradient descent in which a randomized subset\n",
    "($\\sigma_r, \\vert\\sigma_r\\vert=M_b$) of the data is summed over at each step as\n",
    "in the following:"
   ]
  },
  {
   "cell_type": "markdown",
   "metadata": {},
   "source": [
    "$$\n",
    "x^{(k+1)} = x^{(k)} -\\alpha_k \\sum_{i\\in \\sigma_r} \\partial f_i(x^{(k)})\n",
    "$$"
   ]
  },
  {
   "cell_type": "markdown",
   "metadata": {},
   "source": [
    " Each step update for the standard gradient descent algorithm\n",
    "processes $m$ data points for each of the $p$ dimensions, $\\mathcal{O}(mp)$,\n",
    "whereas for stochastic gradient descent, we have $\\mathcal{O}(p)$. Mini-batch\n",
    "gradient descent is somewhere in-between these estimates. For very large,\n",
    "high-dimensional data, the computational costs of gradient descent can become\n",
    "prohibitive thus favoring stochastic gradient descent.  Outside of the\n",
    "computational advantages, stochastic gradient descent has other favorable\n",
    "attributes. For example, the noisy jumping around helps the algorithm avoid\n",
    "getting stalled in local minima and this helps the algorithm when the starting\n",
    "point is far away from the actual minimum. The obverse is that stochastic\n",
    "gradient descent can struggle to clinch the minimum when it is close to it.\n",
    "Another advantage is robustness to a minority of *bad* data elements.  Because\n",
    "only random subsets of the data are actually used in the update, the few\n",
    "individual outlier data points (perhaps due to poor data integrity) do not\n",
    "necessarily contaminate every step update.\n",
    "\n",
    "### Momentum\n",
    "\n",
    "The gradient descent algorithm can be considered as a particle moving along a\n",
    "high-dimensional landscape in search of a minimum. Using a physical analogy, we\n",
    "can add the concept of momentum to the particle's motion.  Consider the\n",
    "position of the particle ($\\mathbf{x}^{(k)}$) at any time $k$ under a net force\n",
    "proportional to $-\\nabla J$. This setup induces an estimated velocity term for\n",
    "the particle motion proportional to  $\\eta (\\mathbf{x}^{(k+1)} -\n",
    "\\mathbf{x}^{(k)}) $.  That is, the particle's velocity is estimated\n",
    "proportional to the difference in two successive positions. The \n",
    "simplest version of stochastic gradient descent update that incorporates\n",
    "this momentum is the following:"
   ]
  },
  {
   "cell_type": "markdown",
   "metadata": {},
   "source": [
    "$$\n",
    "\\mathbf{x}^{(k+1)} = \\mathbf{x}^{(k)} - \\alpha \\nabla f(\\mathbf{x}^{(k)}) + \\eta (\\mathbf{x}^{(k+1)} - \\mathbf{x}^{(k)} )\n",
    "$$"
   ]
  },
  {
   "cell_type": "markdown",
   "metadata": {},
   "source": [
    " Momentum is particularly useful when gradient descent sloshes up and\n",
    "down  a steep ravine in the error surface instead of pursuing the descending\n",
    "ravine directly to the local minimum. This oscillatory behavior can cause slow\n",
    "convergence. There are many extensions to this basic idea such as Nesterov\n",
    "momentum.\n",
    "\n",
    "### Advanced Stochastic Gradient Descent\n",
    "\n",
    "Methods that aggregate histories of the step updates can provide superior\n",
    "performance to the basic stochastic gradient descent algorithm. For example,\n",
    "Adam (Adaptive Moment Estimator) implements an adaptive step-size for each\n",
    "parameter. It also keeps track of an exponentially decaying mean and variance\n",
    "of past gradients using the exponentially weighted moving average (EWMA).  This\n",
    "smoothing technique computes the following recursion,"
   ]
  },
  {
   "cell_type": "markdown",
   "metadata": {},
   "source": [
    "$$\n",
    "y_n  = a x_n + (1-a) y_{n-1}\n",
    "$$"
   ]
  },
  {
   "cell_type": "markdown",
   "metadata": {},
   "source": [
    " with $y_0=x_0$ as the initial condition. The $0<a<1$ factor controls\n",
    "the amount of mixing between the previous moving average and the new data point\n",
    "at $n$. For example, if $a=0.9$, the EWMA favors the new data $x_n$ over the\n",
    "prior value $y_{n-1}$ ($1-a=0.1$) of the EWMA. This calculation is common in a\n",
    "wide variety of timeseries applications (i.e., signal processing, quantitative\n",
    "finance). The impulse response of the EWMA ($x=\\delta_n$) is $(1-a)^n$. You can\n",
    "think of this as the weighted window function that is applied to $x_n$. As\n",
    "opposed to the standard moving average that considers a fixed window of data to\n",
    "average over, this exponential window retains prior memory of the entire\n",
    "sequence, albeit weighted by powers of $(1-a)$. To see this, we can generate\n",
    "the response to an impulse data series using `pandas`,"
   ]
  },
  {
   "cell_type": "code",
   "execution_count": 69,
   "metadata": {
    "collapsed": false
   },
   "outputs": [],
   "source": [
    "import pandas as pd\n",
    "x = pd.Series([1]+[0]*20)\n",
    "ma =x.rolling(window=3, center=False).mean()\n",
    "ewma  = x.ewm(1).mean()"
   ]
  },
  {
   "cell_type": "code",
   "execution_count": 70,
   "metadata": {
    "collapsed": false
   },
   "outputs": [],
   "source": [
    "fig,ax= subplots()\n",
    "_=ma.plot(ax=ax,label='Moving average',color='k')\n",
    "_=ewma.plot(ax=ax,label='EWMA',color='b')\n",
    "_=ax.legend(fontsize=18)\n",
    "_=ax.set_xlabel('$n$',fontsize=18)\n",
    "fig.savefig('fig-machine_learning/gradient_descent_005.png')"
   ]
  },
  {
   "cell_type": "markdown",
   "metadata": {},
   "source": [
    " As shown by [Figure](#fig:gradient_descent_006), the single nonzero\n",
    "data point thereafter influences the EWMA  whereas for the fixed-width moving\n",
    "window average, the effect terminates after the window passes. Note that \n",
    "mini-batch smoothes out data at each iteration by averaging over training data and \n",
    "EWMA smoothes out the descent motion across iterations of the algorithm.\n",
    "\n",
    "<!-- dom:FIGURE: [fig-machine_learning/gradient_descent_005.png, width=500 frac=0.75] The approxmation $h_{\\alpha}(x)$ (dotted line) moves the next iteration from $x=1$ to the indicated point that is near the minimum of $f(x)$ by finding an appropriate step size ($\\alpha$). <div id=\"fig:gradient_descent_005\"></div>  -->\n",
    "<!-- begin figure -->\n",
    "<div id=\"fig:gradient_descent_005\"></div>\n",
    "\n",
    "<p>The approxmation $h_{\\alpha}(x)$ (dotted line) moves the next iteration from $x=1$ to the indicated point that is near the minimum of $f(x)$ by finding an appropriate step size ($\\alpha$).</p>\n",
    "<img src=\"fig-machine_learning/gradient_descent_005.png\" width=500>\n",
    "\n",
    "<!-- end figure -->\n",
    "\n",
    "\n",
    "Advanced stochastic gradient descent algorithms are\n",
    "themselves an area of intense interest and development. Each method has its\n",
    "strengths and weaknesses pursuant to the data at hand (i.e., sparse vs. dense\n",
    "data) and there is no clear favorite appropriate to all circumstances. As a\n",
    "practical matter, some variants have parallel implementations that accelerate\n",
    "performance (i.e., Nui's Hogwild update scheme).\n",
    "\n",
    "### Python Example Using Sympy\n",
    "\n",
    "Each of these methods will make more sense with some Python. We emphasize that\n",
    "this implementation is strictly expository and would not be suitable for a\n",
    "large-scale application.  Let us reconsider the classification problem in the\n",
    "section on logistic regression with the target $y_i\\in \\lbrace 0,1 \\rbrace$.\n",
    "The logistic regression seeks to minimize the cross-entropy:"
   ]
  },
  {
   "cell_type": "markdown",
   "metadata": {},
   "source": [
    "$$\n",
    "J(\\boldsymbol{\\beta}) = \\sum_i^m \\log(1+\\exp(\\mathbf{x_i}^T \\boldsymbol{\\beta}))-y_i \\mathbf{x_i}^T \\boldsymbol{\\beta}\n",
    "$$"
   ]
  },
  {
   "cell_type": "markdown",
   "metadata": {},
   "source": [
    " with the corresponding gradient,"
   ]
  },
  {
   "cell_type": "markdown",
   "metadata": {},
   "source": [
    "$$\n",
    "\\nabla_{\\beta} J(\\boldsymbol{\\beta}) = \\sum_i^m \\frac{1}{1+\\exp(- \\mathbf{x}_i^T \\boldsymbol{\\beta})} \\mathbf{x}_i - y_i \\mathbf{x}_i\n",
    "$$"
   ]
  },
  {
   "cell_type": "markdown",
   "metadata": {},
   "source": [
    " To get started let's create some sample data for logistic regression"
   ]
  },
  {
   "cell_type": "code",
   "execution_count": 71,
   "metadata": {
    "collapsed": false
   },
   "outputs": [],
   "source": [
    "import numpy as np\n",
    "import sympy as sm\n",
    "npts = 100\n",
    "X=np.random.rand(npts,2)*6-3 # random scatter in 2-d plane\n",
    "labels=np.ones(X.shape[0],dtype=np.int) # labels are 0 or 1\n",
    "labels[(X[:,1]<X[:,0])]=0"
   ]
  },
  {
   "cell_type": "markdown",
   "metadata": {},
   "source": [
    " This provides the data in the `X` Numpy array and the target labels \n",
    "in the `labels` array. Next, we want to develop the objective function with Sympy,"
   ]
  },
  {
   "cell_type": "code",
   "execution_count": 72,
   "metadata": {
    "collapsed": false
   },
   "outputs": [],
   "source": [
    "x0,x1 = sm.symbols('x:2',real=True) # data placeholders\n",
    "b0,b1 = sm.symbols('b:2',real=True) # parameters\n",
    "bias = sm.symbols('bias',real=True) # bias term\n",
    "y = sm.symbols('y',real=True) # label placeholders\n",
    "summand = sm.log(1+sm.exp(x0*b0+x1*b1+bias))-y*(x0*b0+x1*b1+bias)\n",
    "J = sum([summand.subs({x0:i,x1:j,y:y_i}) \n",
    "           for (i,j),y_i in zip(X,labels)])"
   ]
  },
  {
   "cell_type": "markdown",
   "metadata": {},
   "source": [
    " We can use Sympy to compute the gradient as in the following:"
   ]
  },
  {
   "cell_type": "code",
   "execution_count": 73,
   "metadata": {
    "collapsed": false
   },
   "outputs": [],
   "source": [
    "from sympy.tensor.array import derive_by_array\n",
    "grad = derive_by_array(summand,(b0,b1,bias))"
   ]
  },
  {
   "cell_type": "markdown",
   "metadata": {},
   "source": [
    " Using the `sm.latex` function renders `grad` as the \n",
    "following:"
   ]
  },
  {
   "cell_type": "markdown",
   "metadata": {},
   "source": [
    "$$\n",
    "\\left[\\begin{matrix}- x_0 y+\\frac{x_0 e^{b_0 x_0 + b_1 x_1 + bias}}{e^{b_0 x_0 + b_1 x_1 + bias} + 1} & - x_1 y + \\frac{x_1 e^{b_0 x_0 + b_1 x_1 + bias}}{e^{b_0 x_0 + b_1 x_1 + bias} + 1} & - y + \\frac{e^{b_0 x_0 + b_1 x_1 + bias}}{e^{b_0 x_0 + b_1 x_1+bias}+1}\\end{matrix}\\right]\n",
    "$$"
   ]
  },
  {
   "cell_type": "markdown",
   "metadata": {},
   "source": [
    " which matches our previous computation of the gradient.  For standard\n",
    "gradient descent, the gradient is computed by summing over all of the data,"
   ]
  },
  {
   "cell_type": "code",
   "execution_count": 74,
   "metadata": {
    "collapsed": false
   },
   "outputs": [],
   "source": [
    "grads=np.array([grad.subs({x0:i,x1:j,y:y_i}) \n",
    "                    for (i,j),y_i in zip(X,labels)]).sum(axis=0)"
   ]
  },
  {
   "cell_type": "markdown",
   "metadata": {},
   "source": [
    " Now, to implement gradient descent, we set up the following loop:"
   ]
  },
  {
   "cell_type": "code",
   "execution_count": 75,
   "metadata": {
    "collapsed": false
   },
   "outputs": [],
   "source": [
    "# convert expression into function\n",
    "Jf = sm.lambdify((b0,b1,bias),J)\n",
    "gradsf = sm.lambdify((b0,b1,bias),grads)\n",
    "niter = 200\n",
    "winit = np.random.randn(3)*20\n",
    "alpha = 0.1 # learning rate (step-size)\n",
    "WK = winit  # initialize \n",
    "Jout=[] # container for output\n",
    "for i in range(niter):\n",
    "    WK = WK - alpha * np.array(gradsf(*WK))\n",
    "    Jout.append(Jf(*WK))"
   ]
  },
  {
   "cell_type": "markdown",
   "metadata": {},
   "source": [
    "<!-- # ** -->\n",
    "\n",
    " For stochastic gradient descent, the above code changes to the following:"
   ]
  },
  {
   "cell_type": "code",
   "execution_count": 76,
   "metadata": {
    "collapsed": false
   },
   "outputs": [],
   "source": [
    "import random\n",
    "sgdWK = winit  # initialize \n",
    "Jout=[] # container for output\n",
    "# don't sum along all data as before\n",
    "grads=np.array([grad.subs({x0:i,x1:j,y:y_i}) \n",
    "                    for (i,j),y_i in zip(X,labels)])\n",
    "for i in range(niter):\n",
    "    gradsf = sm.lambdify((b0,b1,bias),random.choice(grads))\n",
    "    sgdWK = sgdWK - alpha * np.array(gradsf(*sgdWK))\n",
    "    Jout.append(Jf(*sgdWK))"
   ]
  },
  {
   "cell_type": "markdown",
   "metadata": {},
   "source": [
    "<!-- # ** -->\n",
    "\n",
    " The main difference here is that the gradient calculation no longer\n",
    "sums across all of the input data (i.e., `grads` list) and is instead randomly\n",
    "chosen by the `random.choice` function the above body of the loop. The \n",
    "extension to batch gradient descent from this code just requires \n",
    "averaging over a sub-selection of the data for the gradients in the \n",
    "`batch` variable."
   ]
  },
  {
   "cell_type": "code",
   "execution_count": 77,
   "metadata": {
    "collapsed": false
   },
   "outputs": [],
   "source": [
    "mbsgdWK = winit  # initialize \n",
    "Jout=[] # container for output\n",
    "mb = 10 # number of elements in batch\n",
    "for i in range(niter):\n",
    "    batch = np.vstack([random.choice(grads) \n",
    "                          for i in range(mb)]).mean(axis=0)    \n",
    "    gradsf = sm.lambdify((b0,b1,bias),batch)\n",
    "    mbsgdWK = mbsgdWK-alpha*np.array(gradsf(*mbsgdWK))\n",
    "    Jout.append(Jf(*mbsgdWK))"
   ]
  },
  {
   "cell_type": "markdown",
   "metadata": {},
   "source": [
    " It is straight-forward to incorporate momentum into this loop using a\n",
    "Python `deque`, as in the following,\n",
    "\n",
    "<!-- # ** -->"
   ]
  },
  {
   "cell_type": "code",
   "execution_count": 78,
   "metadata": {
    "collapsed": false
   },
   "outputs": [],
   "source": [
    "from collections import deque\n",
    "momentum = deque([winit,winit],2)\n",
    "mbsgdWK = winit  # initialize \n",
    "Jout=[] # container for output\n",
    "mb = 10 # number of elements in batch\n",
    "for i in range(niter):\n",
    "    batch=np.vstack([random.choice(grads) \n",
    "                       for i in range(mb)]).mean(axis=0)    \n",
    "    gradsf=sm.lambdify((b0,b1,bias),batch)\n",
    "    mbsgdWK=mbsgdWK-alpha*np.array(gradsf(*mbsgdWK))+0.5*(momentum[1]-momentum[0])\n",
    "    Jout.append(Jf(*mbsgdWK))"
   ]
  },
  {
   "cell_type": "markdown",
   "metadata": {},
   "source": [
    "<!-- # ** -->\n",
    "\n",
    "[Figure](#fig:gradient_descent_006) shows the three variants of the gradient\n",
    "descent algorithm. Notice that the stochastic gradient descent algorithm is the\n",
    "most erratic, as it is characterized by taking a new direction for every\n",
    "randomly selected data element. Mini-batch gradient descent smoothes these \n",
    "out by averaging across multiple data elements. The momentum variant \n",
    "is somewhere in-between the to as the effect of the momentum term is not \n",
    "pronounced in this example.\n",
    "\n",
    "<!-- dom:FIGURE: [fig-machine_learning/gradient_descent_006.png, width=500 frac=0.85] Different variations of gradient descent. <div id=\"fig:gradient_descent_006\"></div>  -->\n",
    "<!-- begin figure -->\n",
    "<div id=\"fig:gradient_descent_006\"></div>\n",
    "\n",
    "<p>Different variations of gradient descent.</p>\n",
    "<img src=\"fig-machine_learning/gradient_descent_006.png\" width=500>\n",
    "\n",
    "<!-- end figure -->\n",
    "\n",
    "\n",
    "### Python Example Using Theano\n",
    "\n",
    "The code shown makes each step of the gradient descent algorithms explicit\n",
    "using Sympy, but this implementation is far too slow.  The `theano` module\n",
    "provides thoughtful and powerful high-level abstractions for algorithm\n",
    "implementation that relies upon underlying C/C++ and GPU execution models. This\n",
    "means that calculations that are prototyped with `theano` can be executed\n",
    "downstream outside of the Python interpreter which makes them much faster. The \n",
    "downside of this approach is that calculations can become much harder to\n",
    "debug because of the multiple levels of abstraction. Nonetheless, `theano` is \n",
    "a powerful tool for algorithm development and execution.\n",
    "\n",
    "To get started we need some basics from `theano`."
   ]
  },
  {
   "cell_type": "code",
   "execution_count": 79,
   "metadata": {
    "collapsed": false
   },
   "outputs": [],
   "source": [
    "import theano\n",
    "import theano.tensor as T\n",
    "from theano import function, shared"
   ]
  },
  {
   "cell_type": "markdown",
   "metadata": {},
   "source": [
    " the next step is to define variables, which are essentially\n",
    "placeholders for values that will be computed downstream later. The next block\n",
    "defines two named variables as a double-sized float matrix and vector. Note\n",
    "that we did not have to specify the dimensions of each at this point."
   ]
  },
  {
   "cell_type": "code",
   "execution_count": 80,
   "metadata": {
    "collapsed": false
   },
   "outputs": [],
   "source": [
    "x = T.dmatrix(\"x\") # double matrix\n",
    "y = T.dvector(\"y\") # double vector"
   ]
  },
  {
   "cell_type": "markdown",
   "metadata": {},
   "source": [
    " The parameters of our implementation of gradient descent come next,\n",
    "as the following:"
   ]
  },
  {
   "cell_type": "code",
   "execution_count": 81,
   "metadata": {
    "collapsed": false
   },
   "outputs": [],
   "source": [
    "w = shared(np.random.randn(2), name=\"w\") # parameters to fit\n",
    "b = shared(0.0, name=\"b\") # bias term"
   ]
  },
  {
   "cell_type": "markdown",
   "metadata": {},
   "source": [
    " variables that are `shared` are ones whose values can be set\n",
    "separately via other computations or directly via the `set_value()` method.\n",
    "These values can also be retrieved using the `get_value()` method. Now, we need\n",
    "to define the probability of obtaining a `1` from the given data as `p`.  The\n",
    "cross-entropy function and the `T.dot` function are already present (along with\n",
    "a wide range of other related functions) in `theano`.  The conformability of\n",
    "the constituent arguments is the responsibility of the user."
   ]
  },
  {
   "cell_type": "code",
   "execution_count": 82,
   "metadata": {
    "collapsed": false
   },
   "outputs": [],
   "source": [
    "p=1/(1+T.exp(-T.dot(x,w)-b)) # probability of 1\n",
    "error = T.nnet.binary_crossentropy(p,y)\n",
    "loss = error.mean() \n",
    "gw, gb = T.grad(loss, [w, b])"
   ]
  },
  {
   "cell_type": "markdown",
   "metadata": {},
   "source": [
    " The `error` variable is  `TensorVariable` type which has many\n",
    "built-in methods such as `mean`. The so-derived `loss` function is therefore\n",
    "also a `TensorVariable`. The last `T.grad` line is the best part of Theano because \n",
    "it can compute these gradients automatically."
   ]
  },
  {
   "cell_type": "code",
   "execution_count": 83,
   "metadata": {
    "collapsed": false
   },
   "outputs": [],
   "source": [
    "train = function(inputs=[x,y],\n",
    "                 outputs=[error], \n",
    "                 updates=((w, w - alpha * gw),\n",
    "                          (b, b - alpha * gb)))"
   ]
  },
  {
   "cell_type": "markdown",
   "metadata": {},
   "source": [
    " The last step is to set up training by defining the training function\n",
    "in `theano`. The user will supply the previously defined and named input\n",
    "variables (`x` and `y`) and `theano` will return the previously defined `error`\n",
    "variable. Recall that the `w` and `b` variables were defined as `shared`\n",
    "variables. This means that the function `train` can update their values between\n",
    "calls using the update formula specified in the `updates` keyword variable. In\n",
    "this case, the update is just plain gradient descent with the previously\n",
    "defined `alpha` step-size variable.\n",
    "\n",
    "We can execute the training plain using the `train` function in the following loop:"
   ]
  },
  {
   "cell_type": "code",
   "execution_count": 84,
   "metadata": {
    "collapsed": false
   },
   "outputs": [],
   "source": [
    "training_steps=1000\n",
    "for i in range(training_steps):\n",
    "    error = train(X, labels)"
   ]
  },
  {
   "cell_type": "markdown",
   "metadata": {},
   "source": [
    " The `train(X,labels)` call is where the `X` and `labels` arrays we\n",
    "defined earlier replace the placeholder variables. The update step refreshes\n",
    "all of the `shared` variables at each iterative step. At the end of the\n",
    "iteration, the so-computed parameters are in the `w` and `b` variables with\n",
    "values available via `get_value()`. The implementation for stochastic gradient\n",
    "descent requires just a little modification to this loop, as in the following:"
   ]
  },
  {
   "cell_type": "code",
   "execution_count": 85,
   "metadata": {
    "collapsed": false
   },
   "outputs": [],
   "source": [
    "for i in range(training_steps):\n",
    "    idx = np.random.randint(0,X.shape[0])\n",
    "    error = train([X[idx,:]], [labels[idx]])"
   ]
  },
  {
   "cell_type": "markdown",
   "metadata": {},
   "source": [
    " where the `idx` variable selects a random data element from the set and \n",
    "uses that for the update step at every iteration. Likewise, batch stochastic \n",
    "gradient descent follows with the following modification,"
   ]
  },
  {
   "cell_type": "code",
   "execution_count": 86,
   "metadata": {
    "collapsed": false
   },
   "outputs": [],
   "source": [
    "batch_size = 50\n",
    "indices = np.arange(X.shape[0])\n",
    "for i in range(training_steps):\n",
    "    idx = np.random.permutation(indices)[:batch_size]\n",
    "    error = train(X[idx,:], labels[idx])\n",
    "\n",
    "print (w.get_value()) \n",
    "print (b.get_value()) # bias term"
   ]
  },
  {
   "cell_type": "markdown",
   "metadata": {},
   "source": [
    " Here, we set up an `indices` variable that is used for randomly\n",
    "selecting subsets in the `idx` variable that are passed to the `train`\n",
    "function. All of these implementations parallel the corresponding previous\n",
    "implementations in Sympy, but these are many orders of magnitude faster due to\n",
    "`theano`.\n",
    "\n",
    "<!-- # <https://web.archive.org/web/20140508200053/http>://brahms.cpmc.columbia.edu/publications/momentum.pdf -->\n",
    "\n",
    "## Image Processing Using Convolutional Neural Networks"
   ]
  },
  {
   "cell_type": "code",
   "execution_count": 87,
   "metadata": {
    "collapsed": false
   },
   "outputs": [],
   "source": [
    "import numpy as np\n",
    "from matplotlib.pylab import subplots, cm\n",
    "def text_grid(res,i,j,t,ax,**kwds):\n",
    "    '''\n",
    "    put text `t` on grid `i,j` position \n",
    "    passing down `kwds` to `ax.text`\n",
    "    '''\n",
    "    assert isinstance(t,str)\n",
    "    assert isinstance(res,np.ndarray)\n",
    "    color = kwds.pop('color','r')\n",
    "    ax.text(i-0.25,j+0.25,t,color=color,**kwds)\n",
    "\n",
    "def text_grid_array(res,ax=None,fmt='%d',title=None,title_kw=dict(),**kwds):\n",
    "    '''\n",
    "    put values of `res` array as text on grid \n",
    "    '''\n",
    "    assert isinstance(res,np.ndarray)\n",
    "    if ax is None:\n",
    "        fig, ax = subplots()\n",
    "    ax.imshow(res,cmap=cm.gray_r)\n",
    "    ii,jj = np.where(res.T) \n",
    "    for i,j in zip(ii,jj):\n",
    "        text_grid(res,i,j,fmt%(res[j,i]),ax,**kwds)\n",
    "    if title:\n",
    "        ax.set_title(title,**title_kw)\n",
    "    try: \n",
    "        return fig\n",
    "    except:\n",
    "        pass\n",
    "\n",
    "def draw_ndimage(c,m=4,n=5,figsize=[10,10]):\n",
    "    t,mt,nt = c.shape\n",
    "    assert m*n == t\n",
    "    fig,axs=subplots(m,n,figsize=figsize)\n",
    "    for ax,i in zip(axs.flatten(),c):\n",
    "        text_grid_array(i,fontsize=6,fmt='%.1f',ax=ax)    \n",
    "        _= ax.tick_params(labelleft=False,left=False,labelbottom=False,bottom=False)\n",
    "    return fig"
   ]
  },
  {
   "cell_type": "markdown",
   "metadata": {},
   "source": [
    "<!-- # <https://brohrer.github.io/how_convolutional_neural_networks_work.html> -->\n",
    "\n",
    "In this section, we develop the Convolutional Neural Network (CNN) which is the\n",
    "fundamental deep learning  image processing application.  We deconstruct every\n",
    "layer of this network to develop insight into the purpose of the individual\n",
    "operations. CNNs take image as inputs and  images can be represented as\n",
    "Numpy arrays, which makes them fast and easy to use with any of the scientific\n",
    "Python tools.  The individual entries of the Numpy array are the pixels and the\n",
    "row/column dimensions are the height/width of the image respectively.  The\n",
    "array values are between `0` through `255` and correspond to the intensity of\n",
    "the pixel at that location. Three-dimensional images have a third \n",
    "third depth-dimension as the  color channel  (e.g., red, green,\n",
    "blue). Two-dimensional image arrays are grayscale. \n",
    "\n",
    "**Programming Tip.**\n",
    "\n",
    "Matplotlib makes it easy to draw images using the underlying Numpy arrays. For\n",
    "instance, we can draw [Figure](#fig:image_processing_001) using the following\n",
    "MNIST image from `sklearn.datasets`, which represents grayscale hand-drawn\n",
    "digits (the number zero in this case)."
   ]
  },
  {
   "cell_type": "code",
   "execution_count": 88,
   "metadata": {
    "collapsed": false
   },
   "outputs": [],
   "source": [
    "from matplotlib.pylab import subplots, cm\n",
    "from sklearn import datasets\n",
    "mnist = datasets.load_digits()\n",
    "fig, ax = subplots()\n",
    "ax.imshow(mnist.images[0],\n",
    "          interpolation='nearest',\n",
    "          cmap=cm.gray)"
   ]
  },
  {
   "cell_type": "code",
   "execution_count": 89,
   "metadata": {
    "collapsed": false
   },
   "outputs": [],
   "source": [
    "fig.savefig('fig-machine_learning/image_processing_001.png')"
   ]
  },
  {
   "cell_type": "markdown",
   "metadata": {},
   "source": [
    " The `cmap` keyword argument specifies the colormap as gray. The\n",
    "`interpolation` keyword means that the resulting image from `imshow` does not\n",
    "try to visually smooth out the data, which can be confusing when working at the\n",
    "pixel level.  The other hand drawn digits are shown below in [Figure](#fig:image_processing_002).\n",
    "\n",
    "\n",
    "\n",
    "<!-- dom:FIGURE: [fig-machine_learning/image_processing_001.png, width=200 frac=0.25] Image of a hand drawn number zero from the MNIST dataset.   <div id=\"fig:image_processing_001\"></div> -->\n",
    "<!-- begin figure -->\n",
    "<div id=\"fig:image_processing_001\"></div>\n",
    "\n",
    "<p>Image of a hand drawn number zero from the MNIST dataset.</p>\n",
    "<img src=\"fig-machine_learning/image_processing_001.png\" width=200>\n",
    "\n",
    "<!-- end figure -->"
   ]
  },
  {
   "cell_type": "code",
   "execution_count": 90,
   "metadata": {
    "collapsed": false
   },
   "outputs": [],
   "source": [
    "fig, axs = subplots(2,5, constrained_layout=True)\n",
    "fig.tight_layout()\n",
    "for i,(ax,j) in enumerate(zip(axs.flatten(),mnist.images)):\n",
    "   _=ax.imshow(j,interpolation='nearest',cmap=cm.gray)\n",
    "   _=ax.set_title('digit %d'%(i))\n",
    "   _=ax.spines['top'].set_visible(False)\n",
    "   _=ax.spines['bottom'].set_visible(False)\n",
    "   _=ax.spines['left'].set_visible(False)\n",
    "   _=ax.spines['right'].set_visible(False)\n",
    "   _=ax.spines['top'].axis.set_ticks_position('none')\n",
    "   _=ax.spines['bottom'].axis.set_ticks_position('none')\n",
    "   _=ax.spines['left'].axis.set_ticks_position('none')\n",
    "   _=ax.spines['right'].axis.set_ticks_position('none')\n",
    "   _=ax.xaxis.set_visible(False)\n",
    "   _=ax.yaxis.set_visible(False)\n",
    "\n",
    "fig.tight_layout()\n",
    "fig.savefig('fig-machine_learning/image_processing_002.png')"
   ]
  },
  {
   "cell_type": "markdown",
   "metadata": {},
   "source": [
    "<!-- dom:FIGURE: [fig-machine_learning/image_processing_002.png, width=500 frac=0.65] Samples of the other hand drawn digits from MNIST.  <div id=\"fig:image_processing_002\"></div> -->\n",
    "<!-- begin figure -->\n",
    "<div id=\"fig:image_processing_002\"></div>\n",
    "\n",
    "<p>Samples of the other hand drawn digits from MNIST.</p>\n",
    "<img src=\"fig-machine_learning/image_processing_002.png\" width=500>\n",
    "\n",
    "<!-- end figure -->\n",
    "\n",
    "\n",
    "### Convolution\n",
    "\n",
    "Convolution is an intensive calculation and it is the core of convolutional\n",
    "neural networks. The purpose of convolution is to create alternative\n",
    "representations of the input image that emphasize or demphasize certain\n",
    "features represented by the *kernel*.  The convolution operation consists of a\n",
    "kernel and an *input matrix*.  The convolution operation is a way of aligning\n",
    "and comparing image data with the corresponding data in an image kernel.  You\n",
    "can think of an image kernel as a template for a canonical feature that the\n",
    "convolution operation will uncover.  To keep it simple suppose we have the\n",
    "following `3x3` kernel matrix,"
   ]
  },
  {
   "cell_type": "code",
   "execution_count": 91,
   "metadata": {
    "collapsed": false
   },
   "outputs": [],
   "source": [
    "import numpy as np\n",
    "kern = np.eye(3,dtype=np.int)\n",
    "kern"
   ]
  },
  {
   "cell_type": "markdown",
   "metadata": {},
   "source": [
    " Using this kernel, we want to find anything in an input image that\n",
    "looks like a diagonal line. Let's suppose we have the following input Numpy image"
   ]
  },
  {
   "cell_type": "code",
   "execution_count": 92,
   "metadata": {
    "collapsed": false
   },
   "outputs": [],
   "source": [
    "tmp = np.hstack([kern,kern*0])\n",
    "x = np.vstack([tmp,tmp])\n",
    "x"
   ]
  },
  {
   "cell_type": "markdown",
   "metadata": {},
   "source": [
    " Note that this image is just the kernel stacked into a larger Numpy\n",
    "array. We want to see if the convolution can pull out the kernel that is\n",
    "embedded in the image.  Of course, in a real application we would not know\n",
    "whether or not the kernel is present in the image, but this example \n",
    "helps us understand the convolution operation step-by-step. There is a \n",
    "convolution function available in the `scipy` module."
   ]
  },
  {
   "cell_type": "code",
   "execution_count": 93,
   "metadata": {
    "collapsed": false
   },
   "outputs": [],
   "source": [
    "from scipy.ndimage.filters import convolve\n",
    "res = convolve(x,kern,mode='constant',cval=0)\n",
    "res"
   ]
  },
  {
   "cell_type": "markdown",
   "metadata": {},
   "source": [
    "Each step of the convolution operation is represented in [Figure](#fig:image_processing_003).  The `kern` matrix (light blue square) is\n",
    "overlaid upon the `x` matrix and the element-wise product is computed and\n",
    "summed. Thus, the `0,0` array output corresponds to this operation applied to\n",
    "the top-left 3x3 slice of the input, which results in `3`.  The convolution\n",
    "operation is sensitive to boundary conditions. For this example, we have chosen\n",
    "`mode=constant` and `cval=0` which means that the input image is bordered by\n",
    "zeros when the kernel sweeps outside of the input image boundary. This is the\n",
    "simplest option for managing the edge conditions and\n",
    "`scipy.ndimage.filters.convolve` provides other practical alternatives. It also\n",
    "common to normalize the output of the convolution operation by dividing by the\n",
    "number of pixels in the kernel (i.e., `3` in this example).  Another way to\n",
    "think about the convolution operation is as a matched filter that peaks when it\n",
    "finds a compatible sub-feature. The final output of the convolution operation \n",
    "is shown in [Figure](#fig:image_processing_004). The values of the \n",
    "individual pixels are shown in color. Notice where the maximum values of the\n",
    "output image are located on the diagonals.\n",
    "\n",
    "<!-- dom:FIGURE: [fig-machine_learning/image_processing_003.png, width=500 frac=0.85] The convolution process that produces the `res` array. As shown in the sequence, the light blue `kern` array is slid around, overlaid, mutiplied, and summed upon the `x` array to generate the values of shown in the title. The output of the convolution is shown in [Figure](#fig:image_processing_004). <div id=\"fig:image_processing_003\"></div> -->\n",
    "<!-- begin figure -->\n",
    "<div id=\"fig:image_processing_003\"></div>\n",
    "\n",
    "<p>The convolution process that produces the <code>res</code> array. As shown in the sequence, the light blue <code>kern</code> array is slid around, overlaid, mutiplied, and summed upon the <code>x</code> array to generate the values of shown in the title. The output of the convolution is shown in [Figure](#fig:image_processing_004).</p>\n",
    "<img src=\"fig-machine_learning/image_processing_003.png\" width=500>\n",
    "\n",
    "<!-- end figure -->\n",
    "\n",
    "\n",
    "<!-- dom:FIGURE: [fig-machine_learning/image_processing_004.png, width=500 frac=0.55] The `res` array output of the convolution is shown in [Figure](#fig:image_processing_003). The values (in red) shown are the individual outputs of the convolution operation. The grayscale indicates relative magnitude of the shown values (darker is greater). <div id=\"fig:image_processing_004\"></div> -->\n",
    "<!-- begin figure -->\n",
    "<div id=\"fig:image_processing_004\"></div>\n",
    "\n",
    "<p>The <code>res</code> array output of the convolution is shown in [Figure](#fig:image_processing_003). The values (in red) shown are the individual outputs of the convolution operation. The grayscale indicates relative magnitude of the shown values (darker is greater).</p>\n",
    "<img src=\"fig-machine_learning/image_processing_004.png\" width=500>\n",
    "\n",
    "<!-- end figure -->\n",
    "\n",
    "\n",
    "However, the convolution operation is not a perfect detector and results in\n",
    "nonzero values for other cases. For example, suppose the input image is a\n",
    "forward-slash diagonal line. The step-by-step convolution with the kernel is\n",
    "shown in [Figure](#fig:image_processing_005) with corresponding output in\n",
    "[Figure](#fig:image_processing_006) that looks nothing like the kernel or the\n",
    "input image.\n",
    "\n",
    "<!-- dom:FIGURE: [fig-machine_learning/image_processing_005.png, width=500 frac=0.85] The input array is a forward slash diagonal. This sequence shows the step-by-step convolution operation. The output of this convolution is shown in [Figure](#fig:image_processing_006). <div id=\"fig:image_processing_005\"></div> -->\n",
    "<!-- begin figure -->\n",
    "<div id=\"fig:image_processing_005\"></div>\n",
    "\n",
    "<p>The input array is a forward slash diagonal. This sequence shows the step-by-step convolution operation. The output of this convolution is shown in [Figure](#fig:image_processing_006).</p>\n",
    "<img src=\"fig-machine_learning/image_processing_005.png\" width=500>\n",
    "\n",
    "<!-- end figure -->\n",
    "\n",
    "\n",
    "<!-- dom:FIGURE: [fig-machine_learning/image_processing_006.png, width=500 frac=0.35] The output of the convolution operation shown in [Figure](#fig:image_processing_005). Note that the output has nonzero elements where there is no match between the input image and the kernel. <div id=\"fig:image_processing_006\"></div> -->\n",
    "<!-- begin figure -->\n",
    "<div id=\"fig:image_processing_006\"></div>\n",
    "\n",
    "<p>The output of the convolution operation shown in [Figure](#fig:image_processing_005). Note that the output has nonzero elements where there is no match between the input image and the kernel.</p>\n",
    "<img src=\"fig-machine_learning/image_processing_006.png\" width=500>\n",
    "\n",
    "<!-- end figure -->\n",
    "\n",
    "\n",
    "We can use multiple kernels to explore an input image.\n",
    "For example, suppose we have the input image shown on the left in [Figure](#fig:image_processing_007). The two kernels are shown in the upper row, with \n",
    "corresponding outputs on the bottom row. Each kernel is able to emphasize its \n",
    "particular feature but extraneous features appear in both outputs. We can have \n",
    "as many outputs as we have kernels but because each output image is as large as the \n",
    "input image, we need a way to reduce the size of this data.  \n",
    "\n",
    "<!-- dom:FIGURE: [fig-machine_learning/image_processing_007.png, width=500 frac=0.85] Given two kernels (upper row) and the input image on the left, the output images are shown on the bottom row. Note that each kernel is able to emphasize its feature on the input composite image but other extraneous features appear in the outputs. <div id=\"fig:image_processing_007\"></div> -->\n",
    "<!-- begin figure -->\n",
    "<div id=\"fig:image_processing_007\"></div>\n",
    "\n",
    "<p>Given two kernels (upper row) and the input image on the left, the output images are shown on the bottom row. Note that each kernel is able to emphasize its feature on the input composite image but other extraneous features appear in the outputs.</p>\n",
    "<img src=\"fig-machine_learning/image_processing_007.png\" width=500>\n",
    "\n",
    "<!-- end figure -->\n",
    "\n",
    "\n",
    "### Maximum Pooling\n",
    "\n",
    "To reduce the size of the output images, we can apply *maximum pooling*\n",
    "to replace a tiled subset of the image with the maximum pixel value\n",
    "in that particular subset. The following Python code illustrates maximum\n",
    "pooling,"
   ]
  },
  {
   "cell_type": "code",
   "execution_count": 94,
   "metadata": {
    "collapsed": false
   },
   "outputs": [],
   "source": [
    "def max_pool(res,width=2,height=2):\n",
    "    m,n = res.shape\n",
    "    xi = [slice(i,i+width) for i in range(0,m,width)]\n",
    "    yi = [slice(i,i+height) for i in range(0,n,height)]\n",
    "    out = np.zeros((len(xi),len(yi)),dtype=res.dtype)\n",
    "    for ni,i in enumerate(xi):\n",
    "        for nj,j in enumerate(yi):\n",
    "            out[ni,nj]= res[i,j].max()\n",
    "    return out"
   ]
  },
  {
   "cell_type": "markdown",
   "metadata": {},
   "source": [
    "**Programming Tip.**\n",
    "\n",
    "The `slice` object provides programmatic array slicing. For\n",
    "example, `x[0,3]=x[slice(0,3)]`. This means you can\n",
    "separate the `slice` from the array, which makes it easier to manage.\n",
    "\n",
    "\n",
    "\n",
    " Pooling  reduces the dimensionality of the output of the convolution\n",
    "and makes stacking convolutions together computationally feasible. [Figure](#fig:image_processing_008) shows the output of the `max_pool` function on\n",
    "the indicated input images.\n",
    "\n",
    "<!-- dom:FIGURE: [fig-machine_learning/image_processing_008.png, width=500 frac=0.65] The `max_pool` function reduces the size of the output images (left column) to the images on the right column. Note that the pool size is `2x2` so that the resulting pooled images are half the size of the original images in each dimension. <div id=\"fig:image_processing_008\"></div> -->\n",
    "<!-- begin figure -->\n",
    "<div id=\"fig:image_processing_008\"></div>\n",
    "\n",
    "<p>The <code>max_pool</code> function reduces the size of the output images (left column) to the images on the right column. Note that the pool size is <code>2x2</code> so that the resulting pooled images are half the size of the original images in each dimension.</p>\n",
    "<img src=\"fig-machine_learning/image_processing_008.png\" width=500>\n",
    "\n",
    "<!-- end figure -->\n",
    "\n",
    "\n",
    "### Rectified Linear Activation\n",
    "\n",
    "Rectified Linear Activation Units (ReLUs) are neural network units that\n",
    "implement the following activation function,"
   ]
  },
  {
   "cell_type": "markdown",
   "metadata": {},
   "source": [
    "$$\n",
    "r(x) = \\begin{cases}\n",
    "              x & \\mbox{if }  x>0 \\\\\n",
    "              0 & \\mbox{otherwise }\n",
    "          \\end{cases}\n",
    "$$"
   ]
  },
  {
   "cell_type": "markdown",
   "metadata": {},
   "source": [
    " To use this activation properly, the kernels in the convolutional\n",
    "layer must be scaled to the $\\lbrace -1,1 \\rbrace$ range.   We \n",
    "can implement our own rectified linear activation function using the\n",
    "following code,"
   ]
  },
  {
   "cell_type": "code",
   "execution_count": 95,
   "metadata": {
    "collapsed": false
   },
   "outputs": [],
   "source": [
    "def relu(x):\n",
    "    'rectified linear activation function'\n",
    "    out = np.zeros(x.shape,dtype=x.dtype)\n",
    "    idx = x>=0\n",
    "    out[idx]=x[idx]\n",
    "    return out"
   ]
  },
  {
   "cell_type": "markdown",
   "metadata": {},
   "source": [
    "Now that we understand the basic building blocks, let us investigate how the\n",
    "operations fit together. To create some training image data, we use the\n",
    "following function to create some random backwards and forwards slashed images\n",
    "as shown in [Figure](#fig:image_processing_009).  As before, we have the\n",
    "scaled kernels shown in [Figure](#fig:image_processing_010). We are going to\n",
    "apply the convolution, max-pooling, and rectified linear activation function\n",
    "sequence step-by-step and observe the outputs at each step."
   ]
  },
  {
   "cell_type": "code",
   "execution_count": 96,
   "metadata": {
    "collapsed": false
   },
   "outputs": [],
   "source": [
    "def gen_rand_slash(m=6,n=6,direction='back'):\n",
    "    '''generate random forward/backslash images. \n",
    "    Must have at least two pixels'''\n",
    "    assert direction in ('back','forward') \n",
    "    assert n>=2 and m>=2\n",
    "    import numpy as np\n",
    "    import random\n",
    "    out = -np.ones((m,n),dtype=float)\n",
    "    i = random.randint(2,min(m,n))\n",
    "    j = random.randint(-i,max(m,n)-1)\n",
    "    t = np.diag([1,]*i,j)\n",
    "    if direction == 'forward':\n",
    "        t = np.flipud(t)\n",
    "    try:\n",
    "        assert t.sum().sum()>=2\n",
    "        out[np.where(t)]=1\n",
    "        return out\n",
    "    except:\n",
    "        return gen_rand_slash(m=m,n=n,direction=direction)\n",
    "\n",
    "# create slash-images training data with classification id 1 or 0\n",
    "training=[(gen_rand_slash(),1) for i in range(10)] + \\\n",
    "         [(gen_rand_slash(direction='forward'),0) for i in range(10)]"
   ]
  },
  {
   "cell_type": "code",
   "execution_count": 97,
   "metadata": {
    "collapsed": false
   },
   "outputs": [],
   "source": [
    "fig,axs=subplots(4,5,figsize=[8,8])\n",
    "for ax,i in zip(axs.flatten(),training):\n",
    "    _=ax.imshow(i[0],cmap='gray_r')\n",
    "    _=ax.set_title(f'category={i[1]}')\n",
    "    _=ax.tick_params(labelleft=False,left=False,labelbottom=False,bottom=False)\n",
    "\n",
    "fig.tight_layout()\n",
    "fig.savefig('fig-machine_learning/image_processing_009.png')"
   ]
  },
  {
   "cell_type": "markdown",
   "metadata": {},
   "source": [
    "<!-- dom:FIGURE: [fig-machine_learning/image_processing_009.png, width=500 frac=0.65] The training data set for our convolutional neural network. The forward slash images are labelled category `0` and the backward slash images are category `1`. <div id=\"fig:image_processing_009\"></div> -->\n",
    "<!-- begin figure -->\n",
    "<div id=\"fig:image_processing_009\"></div>\n",
    "\n",
    "<p>The training data set for our convolutional neural network. The forward slash images are labelled category <code>0</code> and the backward slash images are category <code>1</code>.</p>\n",
    "<img src=\"fig-machine_learning/image_processing_009.png\" width=500>\n",
    "\n",
    "<!-- end figure -->\n",
    "\n",
    "\n",
    "<!-- dom:FIGURE: [fig-machine_learning/image_processing_010.png, width=500 frac=0.65] The two scaled feature kernels for the convolutional neural network. <div id=\"fig:image_processing_010\"></div> -->\n",
    "<!-- begin figure -->\n",
    "<div id=\"fig:image_processing_010\"></div>\n",
    "\n",
    "<p>The two scaled feature kernels for the convolutional neural network.</p>\n",
    "<img src=\"fig-machine_learning/image_processing_010.png\" width=500>\n",
    "\n",
    "<!-- end figure -->\n",
    "\n",
    "\n",
    "[Figure](#fig:image_processing_011) shows the output of convolving the\n",
    "training data in [Figure](#fig:image_processing_009) with `kern1`, as shown on\n",
    "the left panel of [Figure](#fig:image_processing_010). Note that \n",
    "the following code defines each of these kernels,"
   ]
  },
  {
   "cell_type": "code",
   "execution_count": 98,
   "metadata": {
    "collapsed": false
   },
   "outputs": [],
   "source": [
    "kern1 = (np.eye(3,dtype=np.int)*2-1)/9. # scale\n",
    "kern2 = np.flipud(kern1)"
   ]
  },
  {
   "cell_type": "markdown",
   "metadata": {},
   "source": [
    "The next operation is the activation function for the rectified linear unit\n",
    "with output shown in [Figure](#fig:image_processing_012). Note that all of the\n",
    "negative terms have been replaced by zeros. The next step is the maximum\n",
    "pooling operation as shown in [Figure](#fig:image_processing_013). Notice that\n",
    "the number of total pixels in the training data has reduced from thirty-six per\n",
    "image to nine per image.   With these processed images, we have the inputs we\n",
    "need for the final classification step."
   ]
  },
  {
   "cell_type": "code",
   "execution_count": 99,
   "metadata": {
    "collapsed": false
   },
   "outputs": [],
   "source": [
    "fig,axs=subplots(4,5,figsize=[10,10])\n",
    "for ax,(i,cat) in zip(axs.flatten(),training):\n",
    "    res1=convolve(i,kern1,mode='constant',cval=0)\n",
    "    _= text_grid_array(res1,fontsize=6,fmt='%.1f',ax=ax)\n",
    "    _= ax.tick_params(labelleft=False,left=False,labelbottom=False,bottom=False)\n",
    "\n",
    "_=fig.suptitle('Training Set Convolution with kern1',fontsize=22)\n",
    "fig.tight_layout()\n",
    "fig.savefig('fig-machine_learning/image_processing_011.png')"
   ]
  },
  {
   "cell_type": "code",
   "execution_count": 100,
   "metadata": {
    "collapsed": false
   },
   "outputs": [],
   "source": [
    "fig,axs=subplots(4,5,figsize=[10,10])\n",
    "\n",
    "for ax,(i,cat) in zip(axs.flatten(),training):\n",
    "    res1=convolve(i,kern1,mode='constant',cval=0)\n",
    "    _=text_grid_array(relu(res1),fontsize=6,fmt='%.1f',ax=ax)\n",
    "    _=ax.tick_params(labelleft=False,left=False,labelbottom=False,bottom=False)\n",
    "\n",
    "_=fig.suptitle('ReLU of Convolution with kern1',fontsize=22)\n",
    "fig.tight_layout()\n",
    "fig.savefig('fig-machine_learning/image_processing_012.png')"
   ]
  },
  {
   "cell_type": "code",
   "execution_count": 101,
   "metadata": {
    "collapsed": false
   },
   "outputs": [],
   "source": [
    "fig,axs=subplots(4,5,figsize=[8,8])\n",
    "for ax,(i,cat) in zip(axs.flatten(),training):\n",
    "    res1=convolve(i,kern1,mode='constant',cval=0)\n",
    "    tmp= max_pool(relu(res1))\n",
    "    _=text_grid_array(tmp,fontsize=6,fmt='%.1f',ax=ax)\n",
    "    _=ax.tick_params(labelleft=False,left=False,labelbottom=False,bottom=False)\n",
    "\n",
    "_=fig.suptitle('Max-pool of ReLU Output for kern1',fontsize=22)\n",
    "fig.tight_layout()\n",
    "fig.savefig('fig-machine_learning/image_processing_013.png')"
   ]
  },
  {
   "cell_type": "markdown",
   "metadata": {},
   "source": [
    "<!-- dom:FIGURE: [fig-machine_learning/image_processing_011.png, width=500 frac=0.65] The output of convolving the training data in [Figure](#fig:image_processing_009) with `kern1`, as shown on the left panel of [Figure](#fig:image_processing_010). <div id=\"fig:image_processing_011\"></div> -->\n",
    "<!-- begin figure -->\n",
    "<div id=\"fig:image_processing_011\"></div>\n",
    "\n",
    "<p>The output of convolving the training data in [Figure](#fig:image_processing_009) with <code>kern1</code>, as shown on the left panel of [Figure](#fig:image_processing_010).</p>\n",
    "<img src=\"fig-machine_learning/image_processing_011.png\" width=500>\n",
    "\n",
    "<!-- end figure -->\n",
    "\n",
    "\n",
    "<!-- dom:FIGURE: [fig-machine_learning/image_processing_012.png, width=500 frac=0.65] The output of the rectified linear unit activation function with the input shown in [Figure](#fig:image_processing_011). <div id=\"fig:image_processing_012\"></div> -->\n",
    "<!-- begin figure -->\n",
    "<div id=\"fig:image_processing_012\"></div>\n",
    "\n",
    "<p>The output of the rectified linear unit activation function with the input shown in [Figure](#fig:image_processing_011).</p>\n",
    "<img src=\"fig-machine_learning/image_processing_012.png\" width=500>\n",
    "\n",
    "<!-- end figure -->\n",
    "\n",
    "\n",
    "<!-- dom:FIGURE: [fig-machine_learning/image_processing_013.png, width=500 frac=0.65] The output of maximum pooling operation with the input shown in [Figure](#fig:image_processing_012) for fixed image kernel `kern1`. <div id=\"fig:image_processing_013\"></div> -->\n",
    "<!-- begin figure -->\n",
    "<div id=\"fig:image_processing_013\"></div>\n",
    "\n",
    "<p>The output of maximum pooling operation with the input shown in [Figure](#fig:image_processing_012) for fixed image kernel <code>kern1</code>.</p>\n",
    "<img src=\"fig-machine_learning/image_processing_013.png\" width=500>\n",
    "\n",
    "<!-- end figure -->\n",
    "\n",
    "\n",
    "### Convolutional Neural Network Using Keras\n",
    "\n",
    "Now that we have experimented with the individual operations using our own\n",
    "Python code, we can construct the convolutional neural network using Keras. In\n",
    "particular, we  use the Keras functional interface to define this neural\n",
    "network because that makes it easy to unpack the operations at the individual\n",
    "layers."
   ]
  },
  {
   "cell_type": "code",
   "execution_count": 102,
   "metadata": {
    "collapsed": false
   },
   "outputs": [],
   "source": [
    "from keras import metrics\n",
    "from keras.models import Model\n",
    "from keras.layers.core import Dense, Activation, Flatten\n",
    "from keras.layers import Input\n",
    "from keras.layers.convolutional import Conv2D\n",
    "from keras.layers.pooling import MaxPooling2D\n",
    "from keras.optimizers import SGD\n",
    "from keras import backend as K\n",
    "from keras.utils import to_categorical"
   ]
  },
  {
   "cell_type": "markdown",
   "metadata": {},
   "source": [
    "Note that the names of the modules are consistent with their \n",
    "operations.  We also need to tell `Keras` how to manage the input images,"
   ]
  },
  {
   "cell_type": "code",
   "execution_count": 103,
   "metadata": {
    "collapsed": false
   },
   "outputs": [],
   "source": [
    "K.set_image_data_format('channels_first') # image data format\n",
    "inputs = Input(shape=(1,6,6)) # input data shape"
   ]
  },
  {
   "cell_type": "markdown",
   "metadata": {},
   "source": [
    "  Now we can build the individual convolutional layers. Note the specification of\n",
    "the activations at each layer and placement of the `inputs`.`"
   ]
  },
  {
   "cell_type": "code",
   "execution_count": 104,
   "metadata": {
    "collapsed": false
   },
   "outputs": [],
   "source": [
    "clayer = Conv2D(2,(3,3),padding='same',\n",
    "            input_shape=(1,6,6),name='conv',\n",
    "            use_bias=False,\n",
    "            trainable=False)(inputs)\n",
    "\n",
    "relu_layer= Activation('relu')(clayer)\n",
    "maxpooling = MaxPooling2D(pool_size=(2,2),\n",
    "                          name='maxpool')(relu_layer)\n",
    "flatten = Flatten()(maxpooling)\n",
    "softmax_layer = Dense(2, \n",
    "                      activation='softmax',\n",
    "                      name='softmax')(flatten)\n",
    "model = Model(inputs=inputs, outputs=softmax_layer)\n",
    "# inject fixed kernels into convolutional layer\n",
    "fixed_kernels = [np.dstack([kern1,kern2]).reshape(3,3,1,2)]\n",
    "model.layers[1].set_weights(fixed_kernels)"
   ]
  },
  {
   "cell_type": "markdown",
   "metadata": {},
   "source": [
    " Observe that the functional interface means that each layer is\n",
    "explicitly a function of the previous one. Note that `trainable=False` for the\n",
    "convolutional layer because we want to inject our fixed kernels into it at the\n",
    "end.  The `flatten` layer reshapes the data so that the entire processed image\n",
    "at the point is fed into the `softmax_layer`, whose output is proportional to\n",
    "the probability that the image belongs to either class. The `set_weights()`\n",
    "function is where we inject our fixed kernels. These are not going to be\n",
    "updated by the optimization algorithm because of the prior `trainable=False`\n",
    "option.  With the topology of the neural network defined, we now have to choose\n",
    "the optimization algorithm and pack all of this configuration into the model\n",
    "with the `compile` step."
   ]
  },
  {
   "cell_type": "code",
   "execution_count": 105,
   "metadata": {
    "collapsed": false
   },
   "outputs": [],
   "source": [
    "lr = 0.01 # learning rate\n",
    "sgd = SGD(lr=lr, decay=1e-6, momentum=0.9, nesterov=True)\n",
    "model.compile(loss='categorical_crossentropy',\n",
    "              optimizer=sgd,\n",
    "              metrics=['accuracy',\n",
    "                       metrics.categorical_crossentropy])"
   ]
  },
  {
   "cell_type": "markdown",
   "metadata": {},
   "source": [
    " The `metrics` specification means that we want to training process to\n",
    "keep track of those named items. Next, we generate some training data using our\n",
    "`gen_rand_slash` function with the associated class of each image (`1` or `0`).\n",
    "Most of this code is just shaping the tensors for Keras.  The final\n",
    "`model.fit()` step is where the internal weights of the neural network are\n",
    "adjusted according to the given inputs."
   ]
  },
  {
   "cell_type": "code",
   "execution_count": 106,
   "metadata": {
    "collapsed": false
   },
   "outputs": [],
   "source": [
    "# generate some training data\n",
    "ntrain = len(training)\n",
    "t=np.dstack([training[i][0].T \n",
    "               for i in range(ntrain)]).T.reshape(ntrain,1,6,6)\n",
    "y_binary=to_categorical(np.hstack([np.ones(ntrain//2),\n",
    "                                   np.zeros(ntrain//2)]))\n",
    "# fit the configured model\n",
    "h=model.fit(t,y_binary,epochs=500,verbose=0)"
   ]
  },
  {
   "cell_type": "markdown",
   "metadata": {},
   "source": [
    "With that completed, we can investigate the functional mapping of each layer \n",
    "with `K.function`. The following creates a mapping between the input layer and\n",
    "the convolutional layer,"
   ]
  },
  {
   "cell_type": "code",
   "execution_count": 107,
   "metadata": {
    "collapsed": false
   },
   "outputs": [],
   "source": [
    "convFunction = K.function([inputs],[clayer])"
   ]
  },
  {
   "cell_type": "markdown",
   "metadata": {},
   "source": [
    " Now, we can feed the training data into this function as see the output of \n",
    "just the convolutional layer, which is shown,"
   ]
  },
  {
   "cell_type": "code",
   "execution_count": 108,
   "metadata": {
    "collapsed": false
   },
   "outputs": [],
   "source": [
    "fig=draw_ndimage(convFunction([t])[0][:,0,:,:],4,5)\n",
    "_=fig.suptitle('Keras convolution layer output given kern1',fontsize=22);\n",
    "fig.tight_layout()\n",
    "fig.savefig('fig-machine_learning/image_processing_015.png')"
   ]
  },
  {
   "cell_type": "code",
   "execution_count": 109,
   "metadata": {
    "collapsed": false
   },
   "outputs": [],
   "source": [
    "fig=draw_ndimage(convFunction([t])[0][:,1,:,:],4,5)\n",
    "_=fig.suptitle('Keras convolution layer output given kern2',fontsize=22);\n",
    "fig.tight_layout()\n",
    "fig.savefig('fig-machine_learning/image_processing_016.png')"
   ]
  },
  {
   "cell_type": "markdown",
   "metadata": {},
   "source": [
    "<!-- dom:FIGURE: [fig-machine_learning/image_processing_015.png, width=500 frac=0.75] Compare this to [Figure](#fig:image_processing_011). This shows our hand-tooled convolution is the same as that implemented by Keras.   <div id=\"fig:image_processing_015\"></div> -->\n",
    "<!-- begin figure -->\n",
    "<div id=\"fig:image_processing_015\"></div>\n",
    "\n",
    "<p>Compare this to [Figure](#fig:image_processing_011). This shows our hand-tooled convolution is the same as that implemented by Keras.</p>\n",
    "<img src=\"fig-machine_learning/image_processing_015.png\" width=500>\n",
    "\n",
    "<!-- end figure -->\n",
    "\n",
    "\n",
    "We can do this again for the pooling layer by creating another Keras function,"
   ]
  },
  {
   "cell_type": "code",
   "execution_count": 110,
   "metadata": {
    "collapsed": false
   },
   "outputs": [],
   "source": [
    "maxPoolingFunction = K.function([inputs],[maxpooling])"
   ]
  },
  {
   "cell_type": "markdown",
   "metadata": {},
   "source": [
    " whose output is shown in [Figure](#fig:image_processing_017). We can examine the \n",
    "final output of this network using the `predict` function,"
   ]
  },
  {
   "cell_type": "code",
   "execution_count": 111,
   "metadata": {
    "collapsed": false
   },
   "outputs": [],
   "source": [
    "fixed_kernels = model.predict(t)\n",
    "fixed_kernels"
   ]
  },
  {
   "cell_type": "markdown",
   "metadata": {},
   "source": [
    " and we can see the weights given to each of the classes. Taking the \n",
    "maximum of these across the columns gives the following,"
   ]
  },
  {
   "cell_type": "code",
   "execution_count": 112,
   "metadata": {
    "collapsed": false
   },
   "outputs": [],
   "source": [
    "np.argmax(fixed_kernels,axis=1)"
   ]
  },
  {
   "cell_type": "markdown",
   "metadata": {},
   "source": [
    " which means that our convolutional neural network with the fixed kernels \n",
    "did well predicting the classes of each of our input images. Recall that our model\n",
    "configuration prevented our fixed kernels from updating in the training process. Thus, the\n",
    "main work of model training was changing the weights of the final output layer. We can\n",
    "re-do this exercise by removing this constraint and see how the network performs if\n",
    "it is able to adaptively re-weight the kernel terms as part of training by changing the `trainable` \n",
    "keyword argument and then re-build and train the model, as shown next."
   ]
  },
  {
   "cell_type": "code",
   "execution_count": 113,
   "metadata": {
    "collapsed": false
   },
   "outputs": [],
   "source": [
    "clayer = Conv2D(2,(3,3),padding='same',\n",
    "            input_shape=(1,6,6),name='conv',\n",
    "            use_bias=False)(inputs)\n",
    "\n",
    "relu_layer= Activation('relu')(clayer)\n",
    "maxpooling = MaxPooling2D(pool_size=(2,2),\n",
    "                          name='maxpool')(relu_layer)\n",
    "flatten = Flatten()(maxpooling)\n",
    "softmax_layer = Dense(2, \n",
    "                      activation='softmax',\n",
    "                      name='softmax')(flatten)\n",
    "model = Model(inputs=inputs, outputs=softmax_layer)\n",
    "model.compile(loss='categorical_crossentropy',\n",
    "              optimizer=sgd)\n",
    "h=model.fit(t,y_binary,epochs=500,verbose=0)\n",
    "new_kernels = model.predict(t)\n",
    "new_kernels"
   ]
  },
  {
   "cell_type": "markdown",
   "metadata": {},
   "source": [
    " with corresponding max output,"
   ]
  },
  {
   "cell_type": "code",
   "execution_count": 114,
   "metadata": {
    "collapsed": false
   },
   "outputs": [],
   "source": [
    "np.argmax(new_kernels,axis=1)"
   ]
  },
  {
   "cell_type": "code",
   "execution_count": 115,
   "metadata": {
    "collapsed": false
   },
   "outputs": [],
   "source": [
    "fig=draw_ndimage(maxPoolingFunction([t])[0][:,0,:,:],4,5)\n",
    "_=fig.suptitle('Keras Pooling layer output given kern1',fontsize=22);\n",
    "fig.tight_layout()\n",
    "fig.savefig('fig-machine_learning/image_processing_017.png')"
   ]
  },
  {
   "cell_type": "markdown",
   "metadata": {},
   "source": [
    "<!-- dom:FIGURE: [fig-machine_learning/image_processing_017.png, width=500 frac=0.75] Output of max-pooling layer for fixed kernel `kern1`. Compare this to [Figure](#fig:image_processing_013). This shows our hand-tooled implemention is equivalent to that by Keras. <div id=\"fig:image_processing_017\"></div> -->\n",
    "<!-- begin figure -->\n",
    "<div id=\"fig:image_processing_017\"></div>\n",
    "\n",
    "<p>Output of max-pooling layer for fixed kernel <code>kern1</code>. Compare this to [Figure](#fig:image_processing_013). This shows our hand-tooled implemention is equivalent to that by Keras.</p>\n",
    "<img src=\"fig-machine_learning/image_processing_017.png\" width=500>\n",
    "\n",
    "<!-- end figure -->"
   ]
  },
  {
   "cell_type": "code",
   "execution_count": 116,
   "metadata": {
    "collapsed": false
   },
   "outputs": [],
   "source": [
    "fig,axs=subplots(1,2,sharey=True,sharex=True)\n",
    "text_grid_array(model.layers[1].get_weights()[0][:,:,0,0],fmt='%.1f',title='Updated kern1',ax=axs[0])\n",
    "text_grid_array(model.layers[1].get_weights()[0][:,:,0,1],fmt='%.1f',title='Updated kern2',ax=axs[1])\n",
    "for ax in axs:\n",
    "    ax.tick_params(labelleft=False,left=False,labelbottom=False,bottom=False)\n",
    "\n",
    "fig.savefig('fig-machine_learning/image_processing_018.png')"
   ]
  },
  {
   "cell_type": "markdown",
   "metadata": {},
   "source": [
    "<!-- dom:FIGURE: [fig-machine_learning/image_processing_018.png, width=500 frac=0.65] Kernels updated during the training process. Compare to [Figure](#fig:image_processing_010). <div id=\"fig:image_processing_018\"></div> -->\n",
    "<!-- begin figure -->\n",
    "<div id=\"fig:image_processing_018\"></div>\n",
    "\n",
    "<p>Kernels updated during the training process. Compare to [Figure](#fig:image_processing_010).</p>\n",
    "<img src=\"fig-machine_learning/image_processing_018.png\" width=500>\n",
    "\n",
    "<!-- end figure -->\n",
    "\n",
    "\n",
    " The newly updated kernels are shown in  [Figure](#fig:image_processing_018). Note how different these are from the original\n",
    "fixed kernels. We can see the change in the respective predictions in [Figure](#fig:image_processing_019). Thus, the benefit of updating the kernels in the\n",
    "training process is to improve the accuracy overall, but at the cost of\n",
    "interpretability of the kernels themselves.  Nonetheless, it is seldom the case\n",
    "that the kernels are known ahead of time, as in our artificial example here, so\n",
    "in practice, there may be nothing to really interpet anyway. Nonetheless, for other\n",
    "problems where there is a target feature in the data for which good a-priori\n",
    "exemplars exist that could serve a kernels, then priming these kernels early in training\n",
    "may help to tune into those target features, especially if they are rare in the training \n",
    "data."
   ]
  },
  {
   "cell_type": "code",
   "execution_count": 117,
   "metadata": {
    "collapsed": false
   },
   "outputs": [],
   "source": [
    "fig,ax=subplots()\n",
    "_=ax.plot(fixed_kernels[:,0],label='fixed kernels')\n",
    "_=ax.plot(new_kernels[:,0],label='updated kernels')\n",
    "_=ax.set_xlabel('Training index',fontsize=16)\n",
    "_=ax.set_ylabel('Probability of Category 1',fontsize=16)\n",
    "_=ax.spines['top'].set_visible(False)\n",
    "_=ax.spines['right'].set_visible(False)\n",
    "_=ax.legend()\n",
    "_=ax.set_title('Updated kernels improve classification',fontsize=22)\n",
    "fig.savefig('fig-machine_learning/image_processing_019.png')"
   ]
  },
  {
   "cell_type": "markdown",
   "metadata": {},
   "source": [
    "<!-- dom:FIGURE: [fig-machine_learning/image_processing_019.png, width=500 frac=0.65] Recall that the second half of the training set was classified as category `1`. The updated kernels provide a wider margin for classification  than our fixed kernels, even though the ultimate performance is very similar between them. <div id=\"fig:image_processing_019\"></div> -->\n",
    "<!-- begin figure -->\n",
    "<div id=\"fig:image_processing_019\"></div>\n",
    "\n",
    "<p>Recall that the second half of the training set was classified as category <code>1</code>. The updated kernels provide a wider margin for classification  than our fixed kernels, even though the ultimate performance is very similar between them.</p>\n",
    "<img src=\"fig-machine_learning/image_processing_019.png\" width=500>\n",
    "\n",
    "<!-- end figure -->"
   ]
  }
 ],
 "metadata": {},
 "nbformat": 4,
 "nbformat_minor": 2
}
