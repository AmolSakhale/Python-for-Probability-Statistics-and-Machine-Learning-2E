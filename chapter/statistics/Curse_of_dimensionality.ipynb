{
 "cells": [
  {
   "cell_type": "code",
   "execution_count": null,
   "metadata": {},
   "outputs": [],
   "source": [
    "from IPython.display import Image\n",
    "Image('../../Python_probability_statistics_machine_learning_2E.png',width=200)"
   ]
  },
  {
   "cell_type": "code",
   "execution_count": null,
   "metadata": {},
   "outputs": [],
   "source": [
    "%pylab inline"
   ]
  },
  {
   "cell_type": "code",
   "execution_count": null,
   "metadata": {},
   "outputs": [],
   "source": [
    "# uniformly in unit-cube\n",
    "from matplotlib.patches import Circle\n",
    "v=np.random.rand(1000,2)-1/2\n",
    "fig,ax=subplots()\n",
    "ax.set_aspect(1)\n",
    "ax.scatter(v[:,0],v[:,1],color='gray',alpha=.3)\n",
    "ax.add_patch(Circle((0,0),0.5,alpha=.8,lw=3.,fill=False))"
   ]
  },
  {
   "cell_type": "code",
   "execution_count": null,
   "metadata": {},
   "outputs": [],
   "source": [
    "\n",
    "siz = [2,3,5,10,20,50,100,500,1000]\n",
    "siz = siz[:6]\n",
    "print sqrt(v.shape[1])/2./2.\n",
    "\n",
    "fig,axs=subplots(3,2)\n",
    "fig.set_size_inches((8,5))\n",
    "for ax,k in zip(axs.flatten(),siz):\n",
    "    v=np.random.rand(5000,k)-1/2\n",
    "    ax.hist([np.linalg.norm(i) for i in v],color='gray',normed=True);\n",
    "    ax.vlines(0.5,0,ax.axis()[-1],lw=3)\n",
    "    ax.set_title('$d=%d$'%k,fontsize=20)\n",
    "fig.set_tight_layout(True)"
   ]
  }
 ],
 "metadata": {},
 "nbformat": 4,
 "nbformat_minor": 2
}
