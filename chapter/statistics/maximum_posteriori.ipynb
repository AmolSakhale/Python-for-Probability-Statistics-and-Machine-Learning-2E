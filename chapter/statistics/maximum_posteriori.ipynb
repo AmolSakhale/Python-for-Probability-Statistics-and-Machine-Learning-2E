{
 "cells": [
  {
   "cell_type": "markdown",
   "metadata": {},
   "source": [
    "We saw with maximum likelihood estimation how we could use the\n",
    "principle of maximum likelihood to derive a formula of the data that\n",
    "would estimate the underlying parameters (say, $\\theta$). Under that\n",
    "method, the parameter was fixed, but unknown. If we change our\n",
    "perspective slightly and consider the underlying parameter as a random\n",
    "variable in its own right, this leads to additional flexibility in\n",
    "estimation.  This method is the simplest of the family of Bayesian\n",
    "statistical methods and is most closely related to maximum likelihood\n",
    "estimation. It is very popular in communications and signal processing\n",
    "and is the backbone of many important algorithms in those areas.\n",
    "\n",
    "Given that the parameter $\\theta$ is also a random variable, it has a\n",
    "joint distribution with the other random variables, say,\n",
    "$f(x,\\theta)$.  Bayes' theorem gives the following:"
   ]
  },
  {
   "cell_type": "markdown",
   "metadata": {},
   "source": [
    "$$\n",
    "\\mathbb{P}(\\theta|x) = \\frac{\\mathbb{P}(x|\\theta)\\mathbb{P}(\\theta)}{\\mathbb{P}(x)}\n",
    "$$"
   ]
  },
  {
   "cell_type": "markdown",
   "metadata": {},
   "source": [
    " The $\\mathbb{P}(x|\\theta)$ term is the usual likelihood term we have\n",
    "seen before. The term in the denominator is *prior* probability of the data $x$\n",
    "and it explicitly makes a very powerful claim: even before collecting or\n",
    "processing any data,  we know what the probability of that data is.  The $\\mathbb{P}(\\theta)$ is the prior probability of the\n",
    "parameter. In other words, regardless of the data that is collected, this is\n",
    "the probability of the parameter itself.\n",
    "\n",
    "In a particular application, whether or not you feel justified making these\n",
    "claims is something that you have to reconcile for yourself and the problem at\n",
    "hand.  There are many persuasive  philosophical arguments one way or the other,\n",
    "but the main thing to keep in mind when applying any method is whether or not\n",
    "the assumptions are reasonable for the problem at hand. \n",
    "\n",
    "However, for now, let's just assume that we somehow have $\\mathbb{P}(\\theta)$\n",
    "and the next step is the maximizing of this expression over the $\\theta$.\n",
    "Whatever results from that maximization is the maximum a-posteriori (MAP)\n",
    "estimator for $\\theta$. Because the maximization takes place with respect to\n",
    "$\\theta$ and not $x$, we can ignore the $\\mathbb{P}(x)$ part. To make things\n",
    "concrete, let us return to our original coin flipping problem.  From our\n",
    "earlier analysis, we know that the likelihood function for this problem is\n",
    "the following:"
   ]
  },
  {
   "cell_type": "markdown",
   "metadata": {},
   "source": [
    "$$\n",
    "\\ell(\\theta) := \\theta^k (1-\\theta)^{ (n-k) }\n",
    "$$"
   ]
  },
  {
   "cell_type": "markdown",
   "metadata": {},
   "source": [
    " where the probability of the coin coming up heads is $\\theta$. The\n",
    "next step is the prior probability, $\\mathbb{P}(\\theta)$. For this example, we\n",
    "will choose the $\\beta(6,6)$ distribution (shown in the top left panel of\n",
    "[Figure](#fig:MAP_001)). The $\\beta$ family of distributions is a gold mine\n",
    "because it allows for a wide variety of distributions using few input\n",
    "parameters. Now that we have all the ingredients, we turn to maximizing the\n",
    "posterior function, $\\mathbb{P}(\\theta|x)$. Because the logarithm is convex, we\n",
    "can use it to make the maximization process easier by converting the product to\n",
    "a sum without changing the extrema that we are looking for. Thus, we prefer the\n",
    "to work with the logarithm of $\\mathbb{P}(\\theta|x)$ as in the following."
   ]
  },
  {
   "cell_type": "markdown",
   "metadata": {},
   "source": [
    "$$\n",
    "\\mathcal{L} := \\log \\mathbb{P}(\\theta|x) =  \\log \\ell(\\theta) + \\log\\mathbb{P}(\\theta) - \\log\\mathbb{P}(x)\n",
    "$$"
   ]
  },
  {
   "cell_type": "markdown",
   "metadata": {},
   "source": [
    " This is tedious to do by hand and therefore an excellent job\n",
    "for Sympy."
   ]
  },
  {
   "cell_type": "code",
   "execution_count": 1,
   "metadata": {
    "collapsed": false
   },
   "outputs": [],
   "source": [
    ">>> import sympy\n",
    ">>> from sympy import stats as st\n",
    ">>> from sympy.abc import p,k,n\n",
    "# setup objective function using sympy.log\n",
    ">>> obj=sympy.expand_log(sympy.log(p**k*(1-p)**(n-k)*\n",
    "                         st.density(st.Beta('p',6,6))(p)))\n",
    "# use calculus to maximize objective\n",
    ">>> sol=sympy.solve(sympy.simplify(sympy.diff(obj,p)),p)[0]\n",
    ">>> sol\n",
    "(k + 5)/(n + 10)"
   ]
  },
  {
   "cell_type": "markdown",
   "metadata": {},
   "source": [
    " which means that our MAP estimator of $\\theta$ is the following:"
   ]
  },
  {
   "cell_type": "markdown",
   "metadata": {},
   "source": [
    "$$\n",
    "\\hat{\\theta}_{MAP} = \\frac{k+5}{n+10}\n",
    "$$"
   ]
  },
  {
   "cell_type": "markdown",
   "metadata": {},
   "source": [
    " where $k$ is the number of heads in the sample. This is obviously a\n",
    "biased estimator of $\\theta$,"
   ]
  },
  {
   "cell_type": "markdown",
   "metadata": {},
   "source": [
    "$$\n",
    "\\mathbb{E}(\\hat{\\theta}_{MAP}) = \\frac{5+n \\theta}{10 +n} \\neq \\theta\n",
    "$$"
   ]
  },
  {
   "cell_type": "markdown",
   "metadata": {},
   "source": [
    " But is this bias *bad*? Why would anyone want a biased estimator?\n",
    "Remember that we constructed this entire estimator using the idea of the prior\n",
    "probability of $\\mathbb{P}(\\theta)$ which *favors* (biases!) the estimate\n",
    "according to the prior.  For example, if $\\theta=1/2$, the MAP estimator\n",
    "evaluates to $\\hat{\\theta}_{MAP}=1/2$. No bias there! This is because the peak\n",
    "of the prior probability is at $\\theta=1/2$. \n",
    "\n",
    "To compute the corresponding variance for this estimator, we need this\n",
    "intermediate result,"
   ]
  },
  {
   "cell_type": "markdown",
   "metadata": {},
   "source": [
    "$$\n",
    "\\mathbb{E}(\\hat{\\theta}_{MAP}^2) =\\frac{25 +10 n \\theta + n \\theta((n-1) p+1)}{(10+n)^2}\n",
    "$$"
   ]
  },
  {
   "cell_type": "markdown",
   "metadata": {},
   "source": [
    " which gives the following variance,"
   ]
  },
  {
   "cell_type": "markdown",
   "metadata": {},
   "source": [
    "$$\n",
    "\\mathbb{V}(\\hat{\\theta}_{MAP}) = \\frac{n (1-\\theta) \\theta}{(n+10)^2}\n",
    "$$"
   ]
  },
  {
   "cell_type": "markdown",
   "metadata": {},
   "source": [
    "Let's pause and compare this to our previous maximum likelihood (ML) estimator\n",
    "shown below:"
   ]
  },
  {
   "cell_type": "markdown",
   "metadata": {},
   "source": [
    "$$\n",
    "\\hat{\\theta}_{ML} = \\frac{1}{n} \\sum_{i=1}^n X_i =  \\frac{k}{n}\n",
    "$$"
   ]
  },
  {
   "cell_type": "markdown",
   "metadata": {},
   "source": [
    " As we discussed before, the ML-estimator is unbiased with the\n",
    "following variance."
   ]
  },
  {
   "cell_type": "markdown",
   "metadata": {},
   "source": [
    "$$\n",
    "\\mathbb{V}(\\hat{\\theta}_{ML}) = \\frac{\\theta(1-\\theta)}{n}\n",
    "$$"
   ]
  },
  {
   "cell_type": "markdown",
   "metadata": {},
   "source": [
    " How does this variance compare to that of the MAP? The ratio of the\n",
    "two is the following:"
   ]
  },
  {
   "cell_type": "markdown",
   "metadata": {},
   "source": [
    "$$\n",
    "\\frac{\\mathbb{V}(\\hat{\\theta}_{MAP})}{\\mathbb{V}(\\hat{\\theta}_{ML})}=\\frac{n^2}{(n+10)^2}\n",
    "$$"
   ]
  },
  {
   "cell_type": "markdown",
   "metadata": {},
   "source": [
    "  This ratio shows that the variance for the MAP-estimator is smaller\n",
    "than that of the the ML-estimator. This is payoff for having a biased\n",
    "MAP-estimator --- it requires fewer samples to estimate if the underlying\n",
    "parameter is consistent with the prior probability. If not, then it will take\n",
    "more samples to pull the estimator away from the bias. In the limit as $n\n",
    "\\rightarrow \\infty$, the ratio goes to one.  This means that the benefit of the\n",
    "reduced variance vanishes with enough samples. \n",
    "\n",
    "The above discussion admits a level of arbitrariness via the prior\n",
    "distribution. We don't have to choose just one prior, however. The\n",
    "following shows how we can use the previous posterior distribution as the\n",
    "prior for the next posterior distribution,"
   ]
  },
  {
   "cell_type": "markdown",
   "metadata": {},
   "source": [
    "$$\n",
    "\\mathbb{P}(\\theta|x_{k+1}) = \\frac{\\mathbb{P}(x_{k+1}|\\theta)\\mathbb{P}(\\theta|x_k)}{\\mathbb{P}(x_{k+1})}\n",
    "$$"
   ]
  },
  {
   "cell_type": "markdown",
   "metadata": {},
   "source": [
    " This is a very different strategy because we are using every data\n",
    "sample $x_k$ as a parameter for the posterior distribution instead of lumping\n",
    "all the samples together in a summation (this is where we got the $k$\n",
    "term in the prior case). This case is much harder to analyze because now\n",
    "every incremental posterior distribution is itself a random function because of\n",
    "the injection of the $x$ random variable. On the other hand, this is more in\n",
    "line with more general Bayesian methods because it is clear that the output of\n",
    "this estimation process is a posterior distribution function, not just a single\n",
    "parameter estimate. \n",
    "\n",
    "[Figure](#fig:MAP_001) illustrates this method. The graph\n",
    "in the top row, far left shows the prior probability ($\\beta(6,6)$) and the dot\n",
    "on the top shows the most recent MAP-estimate for $\\theta$. Thus, before we\n",
    "obtain any data, the peak of the prior probability  is the estimate. The next\n",
    "graph to right shows the effect of $x_0=0$ on the incremental prior\n",
    "probability.  Note that the estimate has barely moved to the left. This is\n",
    "because the influence of the data has not caused the prior probability to drift\n",
    "away from the original $\\beta(6,6)$-distribution.  The first two rows of the\n",
    "figure all have $x_k=0$ just to illustrate how far left the original prior\n",
    "probability can be moved by those data. The dots on the tops of the sub-graphs\n",
    "show how the MAP estimate changes frame-by-frame as more data is incorporated.\n",
    "The remaining graphs, proceeding top-down, left-to-right show the incremental\n",
    "change in the prior probability for $x_k=1$.  Again, this shows how far to the right \n",
    "the estimate can be pulled from where it started. For this example, there\n",
    "are an equal number of $x_k=0$ and $x_k=1$ data, which corresponds \n",
    "to $\\theta=1/2$.  \n",
    "\n",
    "<!-- dom:FIGURE: [fig-statistics/MAP_001.png, width=500 frac=0.95] The prior probability is the $\\beta(6,6)$ distribution shown in the top left panel. The dots near the peaks of each of the subgraphs indicate the MAP estimate at that frame <div id=\"fig:MAP_001\"></div> -->\n",
    "<!-- begin figure -->\n",
    "<div id=\"fig:MAP_001\"></div>\n",
    "\n",
    "<p>The prior probability is the $\\beta(6,6)$ distribution shown in the top left panel. The dots near the peaks of each of the subgraphs indicate the MAP estimate at that frame</p>\n",
    "<img src=\"fig-statistics/MAP_001.png\" width=500>\n",
    "\n",
    "<!-- end figure -->\n",
    "\n",
    "\n",
    "**Programming Tip.**\n",
    "\n",
    "The following is a quick paraphrase of how [Figure](#fig:MAP_001) was\n",
    "constructed. The first step is to recursively create the\n",
    "posteriors from the data. Note the example data is sorted\n",
    "to make the progression easy to see as a sequence."
   ]
  },
  {
   "cell_type": "code",
   "execution_count": 2,
   "metadata": {
    "collapsed": false
   },
   "outputs": [],
   "source": [
    "from sympy.abc import p,x\n",
    "from scipy.stats import density, Beta, Bernoulli\n",
    "prior = density(Beta('p',6,6))(p)\n",
    "likelihood=density(Bernoulli('x',p))(x)\n",
    "data = (0,0,0,0,0,0,0,1,1,1,1,1,1,1,1)\n",
    "posteriors = [prior]\n",
    "for i in data:\n",
    "    posteriors.append(posteriors[-1]*likelihood.subs(x,i))"
   ]
  },
  {
   "cell_type": "markdown",
   "metadata": {},
   "source": [
    " With the posteriors in hand, the next step \n",
    "is to compute the peak values at each frame using the\n",
    "`fminbound` function from Scipy's  `optimize` module."
   ]
  },
  {
   "cell_type": "code",
   "execution_count": 3,
   "metadata": {
    "collapsed": false
   },
   "outputs": [],
   "source": [
    "pvals = linspace(0,1,100)\n",
    "mxvals = []\n",
    "for i,j in zip(ax.flat,posteriors):\n",
    "    i.plot(pvals,sympy.lambdify(p,j)(pvals),color='k')\n",
    "    mxval = fminbound(sympy.lambdify(p,-j),0,1)\n",
    "    mxvals.append(mxval)\n",
    "    h = i.axis()[-1]\n",
    "    i.axis(ymax=h*1.3)\n",
    "    i.plot(mxvals[-1],h*1.2,'ok')\n",
    "    i.plot(mxvals[:-1],[h*1.2]*len(mxvals[:-1]),'o')"
   ]
  },
  {
   "cell_type": "markdown",
   "metadata": {},
   "source": [
    "The [Figure](#fig:MAP_002) is the same as [Figure](#fig:MAP_001) except that\n",
    "the initial prior probability is the $\\beta(1.3,1.3)$-distribution, which has a\n",
    "wider lobe that the $\\beta(6,6)$-distribution. As shown in the figure, this\n",
    "prior has the ability to be swayed more violently one way or the other based on\n",
    "the $x_k$ data that is incorporated. This means that it can more quickly adapt\n",
    "to data that is not so consistent with the initial prior and thus does not\n",
    "require a large amount of data in order to *unlearn* the prior probability.\n",
    "Depending on the application, the ability to unlearn the prior probability or\n",
    "stick with it is a design problem for the analyst. In this example, because the\n",
    "data are representative of a $\\theta=1/2$ parameter, both priors eventually\n",
    "settle on an estimated posterior that is about the same. However, if this had\n",
    "not been the case ($\\theta \\neq 1/2$), then the second prior \n",
    "would have produced a better estimate for the same amount of data. \n",
    "\n",
    "<!-- dom:FIGURE: [fig-statistics/MAP_002.png, width=500 frac=0.95] For this example, the prior probability is the $\\beta(1.3,1.3)$ distribution, which has a wider main lobe than the $\\beta(6,6)$ distribution. The dots near the peaks of each of the subgraphs indicate the MAP estimate at that frame. <div id=\"fig:MAP_002\"></div> -->\n",
    "<!-- begin figure -->\n",
    "<div id=\"fig:MAP_002\"></div>\n",
    "\n",
    "<p>For this example, the prior probability is the $\\beta(1.3,1.3)$ distribution, which has a wider main lobe than the $\\beta(6,6)$ distribution. The dots near the peaks of each of the subgraphs indicate the MAP estimate at that frame.</p>\n",
    "<img src=\"fig-statistics/MAP_002.png\" width=500>\n",
    "\n",
    "<!-- end figure -->\n",
    "\n",
    "\n",
    "Because we have the entire posterior density available, we can compute\n",
    "something that is closely related to the confidence interval we discussed\n",
    "earlier, except in this situation, given the Bayesian interpretation, it is\n",
    "called a *credible interval* or *credible set*.  The idea is that we want to\n",
    "find a symmetric interval around the peak that accounts for 95% (say) of the\n",
    "posterior density. This means that we can then say the probability that the\n",
    "estimated parameter is within the credible interval is 95%. The computation\n",
    "requires significant numerical processing because even though we have the\n",
    "posterior density in hand, it is hard to integrate analytically and requires\n",
    "numerical quadrature (see Scipy's `integrate` module).  [Figure](#fig:MAP_003)\n",
    "shows extent of the interval and the shaded region under the posterior density\n",
    "that accounts for 95%.\n",
    "\n",
    "<!-- dom:FIGURE: [fig-statistics/MAP_003.png, width=500 frac=0.75] The *credible interval* in Bayesian maximum a-posteriori is the interval corresponding to the shaded region in the posterior density.  <div id=\"fig:MAP_003\"></div> -->\n",
    "<!-- begin figure -->\n",
    "<div id=\"fig:MAP_003\"></div>\n",
    "\n",
    "<p>The <em>credible interval</em> in Bayesian maximum a-posteriori is the interval corresponding to the shaded region in the posterior density.</p>\n",
    "<img src=\"fig-statistics/MAP_003.png\" width=500>\n",
    "\n",
    "<!-- end figure -->"
   ]
  }
 ],
 "metadata": {},
 "nbformat": 4,
 "nbformat_minor": 2
}
