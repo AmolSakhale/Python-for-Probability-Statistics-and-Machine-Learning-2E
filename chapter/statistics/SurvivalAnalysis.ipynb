{
 "cells": [
  {
   "cell_type": "code",
   "execution_count": 1,
   "metadata": {
    "attributes": {
     "classes": [],
     "id": "",
     "n": "16"
    }
   },
   "outputs": [],
   "source": [
    "from __future__ import  division\n",
    "import numpy as np\n",
    "import pandas as pd"
   ]
  },
  {
   "cell_type": "code",
   "execution_count": 2,
   "metadata": {
    "attributes": {
     "classes": [],
     "id": "",
     "n": "17"
    }
   },
   "outputs": [],
   "source": [
    "%matplotlib inline"
   ]
  },
  {
   "cell_type": "code",
   "execution_count": 3,
   "metadata": {
    "attributes": {
     "classes": [],
     "id": "",
     "n": "18"
    }
   },
   "outputs": [],
   "source": [
    "from matplotlib.pylab import subplots\n",
    "from matplotlib.patches import  Circle, Rectangle"
   ]
  },
  {
   "cell_type": "markdown",
   "metadata": {},
   "source": [
    "* Statistical_Analysis_of_Failure_Time_Data_Sun.txt:21\n",
    "* Applied_Survey_Data_Analysis_Heeringa.txt:29\n",
    "* Applied_Survival_Analysis_Hosmer.txt:34\n",
    "\n",
    "# Survival Curves\n",
    "\n",
    "The problem is to estimate the length of time subjects (e.g., patients,\n",
    "individuals, components) exist in a cohort over time. For example, consider the\n",
    "following data. The rows are the days in a 7-day period and the columns are the\n",
    "individual subjects. For example, these could be five patients who all receive a\n",
    "particular treatment on day 0 and then *survive* (indicated by `1`) the next\n",
    "seven days on not (indicated by `0`)"
   ]
  },
  {
   "cell_type": "code",
   "execution_count": 4,
   "metadata": {
    "attributes": {
     "classes": [],
     "id": "",
     "n": "19"
    }
   },
   "outputs": [],
   "source": [
    "d = pd.DataFrame(index=range(1,8),columns=['A','B','C','D','E' ],data=1)\n",
    "d.loc[3:,'A']=0\n",
    "d.loc[6:,'B']=0\n",
    "d.loc[5:,'C']=0\n",
    "d.loc[4:,'D']=0\n",
    "d.index.name='day'"
   ]
  },
  {
   "cell_type": "code",
   "execution_count": 5,
   "metadata": {
    "attributes": {
     "classes": [],
     "id": "",
     "n": "20"
    }
   },
   "outputs": [
    {
     "data": {
      "text/html": [
       "<div>\n",
       "<style scoped>\n",
       "    .dataframe tbody tr th:only-of-type {\n",
       "        vertical-align: middle;\n",
       "    }\n",
       "\n",
       "    .dataframe tbody tr th {\n",
       "        vertical-align: top;\n",
       "    }\n",
       "\n",
       "    .dataframe thead th {\n",
       "        text-align: right;\n",
       "    }\n",
       "</style>\n",
       "<table border=\"1\" class=\"dataframe\">\n",
       "  <thead>\n",
       "    <tr style=\"text-align: right;\">\n",
       "      <th>day</th>\n",
       "      <th>1</th>\n",
       "      <th>2</th>\n",
       "      <th>3</th>\n",
       "      <th>4</th>\n",
       "      <th>5</th>\n",
       "      <th>6</th>\n",
       "      <th>7</th>\n",
       "    </tr>\n",
       "  </thead>\n",
       "  <tbody>\n",
       "    <tr>\n",
       "      <th>A</th>\n",
       "      <td>1</td>\n",
       "      <td>1</td>\n",
       "      <td>0</td>\n",
       "      <td>0</td>\n",
       "      <td>0</td>\n",
       "      <td>0</td>\n",
       "      <td>0</td>\n",
       "    </tr>\n",
       "    <tr>\n",
       "      <th>B</th>\n",
       "      <td>1</td>\n",
       "      <td>1</td>\n",
       "      <td>1</td>\n",
       "      <td>1</td>\n",
       "      <td>1</td>\n",
       "      <td>0</td>\n",
       "      <td>0</td>\n",
       "    </tr>\n",
       "    <tr>\n",
       "      <th>C</th>\n",
       "      <td>1</td>\n",
       "      <td>1</td>\n",
       "      <td>1</td>\n",
       "      <td>1</td>\n",
       "      <td>0</td>\n",
       "      <td>0</td>\n",
       "      <td>0</td>\n",
       "    </tr>\n",
       "    <tr>\n",
       "      <th>D</th>\n",
       "      <td>1</td>\n",
       "      <td>1</td>\n",
       "      <td>1</td>\n",
       "      <td>0</td>\n",
       "      <td>0</td>\n",
       "      <td>0</td>\n",
       "      <td>0</td>\n",
       "    </tr>\n",
       "    <tr>\n",
       "      <th>E</th>\n",
       "      <td>1</td>\n",
       "      <td>1</td>\n",
       "      <td>1</td>\n",
       "      <td>1</td>\n",
       "      <td>1</td>\n",
       "      <td>1</td>\n",
       "      <td>1</td>\n",
       "    </tr>\n",
       "  </tbody>\n",
       "</table>\n",
       "</div>"
      ],
      "text/plain": [
       "day  1  2  3  4  5  6  7\n",
       "A    1  1  0  0  0  0  0\n",
       "B    1  1  1  1  1  0  0\n",
       "C    1  1  1  1  0  0  0\n",
       "D    1  1  1  0  0  0  0\n",
       "E    1  1  1  1  1  1  1"
      ]
     },
     "execution_count": 5,
     "metadata": {},
     "output_type": "execute_result"
    }
   ],
   "source": [
    "d.T"
   ]
  },
  {
   "cell_type": "markdown",
   "metadata": {},
   "source": [
    "Importantly, survival is a one-way street --- once a subject is *dead*, then\n",
    "that subject cannot return to the experiment. This is important because survival\n",
    "analysis is also applied to component-failure or other topics where this fact is\n",
    "not so obvious. The following chart shows the survival status of each of the\n",
    "subjects for all seven days. The blue circles indicate that the subject is alive\n",
    "and the red squares indicate death of the subject."
   ]
  },
  {
   "cell_type": "code",
   "execution_count": 6,
   "metadata": {
    "attributes": {
     "classes": [],
     "id": "",
     "n": "21"
    }
   },
   "outputs": [
    {
     "data": {
      "image/png": "[encoded data removed]",
      "text/plain": [
       "<Figure size 432x288 with 1 Axes>"
      ]
     },
     "metadata": {
      "needs_background": "light"
     },
     "output_type": "display_data"
    }
   ],
   "source": [
    "fig,ax =subplots()\n",
    "\n",
    "ax.axis((-0.5,6.5,-1,5))\n",
    "\n",
    "for ii,jj in zip(*np.where(d.values)):\n",
    "    ax.add_patch(Circle((ii,jj),0.25))\n",
    "\n",
    "for ii,jj in zip(*np.where(d.values==0)):\n",
    "    ax.add_patch(Rectangle((ii-0.25,jj-0.25),0.5,0.5,color='red',alpha=.8))\n",
    "    \n",
    "ax.set_yticklabels(['','A','B','C','D','E','',''],fontsize=12);\n",
    "ax.invert_yaxis()\n",
    "ax.set_xlabel('Days',fontsize=16)\n",
    "ax.set_ylabel('Subject',fontsize=16)\n",
    "ax.set_title('Survival Chart',fontsize=16)\n",
    "\n",
    "ax.spines['right'].set_visible(0)\n",
    "ax.spines['top'].set_visible(0)\n",
    "ax.set_aspect(1)"
   ]
  },
  {
   "cell_type": "markdown",
   "metadata": {},
   "source": [
    "Given this chart, we can estimate the probability of survival ($\\mathbb{P}_S$).\n",
    "At $t=0$, all subjects live. Thus, the probability of survival,\n",
    "$\\mathbb{P}_S(t=0)=1$. This is the same for $t=1$, so we say that\n",
    "$\\mathbb{P}_S(t\\ge 1) = 1$; in words, the probability of surviving past day\n",
    "one is one. Equivalently, the probability of having a death up until and\n",
    "including day one is zero $\\left(\\mathbb{P}(t\\le 1)=0\\right)$. \n",
    "\n",
    "On day two,\n",
    "subject **A** dies and there are now four out of the five subjects remaining in\n",
    "the study. Then, $\\mathbb{P}_S(t\\ge 2) = 4/5$. \n",
    "On the third day, subject **D** dies, so now there are three out of the five original subjects remaining and\n",
    "$\\mathbb{P}_S(t\\ge 3) = 3/5$. Similarly, **C** dies on day 4 ($\\mathbb{P}_S(t\\ge 4) = 2/5$) and **B** dies on day five\n",
    "($\\mathbb{P}_S(t\\ge 5) = 1/5$). Subject **E** survives until the end ($\\mathbb{P}_S(t\\ge 6) = 1/5$). Putting all this together gives the following survival curve."
   ]
  },
  {
   "cell_type": "code",
   "execution_count": 7,
   "metadata": {
    "attributes": {
     "classes": [],
     "id": "",
     "n": "22"
    }
   },
   "outputs": [
    {
     "data": {
      "image/png": "[encoded data removed]",
      "text/plain": [
       "<Figure size 432x288 with 1 Axes>"
      ]
     },
     "metadata": {
      "needs_background": "light"
     },
     "output_type": "display_data"
    }
   ],
   "source": [
    "fig,ax=subplots()\n",
    "x = pd.Series(index = np.linspace(0,6,20),data=5)\n",
    "x[np.logical_and(x.index>=1,x.index<=2)]=5\n",
    "x[np.logical_and(x.index>=2,x.index<=3)]=4\n",
    "x[np.logical_and(x.index>=3,x.index<=4)]=3\n",
    "x[np.logical_and(x.index>4,x.index<=5)]=2\n",
    "x[np.logical_and(x.index>5,x.index<=6)]=1\n",
    "(x/5.).plot(ax=ax,marker='o')\n",
    "ax.set_xlabel(\"Days\",fontsize=16)\n",
    "ax.set_ylabel(\"Survival probability\",fontsize=16)\n",
    "ax.axis(ymin=0)\n",
    "ax.spines['right'].set_visible(0)\n",
    "ax.spines['top'].set_visible(0)"
   ]
  },
  {
   "cell_type": "markdown",
   "metadata": {},
   "source": [
    "There is another important recursive perspective on this calculation. Imagine\n",
    "there is a life raft containing $[A,B,C,D,E]$. Everyone survives until day two\n",
    "when **A** dies. This leaves four in the life raft $[B,C,D,E]$. Thus,  from the\n",
    "perspective of day one, the survival probability is the probability of surviving\n",
    "just up until day two and then surviving day two, $\\mathbb{P}_S(t\\ge 2)\n",
    "=\\mathbb{P}(t\\notin [0,2)\\vert t<2)\\mathbb{P}_S(t=2)=(1)(4/5)=4/5$. In words,\n",
    "this means that surviving past the second day is the product of surviving the\n",
    "second day itself and not having a death up to that point (i.e., surviving up to\n",
    "that point). Using this recursive approach, the survival probability for the\n",
    "third day is $\\mathbb{P}_S(t\\ge 3) =\\mathbb{P}_S(t \\gt\n",
    "3)\\mathbb{P}_S(t=3)=(4/5)(3/4)=3/5$. Recall that just before the third day, the\n",
    "life raft contains $[B,C,D,E]$ and  on the third day we have $[B,C,E]$. Thus,\n",
    "from the perspective of just before the third day there are four survivors in\n",
    "the raft and on the third day there are three $3/4$. Using this recursive\n",
    "argument generates the same plot and comes in handy with censoring.\n",
    "\n",
    "## Censoring and Truncation\n",
    "\n",
    "Censoring occurs when a subject leaves (right censoring) or enters (left\n",
    "censoring) the study. There are two general types of right censoring. The so-\n",
    "called Type I right censoring is when a subject randomly drops out of the study.\n",
    "This random drop-out is another statistical effect that has to be accounted for\n",
    "in estimating survival. Type II right censoring occurs when the study is\n",
    "terminated when enough specific random events occur (i.e., some threshold is\n",
    "reached).\n",
    "\n",
    "\n",
    "Likewise, left censoring occurs when a subject enters the study\n",
    "prior to a certain date, but exactly when this happened is unknown. This happens\n",
    "in study designs involving two separate studies stages. For example, a subject\n",
    "might enroll in the first selection process but be ineligible for the second\n",
    "process. Specifically, suppose a study concerns drug use and certain subjects\n",
    "have used the drug before the study but are unable to report exactly when. These\n",
    "subjects are left censored. Left truncation (a.k.a. staggered entry, delayed\n",
    "entry) is similar except the date of entry is known. For example, a subject that\n",
    "starts taking a drug after being initially left out of the study.\n",
    "\n",
    "Right\n",
    "censoring is the most common so let's consider an example. Let's estimate the\n",
    "survival function given the following survival times in days:\n",
    "\n",
    "$$ \\{ 1,\n",
    "2,3^+,4,5,6^+,7,8 \\}$$\n",
    "\n",
    "where the censored survival times are indicated by the\n",
    "plus symbol. As before, the survival time at the $0^{th}$ day is $8/8=1$, the\n",
    "first day is $7/8$, the second day = $(7/8)(6/7)$. Now, we come to the first\n",
    "right censored entry. The survival time for the third day is $(7/8)(6/7)(5/5) =\n",
    "(7/8)(6/7)$. Thus, the subject who dropped out is not considered *dead* and\n",
    "cannot be counted as such but is considered just *absent* as far as the\n",
    "functional estimation of the probabilities goes. Continuing for the fourth day,\n",
    "we have $(7/8)(6/7)(5/5)(4/5)$, the fifth day, $(7/8)(6/7)(5/5)(4/5)(3/4)$, the\n",
    "sixth (right censored) day $(7/8)(6/7)(5/5)(4/5)(3/4)(2/2)$, and so on. We can\n",
    "summarize this in the following table:\n",
    "\n",
    "| day  | survival|\n",
    "|:------|--------:|\n",
    "|\n",
    "0  | 1     |\n",
    "|   1  | $7/8$ |\n",
    "|   2  | $3/4$ |\n",
    "|   3$^+$  | $3/4$ |\n",
    "|   4  |\n",
    "$3/5$ |\n",
    "|   5  | $9/20$|\n",
    "|   6$^+$  | $9/20$|\n",
    "|   7  | $9/40$|\n",
    "|   8  | 0     |\n",
    "\n",
    "\n",
    "## Hazard Functions and Their Properties\n",
    "\n",
    "Generally, the **survival function** is a continuous function of time $S(t) =\n",
    "\\mathbb{P}(T>t)$ where $T$ is the event time (e.g., time of death). Note that\n",
    "the cumulative density function, $F(t)=\\mathbb{P}(T\\le t)=1-S(t)$ and\n",
    "$f(t)=\\frac{dF(t)}{dt}$ is the usual probability density function. The so-called\n",
    "**hazard function** is the instantaneous rate of failure at time $t$,\n",
    "\n",
    "$$ h(t) =\n",
    "\\frac{f(t)}{S(t)} = \\lim_{\\Delta t \\rightarrow 0}\\frac{\\mathbb{P}(T \\in\n",
    "(t,t+\\Delta t]|T\\ge t)}{\\Delta t}$$\n",
    "\n",
    "Note that is a continuous-limit version of\n",
    "the calculation we performed above. In words, it says given the event time $T\\ge\n",
    "t$ (subject has survived up to $t$), what is the probability of the event\n",
    "occurring in the differential interval $\\Delta t$ for a vanishingly small\n",
    "$\\Delta t$. Note that this is not the usual derivative-slope from calculus\n",
    "because there is no difference term in the numerator. The hazard function is\n",
    "also called the **force of mortality**, **intensity rate**, or the\n",
    "**instantaneous risk**. Informally, you can think of the hazard function as\n",
    "encapsulating the two issues we are most concerned about: deaths and the\n",
    "population at risk for those deaths. Loosely speaking, the probability density\n",
    "function in the numerator represents the probability of a death occurring in a\n",
    "small differential interval. However, we are not particularly interested in\n",
    "unqualified deaths, but only deaths that can happen to a specific at-risk\n",
    "population. Returning to our lifeboat analogy, suppose there are 1000 people in\n",
    "the lifeboat and the probability of anybody falling off the lifeboat is 1/1000.\n",
    "Two things are happening here: (1) the probability of the bad event is small and\n",
    "(2) there are a lot of subjects over which to spread the probability of that bad\n",
    "event. This means that the hazard rate for any particular individual is small.\n",
    "On the other hand, if there are only two subjects in the life raft and the\n",
    "probability of falling off is 3/4, then the hazard rate is high because not only\n",
    "is the unfortunate event probable, the risk of that unfortunate event is shared\n",
    "by only two  subjects.\n",
    "\n",
    "It is a mathematical fact that,\n",
    "\n",
    "$$ h(t) = \\frac{-d \\log\n",
    "S(t)}{dt}$$\n",
    "\n",
    "This leads to the following interpretation\n",
    "\n",
    "$$ S(t) = \\exp\\left(\n",
    "-\\int_0^t h(u)du\\right) := \\exp(-H(t))$$\n",
    "\n",
    "where $H(t)$ is the **cumulative\n",
    "hazard function**. Note that $H(t)=-\\log S(t)$. Consider a subject  whose\n",
    "survival time is 5 years. For this subject to have died at the fifth year, it had\n",
    "to be alive during the fourth year. Thus, the *hazard* at five years  is the\n",
    "failure rate per-year, conditioned on the fact that the subject  survived until\n",
    "the fourth year. Note that this is *not* the same as the unconditional failure\n",
    "rate per year at the fifth year, because the unconditional rate applies to all\n",
    "subjects  at time zero and does not use information about survival up to that\n",
    "point gleaned from the other subjects. Thus, the *hazard function* can be\n",
    "thought of as the point-wise unconditional probability of experiencing the\n",
    "event, scaled by the fraction of survivors up to that point.\n",
    "\n",
    "#### Example\n",
    "\n",
    "To\n",
    "get a sense of this, let's consider the example where the probability density\n",
    "function  is exponential with parameter $\\lambda$, $f(t)=\\lambda\n",
    "\\exp(-t\\lambda),\\; \\forall t>0$. This makes $S(t) = 1- F(t) = \\exp(-t\\lambda)$\n",
    "and then the hazard function becomes $h(t)=\\lambda$, namely a constant. To see\n",
    "this, recall that the exponential distribution is the only continuous\n",
    "distribution that has no memory:\n",
    "\n",
    "$$ \\mathbb{P}(X\\le u+t \\vert X>u) =\n",
    "1-\\exp(-\\lambda t) = \\mathbb{P}(X\\le t)$$\n",
    "\n",
    "This means no matter how long we have\n",
    "been waiting for a death to occur, the probability of a death from that point\n",
    "onward is the same -- thus the hazard function is a constant.\n",
    "\n",
    "### Expectations\n",
    "\n",
    "Given all these definitions, it is an exercise in integration\n",
    "by parts to show that the expected life remaining is the following:\n",
    "\n",
    "$$\n",
    "\\mathbb{E}(T) = \\int_0^\\infty S(u) du $$\n",
    "\n",
    "This is equivalent to the following:\n",
    "$$ \\mathbb{E}(T \\big\\vert t=0) = \\int_0^\\infty S(u) du $$\n",
    "\n",
    "and we can likewise\n",
    "express the expected remaining life at $t$ as the following,\n",
    "\n",
    "$$ \\mathbb{E}(T\n",
    "\\big\\vert T\\ge t) = \\frac{\\int_t^\\infty S(u) du}{S(t)} $$\n",
    "\n",
    "## Parametric regression models\n",
    "\n",
    "Because we are interested in how study parameters affect survival, we need a\n",
    "model that can accommodate regression in exogenous variables ($\\mathbf{x}$).\n",
    "\n",
    "$$\n",
    "h(t\\vert \\mathbf{x})= h_o(t)\\exp(\\mathbf{x}^T \\mathbf{\\boldsymbol{\\beta}}) $$\n",
    "where $\\boldsymbol{\\beta}$ are the regression coefficients and $h_o(t)$ is the\n",
    "baseline instantaneous hazard function. Because the hazard function is always\n",
    "nonnegative, the the effects of the covariates enter through the exponential\n",
    "function. These kinds of models are called **proportional hazard rate models**.\n",
    "If the baseline function is a constant ($\\lambda$), then this reduces to the\n",
    "**exponential regression model** given by the following:\n",
    "\n",
    "$$ h(t\\vert\n",
    "\\mathbf{x}) = \\lambda  \\exp(\\mathbf{x}^T \\mathbf{\\boldsymbol{\\beta}}) $$\n",
    "\n",
    "### Cox proportional hazards model\n",
    "\n",
    "The tricky part about the above proportional\n",
    "hazard rate model is the specification of the baseline instantaneous hazard\n",
    "function. In many cases, we are not so interested in the absolute hazard\n",
    "function (or its correctness), but rather a comparison of such hazard functions\n",
    "between two study populations. The Cox model emphasizes this comparison by using\n",
    "a maximum likelihood algorithm for a partial likelihood function. There is a lot\n",
    "to keep track of in this model, so let's try the mechanics  first to get a feel\n",
    "for what is going on.\n",
    "\n",
    "Let $j$ denote the $j^{th}$ failure time, assuming that\n",
    "failure times are sorted in increasing order. The hazard function for subject $i$\n",
    "at failure time $j$ is $h_i(t_j)$. Using the general proportional hazards model,\n",
    "we have\n",
    "\n",
    "$$ h_i(t_j) = h_0(t_j)\\exp(z_i \\beta) := h_0(t_j)\\psi_i$$\n",
    "\n",
    "To keep it\n",
    "simple, we have $z_i \\in \\{0,1\\}$ that indicates membership in the experimental\n",
    "group ($z_{i}=1$) or the control group ($z_i=0$).\n",
    "\n",
    "Consider the first failure\n",
    "time, $t_1$ for subject $i$ failing is the hazard function\n",
    "$h_i(t_1)=h_0(t_1)\\psi_{i}$. From the definitions, the probability that subject $i$\n",
    "is the one who fails is the following:\n",
    "\n",
    "$$ p_1 = \\frac{h_{i}(t_1)}{\\sum\n",
    "h_k(t_1)}= \\frac{h_{0}(t_1)\\psi_i}{\\sum h_0(t_1) \\psi_k}$$\n",
    "\n",
    "where the summation\n",
    "is over all surviving subjects up to that point. Note that the baseline hazard\n",
    "cancels out and gives the following,\n",
    "\n",
    "$$ p_1=\\frac{\\psi_{i}}{\\sum_k \\psi_k} $$\n",
    "We can keep computing this for the other failure times to obtain\n",
    "$\\{p_1,p_2,\\ldots\\,p_D\\}$. The product of all of these is the **partial\n",
    "likelihood**, $L(\\psi) = p_1\\cdot p_2\\cdots p_D$. The next step is to maximize\n",
    "this partial likelihood (usually logarithm of the partial likelihood) over\n",
    "$\\beta$. There are a lot of numerical issues to keep track of here. Fortunately,\n",
    "the Python [lifelines](https://lifelines.readthedocs.io/en/latest/index.html)\n",
    "module can keep this all straight for us.\n",
    "\n",
    "Let's see how this works using the\n",
    "`Rossi` dataset that is available in lifelines."
   ]
  },
  {
   "cell_type": "code",
   "execution_count": 8,
   "metadata": {
    "attributes": {
     "classes": [],
     "id": "",
     "n": "23"
    }
   },
   "outputs": [],
   "source": [
    "from lifelines.datasets import load_rossi\n",
    "from lifelines import CoxPHFitter, KaplanMeierFitter\n",
    "rossi_dataset = load_rossi()"
   ]
  },
  {
   "cell_type": "markdown",
   "metadata": {},
   "source": [
    "The Rossi dataset dataset concerns prison recidivism. [Full documentation\n",
    "here](http://socserv.socsci.mcmaster.ca/jfox/Books/Companion/appendix/Appendix-\n",
    "Cox-Regression.pdf). The `fin` variable indicates whether or not the subjects\n",
    "received financial assistance upon discharge from prison. \n",
    "\n",
    "* `week`: week of\n",
    "first arrest after release, or censoring time.\n",
    "* `arrest`: the event indicator,\n",
    "equal to 1 for those arrested during the period of the study and 0 for those who\n",
    "were not arrested.\n",
    "* `fin`: a factor, with levels yes if the individual received\n",
    "financial aid after release from prison, and no if he did not; financial aid was\n",
    "a randomly assigned factor manipulated by the researchers.\n",
    "* `age`: in years at\n",
    "the time of release.  \n",
    "* `race`: a factor with levels black and other.\n",
    "* `wexp`:\n",
    "a factor with levels yes if the individual had full-time work experience prior\n",
    "to incarceration and no if he did not.\n",
    "* `mar`: a factor with levels married if\n",
    "the individual was married at the time of release and not married if he was not.\n",
    "* `paro`: a factor coded yes if the individual was released on parole and no if\n",
    "he was not.\n",
    "* `prio`: number of prior convictions.\n",
    "* `educ`: education, a\n",
    "categorical variable coded numerically, with codes 2 (grade 6 or less), 3\n",
    "(grades 6 through 9), 4 (grades 10 and 11), 5 (grade 12), or 6 (some post-\n",
    "secondary).6\n",
    "* `emp1` -- `emp52`: factors coded yes if the individual was\n",
    "employed in the corresponding week of the study and no otherwise."
   ]
  },
  {
   "cell_type": "code",
   "execution_count": 9,
   "metadata": {
    "attributes": {
     "classes": [],
     "id": "",
     "n": "24"
    }
   },
   "outputs": [
    {
     "data": {
      "text/html": [
       "<div>\n",
       "<style scoped>\n",
       "    .dataframe tbody tr th:only-of-type {\n",
       "        vertical-align: middle;\n",
       "    }\n",
       "\n",
       "    .dataframe tbody tr th {\n",
       "        vertical-align: top;\n",
       "    }\n",
       "\n",
       "    .dataframe thead th {\n",
       "        text-align: right;\n",
       "    }\n",
       "</style>\n",
       "<table border=\"1\" class=\"dataframe\">\n",
       "  <thead>\n",
       "    <tr style=\"text-align: right;\">\n",
       "      <th></th>\n",
       "      <th>week</th>\n",
       "      <th>arrest</th>\n",
       "      <th>fin</th>\n",
       "      <th>age</th>\n",
       "      <th>race</th>\n",
       "      <th>wexp</th>\n",
       "      <th>mar</th>\n",
       "      <th>paro</th>\n",
       "      <th>prio</th>\n",
       "    </tr>\n",
       "  </thead>\n",
       "  <tbody>\n",
       "    <tr>\n",
       "      <th>0</th>\n",
       "      <td>20</td>\n",
       "      <td>1</td>\n",
       "      <td>0</td>\n",
       "      <td>27</td>\n",
       "      <td>1</td>\n",
       "      <td>0</td>\n",
       "      <td>0</td>\n",
       "      <td>1</td>\n",
       "      <td>3</td>\n",
       "    </tr>\n",
       "    <tr>\n",
       "      <th>1</th>\n",
       "      <td>17</td>\n",
       "      <td>1</td>\n",
       "      <td>0</td>\n",
       "      <td>18</td>\n",
       "      <td>1</td>\n",
       "      <td>0</td>\n",
       "      <td>0</td>\n",
       "      <td>1</td>\n",
       "      <td>8</td>\n",
       "    </tr>\n",
       "    <tr>\n",
       "      <th>2</th>\n",
       "      <td>25</td>\n",
       "      <td>1</td>\n",
       "      <td>0</td>\n",
       "      <td>19</td>\n",
       "      <td>0</td>\n",
       "      <td>1</td>\n",
       "      <td>0</td>\n",
       "      <td>1</td>\n",
       "      <td>13</td>\n",
       "    </tr>\n",
       "    <tr>\n",
       "      <th>3</th>\n",
       "      <td>52</td>\n",
       "      <td>0</td>\n",
       "      <td>1</td>\n",
       "      <td>23</td>\n",
       "      <td>1</td>\n",
       "      <td>1</td>\n",
       "      <td>1</td>\n",
       "      <td>1</td>\n",
       "      <td>1</td>\n",
       "    </tr>\n",
       "    <tr>\n",
       "      <th>4</th>\n",
       "      <td>52</td>\n",
       "      <td>0</td>\n",
       "      <td>0</td>\n",
       "      <td>19</td>\n",
       "      <td>0</td>\n",
       "      <td>1</td>\n",
       "      <td>0</td>\n",
       "      <td>1</td>\n",
       "      <td>3</td>\n",
       "    </tr>\n",
       "  </tbody>\n",
       "</table>\n",
       "</div>"
      ],
      "text/plain": [
       "   week  arrest  fin  age  race  wexp  mar  paro  prio\n",
       "0    20       1    0   27     1     0    0     1     3\n",
       "1    17       1    0   18     1     0    0     1     8\n",
       "2    25       1    0   19     0     1    0     1    13\n",
       "3    52       0    1   23     1     1    1     1     1\n",
       "4    52       0    0   19     0     1    0     1     3"
      ]
     },
     "execution_count": 9,
     "metadata": {},
     "output_type": "execute_result"
    }
   ],
   "source": [
    "rossi_dataset.head()"
   ]
  },
  {
   "cell_type": "markdown",
   "metadata": {},
   "source": [
    "Now, we just have to set up the calculation in `lifelines`, using the `scikit-\n",
    "learn` style. The `lifelines` module handles the censoring issues."
   ]
  },
  {
   "cell_type": "code",
   "execution_count": 10,
   "metadata": {
    "attributes": {
     "classes": [],
     "id": "",
     "n": "25"
    }
   },
   "outputs": [
    {
     "name": "stdout",
     "output_type": "stream",
     "text": [
      "<lifelines.CoxPHFitter: fitted with 432 observations, 318 censored>\n",
      "      duration col = 'week'\n",
      "         event col = 'arrest'\n",
      "number of subjects = 432\n",
      "  number of events = 114\n",
      "    log-likelihood = -658.75\n",
      "  time fit was run = 2019-02-19 17:33:23 UTC\n",
      "\n",
      "---\n",
      "      coef  exp(coef)  se(coef)     z      p  -log2(p)  lower 0.95  upper 0.95\n",
      "fin  -0.38       0.68      0.19 -1.98   0.05      4.40       -0.75       -0.00\n",
      "age  -0.06       0.94      0.02 -2.61   0.01      6.79       -0.10       -0.01\n",
      "race  0.31       1.37      0.31  1.02   0.31      1.70       -0.29        0.92\n",
      "wexp -0.15       0.86      0.21 -0.71   0.48      1.06       -0.57        0.27\n",
      "mar  -0.43       0.65      0.38 -1.14   0.26      1.97       -1.18        0.31\n",
      "paro -0.08       0.92      0.20 -0.43   0.66      0.59       -0.47        0.30\n",
      "prio  0.09       1.10      0.03  3.19 <0.005      9.48        0.04        0.15\n",
      "---\n",
      "Concordance = 0.64\n",
      "Likelihood ratio test = 33.27 on 7 df, -log2(p)=15.37\n"
     ]
    }
   ],
   "source": [
    "cph = CoxPHFitter()\n",
    "cph.fit(rossi_dataset, duration_col='week', event_col='arrest')\n",
    "cph.print_summary()  # access the results using cph.summary"
   ]
  },
  {
   "cell_type": "code",
   "execution_count": 11,
   "metadata": {
    "attributes": {
     "classes": [],
     "id": "",
     "n": "26"
    }
   },
   "outputs": [
    {
     "data": {
      "image/png": "[encoded data removed]",
      "text/plain": [
       "<Figure size 432x288 with 1 Axes>"
      ]
     },
     "metadata": {
      "needs_background": "light"
     },
     "output_type": "display_data"
    }
   ],
   "source": [
    "ax=cph.plot();"
   ]
  },
  {
   "cell_type": "code",
   "execution_count": 15,
   "metadata": {},
   "outputs": [
    {
     "data": {
      "text/html": [
       "<div>\n",
       "<style scoped>\n",
       "    .dataframe tbody tr th:only-of-type {\n",
       "        vertical-align: middle;\n",
       "    }\n",
       "\n",
       "    .dataframe tbody tr th {\n",
       "        vertical-align: top;\n",
       "    }\n",
       "\n",
       "    .dataframe thead th {\n",
       "        text-align: right;\n",
       "    }\n",
       "</style>\n",
       "<table border=\"1\" class=\"dataframe\">\n",
       "  <thead>\n",
       "    <tr style=\"text-align: right;\">\n",
       "      <th></th>\n",
       "      <th>week</th>\n",
       "      <th>arrest</th>\n",
       "      <th>fin</th>\n",
       "      <th>age</th>\n",
       "      <th>race</th>\n",
       "      <th>wexp</th>\n",
       "      <th>mar</th>\n",
       "      <th>paro</th>\n",
       "      <th>prio</th>\n",
       "    </tr>\n",
       "  </thead>\n",
       "  <tbody>\n",
       "    <tr>\n",
       "      <th>0</th>\n",
       "      <td>20</td>\n",
       "      <td>1</td>\n",
       "      <td>0</td>\n",
       "      <td>27</td>\n",
       "      <td>1</td>\n",
       "      <td>0</td>\n",
       "      <td>0</td>\n",
       "      <td>1</td>\n",
       "      <td>3</td>\n",
       "    </tr>\n",
       "    <tr>\n",
       "      <th>1</th>\n",
       "      <td>17</td>\n",
       "      <td>1</td>\n",
       "      <td>0</td>\n",
       "      <td>18</td>\n",
       "      <td>1</td>\n",
       "      <td>0</td>\n",
       "      <td>0</td>\n",
       "      <td>1</td>\n",
       "      <td>8</td>\n",
       "    </tr>\n",
       "    <tr>\n",
       "      <th>2</th>\n",
       "      <td>25</td>\n",
       "      <td>1</td>\n",
       "      <td>0</td>\n",
       "      <td>19</td>\n",
       "      <td>0</td>\n",
       "      <td>1</td>\n",
       "      <td>0</td>\n",
       "      <td>1</td>\n",
       "      <td>13</td>\n",
       "    </tr>\n",
       "    <tr>\n",
       "      <th>3</th>\n",
       "      <td>52</td>\n",
       "      <td>0</td>\n",
       "      <td>1</td>\n",
       "      <td>23</td>\n",
       "      <td>1</td>\n",
       "      <td>1</td>\n",
       "      <td>1</td>\n",
       "      <td>1</td>\n",
       "      <td>1</td>\n",
       "    </tr>\n",
       "    <tr>\n",
       "      <th>4</th>\n",
       "      <td>52</td>\n",
       "      <td>0</td>\n",
       "      <td>0</td>\n",
       "      <td>19</td>\n",
       "      <td>0</td>\n",
       "      <td>1</td>\n",
       "      <td>0</td>\n",
       "      <td>1</td>\n",
       "      <td>3</td>\n",
       "    </tr>\n",
       "  </tbody>\n",
       "</table>\n",
       "</div>"
      ],
      "text/plain": [
       "   week  arrest  fin  age  race  wexp  mar  paro  prio\n",
       "0    20       1    0   27     1     0    0     1     3\n",
       "1    17       1    0   18     1     0    0     1     8\n",
       "2    25       1    0   19     0     1    0     1    13\n",
       "3    52       0    1   23     1     1    1     1     1\n",
       "4    52       0    0   19     0     1    0     1     3"
      ]
     },
     "execution_count": 15,
     "metadata": {},
     "output_type": "execute_result"
    }
   ],
   "source": [
    "rossi_dataset.head()"
   ]
  },
  {
   "cell_type": "code",
   "execution_count": 12,
   "metadata": {
    "attributes": {
     "classes": [],
     "id": "",
     "n": "27"
    }
   },
   "outputs": [
    {
     "data": {
      "text/plain": [
       "<lifelines.KaplanMeierFitter: fitted with 216 observations, 150 censored>"
      ]
     },
     "execution_count": 12,
     "metadata": {},
     "output_type": "execute_result"
    }
   ],
   "source": [
    "kmf1 = KaplanMeierFitter()\n",
    "t1 = rossi_dataset[rossi_dataset.fin==1] \n",
    "kmf1.fit(t1.week,event_observed=t1.arrest,label='fin=1')\n",
    "kmf0 = KaplanMeierFitter()\n",
    "t0 = rossi_dataset[rossi_dataset.fin==0] \n",
    "kmf0.fit(t0.week,event_observed=t0.arrest,label='fin=0')"
   ]
  },
  {
   "cell_type": "code",
   "execution_count": 13,
   "metadata": {
    "attributes": {
     "classes": [],
     "id": "",
     "n": "28"
    }
   },
   "outputs": [
    {
     "name": "stderr",
     "output_type": "stream",
     "text": [
      "/opt/conda/lib/python3.6/site-packages/pandas/plotting/_core.py:998: UserWarning: Attempted to set non-positive left xlim on a log-scaled axis.\n",
      "Invalid limit will be ignored.\n",
      "  ax.set_xlim(left, right)\n"
     ]
    },
    {
     "data": {
      "text/plain": [
       "<matplotlib.axes._subplots.AxesSubplot at 0x7f010ecbd860>"
      ]
     },
     "execution_count": 13,
     "metadata": {},
     "output_type": "execute_result"
    },
    {
     "data": {
      "image/png": "[encoded data removed]",
      "text/plain": [
       "<Figure size 432x288 with 1 Axes>"
      ]
     },
     "metadata": {
      "needs_background": "light"
     },
     "output_type": "display_data"
    }
   ],
   "source": [
    "fig, ax = subplots()\n",
    "kmf1.plot_loglogs(ax=ax)\n",
    "kmf0.plot_loglogs(ax=ax)"
   ]
  },
  {
   "cell_type": "code",
   "execution_count": 42,
   "metadata": {},
   "outputs": [
    {
     "data": {
      "text/plain": [
       "Text(0.5, 0, 'weeks')"
      ]
     },
     "execution_count": 42,
     "metadata": {},
     "output_type": "execute_result"
    },
    {
     "data": {
      "image/png": "[encoded data removed]",
      "text/plain": [
       "<Figure size 432x288 with 1 Axes>"
      ]
     },
     "metadata": {
      "needs_background": "light"
     },
     "output_type": "display_data"
    }
   ],
   "source": [
    "fig, ax = subplots()\n",
    "kmf1.plot_survival_function(ax=ax)\n",
    "kmf0.plot_survival_function(ax=ax)\n",
    "ax.set_title('Kaplan-Meier survival curves',fontsize=18)\n",
    "ax.set_ylabel('Survival probability',fontsize=16)\n",
    "ax.set_xlabel('weeks',fontsize=16)"
   ]
  },
  {
   "cell_type": "code",
   "execution_count": 53,
   "metadata": {},
   "outputs": [
    {
     "data": {
      "text/plain": [
       "<matplotlib.axes._subplots.AxesSubplot at 0x7f010cbedda0>"
      ]
     },
     "execution_count": 53,
     "metadata": {},
     "output_type": "execute_result"
    },
    {
     "data": {
      "image/png": "[encoded data removed]",
      "text/plain": [
       "<Figure size 432x288 with 1 Axes>"
      ]
     },
     "metadata": {
      "needs_background": "light"
     },
     "output_type": "display_data"
    }
   ],
   "source": [
    "fig,ax=subplots()\n",
    "cph.predict_survival_function(rossi_dataset.iloc[:3,:]).plot(ax=ax)"
   ]
  },
  {
   "cell_type": "code",
   "execution_count": null,
   "metadata": {},
   "outputs": [],
   "source": []
  }
 ],
 "metadata": {
  "kernelspec": {
   "display_name": "Python 3",
   "language": "python",
   "name": "python3"
  },
  "language_info": {
   "codemirror_mode": {
    "name": "ipython",
    "version": 3
   },
   "file_extension": ".py",
   "mimetype": "text/x-python",
   "name": "python",
   "nbconvert_exporter": "python",
   "pygments_lexer": "ipython3",
   "version": "3.6.8"
  }
 },
 "nbformat": 4,
 "nbformat_minor": 2
}
